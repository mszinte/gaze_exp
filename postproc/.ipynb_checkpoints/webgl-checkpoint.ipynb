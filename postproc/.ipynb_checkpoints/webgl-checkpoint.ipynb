{
 "cells": [
  {
   "cell_type": "markdown",
   "id": "4e9e8149",
   "metadata": {},
   "source": [
    "### Analysis description\n",
    "Push static webgl on invibe server."
   ]
  },
  {
   "cell_type": "code",
   "execution_count": 3,
   "id": "f0f218d8",
   "metadata": {},
   "outputs": [],
   "source": [
    "# Imports\n",
    "import os\n",
    "import warnings\n",
    "import cortex\n",
    "from pathlib import Path\n",
    "warnings.filterwarnings('ignore')\n",
    "\n",
    "# Define parameters\n",
    "subjects = ['sub-001','sub-002']\n",
    "\n",
    "# Define folders\n",
    "base_dir = '/scratch/mszinte/data/gaze_exp'\n"
   ]
  },
  {
   "cell_type": "code",
   "execution_count": 11,
   "id": "aa113865",
   "metadata": {
    "tags": []
   },
   "outputs": [
    {
     "name": "stdout",
     "output_type": "stream",
     "text": [
      "Put this in terminal\n",
      "\n",
      "rsync -avuz --progress /home/mszinte/projects/gaze_exp/postproc/index.html admin@invibe.nohost.me:/var/www/my_webapp__4/www/sub-001/\n",
      "rsync -avuz --progress /scratch/mszinte/data/gaze_exp/derivatives/webgl_data/sub-001/ admin@invibe.nohost.me:/var/www/my_webapp__4/www/sub-001/\n",
      "\n",
      "go to : https://invibe.nohost.me/gazeprf/sub-001/\n",
      "\n",
      "Put this in terminal\n",
      "\n",
      "rsync -avuz --progress /home/mszinte/projects/gaze_exp/postproc/index.html admin@invibe.nohost.me:/var/www/my_webapp__4/www/sub-002/\n",
      "rsync -avuz --progress /scratch/mszinte/data/gaze_exp/derivatives/webgl_data/sub-002/ admin@invibe.nohost.me:/var/www/my_webapp__4/www/sub-002/\n",
      "\n",
      "go to : https://invibe.nohost.me/gazeprf/sub-002/\n",
      "\n"
     ]
    }
   ],
   "source": [
    "for subject in subjects:\n",
    "\n",
    "    # define folders\n",
    "    index_dir = '/home/mszinte/projects/gaze_exp/postproc/index.html'\n",
    "    webgl_dir = '{}/derivatives/webgl_data/{}/'.format(base_dir, subject)\n",
    "    webapp_dir = \"admin@invibe.nohost.me:/var/www/my_webapp__4/www/{}/\".format(subject)\n",
    "    \n",
    "    # Send to webapp\n",
    "    print('Put this in terminal\\n')\n",
    "    print('rsync -avuz --progress {} {}'.format(index_dir, webapp_dir))\n",
    "    print('rsync -avuz --progress {local_dir} {webapp_dir}'.format(local_dir=webgl_dir, webapp_dir=webapp_dir))\n",
    "    print('\\ngo to : https://invibe.nohost.me/gazeprf/{}/\\n'.format(subject))\n",
    "\n",
    "#os.system('ssh admin@invibe.nohost.me chmod -v -R 777 /var/www/my_webapp__4')\n"
   ]
  },
  {
   "cell_type": "code",
   "execution_count": null,
   "id": "c87caf51",
   "metadata": {},
   "outputs": [],
   "source": []
  }
 ],
 "metadata": {
  "kernelspec": {
   "display_name": "mszinte",
   "language": "python",
   "name": "mszinte"
  },
  "language_info": {
   "codemirror_mode": {
    "name": "ipython",
    "version": 3
   },
   "file_extension": ".py",
   "mimetype": "text/x-python",
   "name": "python",
   "nbconvert_exporter": "python",
   "pygments_lexer": "ipython3",
   "version": "3.9.12"
  }
 },
 "nbformat": 4,
 "nbformat_minor": 5
}
