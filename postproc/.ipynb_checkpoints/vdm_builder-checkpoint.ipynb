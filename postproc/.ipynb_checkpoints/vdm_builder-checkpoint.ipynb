{
 "cells": [
  {
   "cell_type": "markdown",
   "id": "6ec448e4-53f9-4aa6-8d2a-6baba4dc80f2",
   "metadata": {
    "tags": []
   },
   "source": [
    "# vdm_builder\n",
    "*Created by: Adrien Chopin, 2022*</br>\n",
    "*Modified by: Martin Szinte (mail@martinszinte.net), 2022*</br>\n",
    "**This function creates a slack of images (n-by-n pixels nd-array with time as a 3d dimension),</br> \n",
    "generating the visual design of a pRF experiment. The time unit is in TR (half-TR are tolerated). </br>\n",
    "Bars are coded 1 and background 0. Note that the bar will start its pass at the tip of the aperture.**\n",
    "\n",
    "It saves the result in an numpy nd-array and a video with timing in sec."
   ]
  },
  {
   "cell_type": "code",
   "execution_count": 1,
   "id": "4539a01e-4e3f-4806-9081-98bec3bf4557",
   "metadata": {
    "tags": []
   },
   "outputs": [],
   "source": [
    "# Imports\n",
    "import numpy as np\n",
    "import math\n",
    "import cv2\n",
    "import os\n",
    "import json\n",
    "import sys\n",
    "sys.path.append(\"{}/../utils\".format(os.getcwd()))\n",
    "from conversion_utils import conversion"
   ]
  },
  {
   "cell_type": "code",
   "execution_count": 2,
   "id": "740a2124-26c6-471d-9230-e794defe491e",
   "metadata": {
    "tags": []
   },
   "outputs": [
    {
     "name": "stdout",
     "output_type": "stream",
     "text": [
      "/home/ulascombes/disks/meso_shared/gaze_exp/derivatives/vdm/vdm.npy\n",
      "/home/ulascombes/disks/meso_shared/gaze_exp/derivatives/vdm/vdm.mp4\n"
     ]
    }
   ],
   "source": [
    "# File and path names\n",
    "project_dir = os.path.expanduser('~/disks/meso_shared/gaze_exp/')\n",
    "rootpath = os.path.join(project_dir,'derivatives','vdm') # data directory\n",
    "fileName = 'vdm'\n",
    "filepath = os.path.join(rootpath,fileName+'.npy')\n",
    "videopath = os.path.join(rootpath,fileName+'.mp4')\n",
    "group = 327\n",
    "os.makedirs(rootpath, exist_ok=True)\n",
    "\n",
    "print(filepath)\n",
    "print(videopath)"
   ]
  },
  {
   "cell_type": "code",
   "execution_count": 3,
   "id": "065c0294-e286-4b92-b10e-bd94ea7aed5b",
   "metadata": {
    "tags": []
   },
   "outputs": [],
   "source": [
    "# Get experiment settings\n",
    "with open('../settings.json') as f:\n",
    "    json_s = f.read()\n",
    "    analysis_info = json.loads(json_s)\n",
    "\n",
    "# screen_converter is a class allowing conversions, given the screen size in pixels and in cm and the distance to screen in cm\n",
    "screen_converter = conversion(screen_size_pix = analysis_info['screen_size_pix'], \n",
    "                      screen_size_cm = analysis_info['screen_size_cm'],\n",
    "                      screen_distance_cm = analysis_info['screen_distance_cm'])\n",
    "TR = analysis_info['TR'] # in sec\n",
    "n = analysis_info['screen_size_pix'][1] # screen height in pixels - we will create a n-by-n-pixel matrix \n",
    "vdm_size_pix = analysis_info['vdm_size_pix'] # size in pixels of the downsampled stimulus\n",
    "TRs = analysis_info['TRs'] # nb of TRs\n",
    "apperture_rad_dva = analysis_info['apperture_rad_dva'] # radius in deg of visual angle for the stimulus aperture\n",
    "apperture_rad_pix = round(np.array([screen_converter.dva2pix(apperture_rad_dva)[0],screen_converter.dva2pix(apperture_rad_dva)[1]]).mean()) # radius in pixels for the stimulus aperture\n",
    "bar_length_pix = apperture_rad_pix  # length of the bar in pix\n",
    "bar_width_dva = analysis_info['bar_width_dva']  # width of the bar in visual angle\n",
    "bar_width_pix = round(np.array(screen_converter.dva2pix(bar_width_dva)[0],screen_converter.dva2pix(bar_width_dva)[1]).mean()) # width of the bar in pix\n",
    "\n",
    "pass_duration = 13 # duration of a bar pass in TR\n",
    "blank_duration = 6.5 # duration of a blank between bar pass in TR\n",
    "delays = [5, 6.5]    # delays in TR at start and end of scan\n",
    "bar_list = np.array([1,0,2,0,3,0,4])  # order list of bar pass directions, coded as follows, with the corresponding angle\n",
    " #   0. Blank pass: do not code the first and last blank delays because we will add some / angle none\n",
    " #   1. LL_UR: from lower left to upper right / angle 45°\n",
    " #   2. Right: from left to right / angle 0°\n",
    " #   3. Up: from down to up / 90°\n",
    " #   4. LR_UL: from lower right to upper left / 135°\n",
    " #   5. UR_LL: from upper right to lower left / 225°\n",
    " #   6. Left: from right to left / 180°\n",
    " #   7. Down: from up to down / 270°\n",
    " #   8. UL_LR: from upper left to lower right / 315°\n",
    "list_angles = np.array([np.nan, 180, 270, 90 ]) # list of angles corresponding to bar list 1 to 8"
   ]
  },
  {
   "cell_type": "code",
   "execution_count": 4,
   "id": "ad7eb267-9ba2-412f-aba8-7e25e41f6e2f",
   "metadata": {
    "tags": []
   },
   "outputs": [],
   "source": [
    "# Create a meshgrid of image coordinates x, y, a list of angles by TR\n",
    "\n",
    "# image coordinates meshgrid\n",
    "x, y = np.meshgrid(range(0,n), range(0,n))\n",
    "     \n",
    "# create a list of half TR list with bar pass angles\n",
    "angle_list = list_angles[bar_list];\n",
    "angle_halfTR = np.empty((1,2*TRs[0])); angle_halfTR.fill(np.nan)\n",
    "head = 0; newhead = 2*delays[0];\n",
    "angle_halfTR[0,head:newhead]=np.nan\n",
    "for i in angle_list:\n",
    "    head = newhead\n",
    "    if np.isnan(i):\n",
    "        newhead=int(head+2*blank_duration)\n",
    "    else:\n",
    "        newhead=int(head+2*pass_duration) \n",
    "    angle_halfTR[0,head:newhead]=i\n",
    "angle_halfTR[0,newhead:]=np.nan"
   ]
  },
  {
   "cell_type": "code",
   "execution_count": 5,
   "id": "49df06fd-89d1-4575-bd91-13610a3ae355",
   "metadata": {
    "tags": []
   },
   "outputs": [],
   "source": [
    "# Define the function that will draw the frames from the bar position\n",
    "def draw_frame(x,y,position,n,bar_length_pix,bar_width_pix,angle,apperture_rad_pix):\n",
    "    frame = np.zeros((n,n)) #create n-by-n blank frame\n",
    "    center_x = round(n/2)\n",
    "    center_y = round(n/2)\n",
    "    if ((position[0]-center_x)!=0) & ((position[1]-center_y)!=0):\n",
    "        position_to_center_line_slope = (position[1]-center_y)/(position[0]-center_x) # slope of the line connecting center of bar and center of screen\n",
    "        a = -1/position_to_center_line_slope                                          # obtaining the slope of the perpendicular to that line, passing by center of bar (using opposite reciprocal)\n",
    "        b_low = (position[1]-np.sin(np.radians(angle))*bar_width_pix/2)-a*(position[0]-np.cos(np.radians(angle))*bar_width_pix/2)         # intercept of the line for the lower part of the bar is equal to b = y - ax\n",
    "        b_up = (position[1]+np.sin(np.radians(angle))*bar_width_pix/2)-a*(position[0]+np.cos(np.radians(angle))*bar_width_pix/2)          # intercept of the line for the upper part of the bar is equal to b = y - ax\n",
    "        frame[(y>(a*x+min(b_low,b_up)))&(y<(a*x+max(b_low,b_up)))]=1\n",
    "    else:\n",
    "        if (position[0]-center_x)==0:\n",
    "            frame[(y>(position[1]-bar_width_pix/2))&(y<(position[1]+bar_width_pix/2))]=1\n",
    "        elif (position[1]-center_y)==0:\n",
    "            frame[(x>(position[0]-bar_width_pix/2))&(x<(position[0]+bar_width_pix/2))]=1\n",
    "        else:\n",
    "            print('oops!')\n",
    "    # apply aperture\n",
    "    frame[((x-center_x)**2+(y-center_y)**2)>apperture_rad_pix**2]=0\n",
    "    return frame"
   ]
  },
  {
   "cell_type": "code",
   "execution_count": 6,
   "id": "aa6c0d27-b402-4319-9f92-cb1355ebd799",
   "metadata": {
    "tags": []
   },
   "outputs": [
    {
     "name": "stdout",
     "output_type": "stream",
     "text": [
      "Done direction angle 0.0\n",
      "Done direction angle 90.0\n",
      "Done direction angle 135.0\n",
      "Done direction angle 225.0\n",
      "Done direction angle 180.0\n",
      "Done direction angle 270.0\n",
      "Done direction angle 315.0\n"
     ]
    }
   ],
   "source": [
    "# Initialize frames and run through the list of angles to create the frames\n",
    "\n",
    "#initialization\n",
    "current_angle = np.nan\n",
    "center_x = round(n/2)\n",
    "center_y = round(n/2)\n",
    "list_im=np.array([])\n",
    "\n",
    "# initialize frames with blank frames\n",
    "frames = np.zeros((n,n,2*TRs[0]));\n",
    "\n",
    "# main loop\n",
    "for i in range(0,np.size(angle_halfTR)):\n",
    "    angle = angle_halfTR[0,i]\n",
    "    if ~np.isnan(angle): # this is a barpass! (if not, let's keep the blank frame)\n",
    "        # first check whether it is a new barpass or not\n",
    "        if angle!=current_angle: # this is a new barpass!\n",
    "            current_angle = angle\n",
    "            #starting position for the bar\n",
    "            start_position = np.array([center_x, center_y])+(apperture_rad_pix+bar_width_pix/2)*np.array([math.cos(math.radians(current_angle+180)),math.sin(math.radians(current_angle+180))]) \n",
    "            end_position = np.array([center_x, center_y])+(apperture_rad_pix+bar_width_pix/2)*np.array([math.cos(math.radians(current_angle)),math.sin(math.radians(current_angle))])\n",
    "            distance = end_position - start_position\n",
    "            step = distance/(2*pass_duration-1) # n-1 steps\n",
    "            position = start_position\n",
    "            list_im=np.append(list_im,i)\n",
    "            print('Done direction angle '+str(angle))\n",
    "        else:\n",
    "            # determine the current x,y position of the barpass\n",
    "            position = position + step    # this one is not rounded to avoid accumulating rounding error\n",
    "        position_rnd = position.round() \n",
    "        frames[:,:,i]=draw_frame(x,y,position_rnd,n,bar_length_pix,bar_width_pix,angle,apperture_rad_pix)\n",
    "\n",
    "# only save the full TR, not the half-TR\n",
    "frames = frames[:,:,0::2]"
   ]
  },
  {
   "cell_type": "code",
   "execution_count": 7,
   "id": "1f4a5465-ad4c-4224-9c93-d4b26d81e03f",
   "metadata": {
    "tags": []
   },
   "outputs": [],
   "source": [
    "# Downsampling: resize the frames\n",
    "frames_reshape = np.zeros((vdm_size_pix[0],vdm_size_pix[1],TRs[0]))\n",
    "for k in range(frames_reshape.shape[-1]):\n",
    "    frames_reshape[:,:,k] = cv2.resize(frames[:,:,k], dsize=(vdm_size_pix[0], vdm_size_pix[1]), interpolation=cv2.INTER_NEAREST)\n",
    "frames = frames_reshape\n",
    "\n",
    "# inverse y axis\n",
    "frames_rotate = np.zeros((vdm_size_pix[0],vdm_size_pix[1],TRs[0]))\n",
    "for num, frame in enumerate(np.split(frames, TRs[0], axis=2)):\n",
    "    frames_rotate[:,:,num] = frame[-1::-1,:,0]\n",
    "frames = frames_rotate"
   ]
  },
  {
   "cell_type": "code",
   "execution_count": 8,
   "id": "d788727c-18e2-47bc-a80f-5a38f1689952",
   "metadata": {
    "tags": []
   },
   "outputs": [
    {
     "name": "stdout",
     "output_type": "stream",
     "text": [
      "Video conversion done, save to:/home/ulascombes/disks/meso_shared/gaze_exp/derivatives/vdm/vdm.mp4\n"
     ]
    }
   ],
   "source": [
    "# export a video with timing in sec\n",
    "fourcc = cv2.VideoWriter_fourcc(*'mp4v')\n",
    "out = cv2.VideoWriter(videopath, fourcc, 1/TR, (vdm_size_pix[0], vdm_size_pix[1]), False)\n",
    "[out.write(np.uint8(frame*255)) for frame in np.split(frames, TRs, axis=2)]\n",
    "out.release()\n",
    "print('Video conversion done, save to:'+videopath)"
   ]
  },
  {
   "cell_type": "code",
   "execution_count": 9,
   "id": "4eaac52c-3658-4507-a892-54c04d49ac47",
   "metadata": {
    "tags": []
   },
   "outputs": [
    {
     "name": "stdout",
     "output_type": "stream",
     "text": [
      "Data saved to :/home/ulascombes/disks/meso_shared/gaze_exp/derivatives/vdm/vdm.npy\n"
     ]
    }
   ],
   "source": [
    "# save numpy array\n",
    "np.save(filepath,frames)\n",
    "print('Data saved to :'+filepath)"
   ]
  },
  {
   "cell_type": "code",
   "execution_count": null,
   "id": "97c944a9-070c-410f-9cc8-dcfbc506d54b",
   "metadata": {},
   "outputs": [],
   "source": []
  }
 ],
 "metadata": {
  "kernelspec": {
   "display_name": "ulascombes",
   "language": "python",
   "name": "ulascombes"
  },
  "language_info": {
   "codemirror_mode": {
    "name": "ipython",
    "version": 3
   },
   "file_extension": ".py",
   "mimetype": "text/x-python",
   "name": "python",
   "nbconvert_exporter": "python",
   "pygments_lexer": "ipython3",
   "version": "3.9.13"
  }
 },
 "nbformat": 4,
 "nbformat_minor": 5
}
