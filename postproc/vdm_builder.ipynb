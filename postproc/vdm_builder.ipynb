{
 "cells": [
  {
   "cell_type": "code",
   "execution_count": 1,
   "id": "f187975a-9b74-4905-9c61-87ae1f05ee80",
   "metadata": {
    "tags": []
   },
   "outputs": [],
   "source": [
    "# General imports \n",
    "import cv2\n",
    "import numpy as np"
   ]
  },
  {
   "cell_type": "code",
   "execution_count": 2,
   "id": "e6dfca28-fb5d-48ec-a7b3-01c68caf3e9b",
   "metadata": {},
   "outputs": [],
   "source": [
    "# Define directories \n",
    "\n",
    "vid_or_dir = '/home/ulascombes/disks/meso_shared/gaze_exp/derivatives/vdm'\n",
    "vid_or_name = 'GazeCenterFS_vid.mp4'\n",
    "new_vid_dir = '/home/ulascombes/disks/meso_shared/gaze_exp/derivatives/vdm'\n",
    "new_vid_name = 'vdm.mp4'\n",
    "matrix_name = 'vdm.npy'\n",
    "\n",
    "# Settings\n",
    "TR = 1.3\n",
    "video_size = [140,140]"
   ]
  },
  {
   "cell_type": "code",
   "execution_count": 3,
   "id": "59bc3812-2b5f-482f-b24a-7d4cad503ed6",
   "metadata": {
    "tags": []
   },
   "outputs": [],
   "source": [
    "def matrix_builder(video_path, Tr):\n",
    "    # Open video\n",
    "    cap = cv2.VideoCapture(video_path)\n",
    "    \n",
    "    # Get video dimensions and frame rate\n",
    "    frame_width = int(cap.get(3))\n",
    "    frame_height = int(cap.get(4))\n",
    "    fps = cap.get(cv2.CAP_PROP_FPS)\n",
    "    \n",
    "    # Calculate sampling interval in number of frames\n",
    "    skip_frames = int(fps * Tr)\n",
    "\n",
    "    # Initialize numpy array to store sampled frames\n",
    "    num_frames = int(cap.get(cv2.CAP_PROP_FRAME_COUNT))\n",
    "    num_sampled_frames = int(num_frames / skip_frames) \n",
    "    frames_np = np.zeros((frame_height, frame_width, num_sampled_frames), dtype=np.uint8)\n",
    "    \n",
    "    # Loop over frames in the video\n",
    "    i = 0\n",
    "    while(cap.isOpened()):\n",
    "        ret, frame = cap.read()\n",
    "        \n",
    "        if not ret:\n",
    "            break\n",
    "        \n",
    "        # Convert frame to grayscale\n",
    "        frame_gray = cv2.cvtColor(frame, cv2.COLOR_BGR2GRAY)\n",
    "        \n",
    "        # Sample frame\n",
    "        if i % skip_frames == 0:\n",
    "            frames_np[:,:,int(i/skip_frames)] = frame_gray\n",
    "        \n",
    "        i += 1\n",
    "        \n",
    "    # Release resources\n",
    "    cap.release()\n",
    "    \n",
    "    # Convert to binary\n",
    "    frames_binary = (frames_np > 5).astype(np.uint8)\n",
    "    \n",
    "    return frames_binary"
   ]
  },
  {
   "cell_type": "code",
   "execution_count": 4,
   "id": "9e40e5ec-5c41-4f98-b03f-b2b1e96b0361",
   "metadata": {
    "tags": []
   },
   "outputs": [],
   "source": [
    "#run matrix_builder\n",
    "vdm_array = matrix_builder('{}/{}'.format(vid_or_dir,vid_or_name), TR)"
   ]
  },
  {
   "cell_type": "code",
   "execution_count": 5,
   "id": "f8ccba62-ca6a-400e-82ba-81170767a278",
   "metadata": {
    "tags": []
   },
   "outputs": [],
   "source": [
    "# make a blank matrix to resize \n",
    "height_to_add = int((np.shape(vdm_array)[1]-np.shape(vdm_array)[0])/2)\n",
    "add = np.zeros([height_to_add,np.shape(vdm_array)[1],np.shape(vdm_array)[2]])\n",
    "\n",
    "#make concatenation \n",
    "add_top = np.concatenate((vdm_array,add), axis=0)\n",
    "vdm_array_tot = np.concatenate((add,add_top), axis=0)"
   ]
  },
  {
   "cell_type": "code",
   "execution_count": 12,
   "id": "974aaf15-346d-4ce7-ba00-0ca15f359294",
   "metadata": {
    "tags": []
   },
   "outputs": [],
   "source": [
    "def video_builder(frames_np, Tr,vdm_size_pix, video_path):\n",
    "    \n",
    "    # Downsampling: resize the frames\n",
    "    frames_reshape = np.zeros((vdm_size_pix[0],vdm_size_pix[1],np.shape(vdm_array)[2]))\n",
    "    for k in range(frames_reshape.shape[-1]):\n",
    "        frames_reshape[:,:,k] = cv2.resize(frames_np[:,:,k], dsize=(vdm_size_pix[0], vdm_size_pix[1]), interpolation=cv2.INTER_NEAREST)\n",
    "    frames = frames_reshape\n",
    "    \n",
    "    # matrix shapes\n",
    "    frame_height, frame_width, num_frames = frames.shape\n",
    "    \n",
    "    # make empty video\n",
    "    fourcc = cv2.VideoWriter_fourcc(*'mp4v')\n",
    "    fps = 1/Tr\n",
    "    video = cv2.VideoWriter(video_path, fourcc, fps, (frame_width, frame_height))\n",
    "    \n",
    "    # fill the video\n",
    "    for i in range(num_frames):\n",
    "        frame = np.uint8(frames[:, :, i] * 255)\n",
    "        frame = cv2.cvtColor(frame, cv2.COLOR_GRAY2BGR)\n",
    "        video.write(frame)\n",
    "    \n",
    "    # Save numpy matrix\n",
    "    np.save('{}/{}'.format(new_vid_dir,matrix_name),frames)\n",
    "\n",
    "    # Ressources release    \n",
    "    video.release()"
   ]
  },
  {
   "cell_type": "code",
   "execution_count": 11,
   "id": "037bd8dc-688c-4889-aea8-95687b6126f7",
   "metadata": {
    "tags": []
   },
   "outputs": [],
   "source": [
    "# run video_builder\n",
    "video_builder(vdm_array_tot,TR,video_size,'{}/{}'.format(new_vid_dir,new_vid_name))"
   ]
  },
  {
   "cell_type": "code",
   "execution_count": null,
   "id": "bd1508fc-cc1b-4704-8a5a-5de58df3773a",
   "metadata": {},
   "outputs": [],
   "source": []
  }
 ],
 "metadata": {
  "kernelspec": {
   "display_name": "ulascombes",
   "language": "python",
   "name": "ulascombes"
  },
  "language_info": {
   "codemirror_mode": {
    "name": "ipython",
    "version": 3
   },
   "file_extension": ".py",
   "mimetype": "text/x-python",
   "name": "python",
   "nbconvert_exporter": "python",
   "pygments_lexer": "ipython3",
   "version": "3.9.13"
  }
 },
 "nbformat": 4,
 "nbformat_minor": 5
}
