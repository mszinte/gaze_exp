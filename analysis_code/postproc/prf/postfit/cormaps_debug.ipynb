{
 "cells": [
  {
   "cell_type": "markdown",
   "id": "44633bdc-7f31-42a3-935c-1ffd7a710369",
   "metadata": {},
   "source": [
    "## Rationale\n",
    "Show, on the surface, where this full-darkness experiments produces time-structured signals.  <br/>\n",
    "We will use model-free analysis (simple correlation between tasks) that shows us where we have explainable signals,  <br/>\n",
    "these are the signals we will need to start explaining in the next step.  <br/>\n",
    "\n",
    "## Analsyis steps\n",
    "\n",
    "### GazeCW/GazeCCW task\n",
    "- [x] Load GazeCW and GazeCCW data\n",
    "- [ ] Mask all data with brain mask\n",
    "- [ ] Deal with fold permutations\n",
    "- [ ] Do all dot products\n",
    "- [ ] Average dot products maps\n",
    "- [ ] Plot averaged dot product maps on flatmap\n"
   ]
  },
  {
   "cell_type": "code",
   "execution_count": 1,
   "id": "88b982c2-a026-43bb-9cd9-917cabfdbcdd",
   "metadata": {},
   "outputs": [],
   "source": [
    "# Imports\n",
    "import os\n",
    "import numpy as np\n",
    "import nibabel as nb\n",
    "import pandas as pd\n",
    "import glob\n",
    "import itertools as it"
   ]
  },
  {
   "cell_type": "code",
   "execution_count": 21,
   "id": "095c3706-4207-40f5-9c34-0fd88483acc6",
   "metadata": {},
   "outputs": [],
   "source": [
    "# Define folders, subjects, tasks\n",
    "base_dir = '/home/mszinte/disks/meso_S/data/gaze_exp'\n",
    "pp_dir = \"{}/derivatives/pybest/\".format(base_dir)\n",
    "\n",
    "subjects = ['sub-002']\n",
    "task_set1 = ['GazeCW', 'GazeCCW']\n",
    "task_set2 = ['GazeColumns', 'GazeLines']\n",
    "task_sets = [task_set1,task_set2]\n",
    "sessions = ['ses-04','ses-05']"
   ]
  },
  {
   "cell_type": "code",
   "execution_count": 22,
   "id": "5b7a70cf-233b-47d7-a23c-20c1fcf52713",
   "metadata": {},
   "outputs": [],
   "source": [
    "# get files\n",
    "subject = 'sub-002'\n",
    "task_set = task_set2\n",
    "session = 'ses-05'\n",
    "\n",
    "# task1\n",
    "task1_data_fns = glob.glob('{pp}/{sub}/{ses}/preproc/{sub}_{ses}_task-{task}_run-*_space-T1w_desc-preproc_bold.nii.gz'.format(\n",
    "                        pp=pp_dir, sub=subject, ses=session, task=task_set[0]))\n",
    "task1_run_num = len(task1_data_fns)\n",
    "task1_runs = ['task-{}-run-{}'.format(task_set[0],run_num+1) for run_num in np.arange(0,task1_run_num)]\n",
    "task1_loo_avg_groups = list(it.combinations(task1_runs, task1_run_num-1))\n",
    "\n",
    "# task2\n",
    "task2_data_fns = glob.glob('{pp}/{sub}/{ses}/preproc/{sub}_{ses}_task-{task}_run-*_space-T1w_desc-preproc_bold.nii.gz'.format(\n",
    "                        pp=pp_dir, sub=subject, ses=session, task=task_set[1]))\n",
    "task2_run_num = len(task2_data_fns)\n",
    "task2_runs = ['task-{}-run-{}'.format(task_set[1],run_num+1) for run_num in np.arange(0,task2_run_num)]\n",
    "task2_loo_avg_groups = list(it.combinations(task2_runs, task2_run_num-1))\n",
    "\n",
    "# get comparisons\n",
    "tasks_cor_groups = list(it.product(task1_loo_avg_groups,task2_loo_avg_groups))"
   ]
  },
  {
   "cell_type": "code",
   "execution_count": 23,
   "id": "f9247f3c-894e-4c5f-993a-238017757783",
   "metadata": {},
   "outputs": [
    {
     "name": "stdout",
     "output_type": "stream",
     "text": [
      "Leave-one-out averaging combination: 1\n",
      "Task 1: load + avg task-GazeColumns-run-1\n",
      "Task 1: load + avg task-GazeColumns-run-2\n",
      "Task 1: load + avg task-GazeColumns-run-3\n",
      "Task 2: load + avg task-GazeLines-run-1\n",
      "Task 2: load + avg task-GazeLines-run-2\n",
      "Task 2: load + avg task-GazeLines-run-3\n",
      "compute correlation\n",
      "Leave-one-out averaging combination: 2\n",
      "Task 1: load + avg task-GazeColumns-run-1\n",
      "Task 1: load + avg task-GazeColumns-run-2\n",
      "Task 1: load + avg task-GazeColumns-run-3\n",
      "Task 2: load + avg task-GazeLines-run-1\n",
      "Task 2: load + avg task-GazeLines-run-2\n",
      "Task 2: load + avg task-GazeLines-run-4\n",
      "compute correlation\n",
      "Leave-one-out averaging combination: 3\n",
      "Task 1: load + avg task-GazeColumns-run-1\n",
      "Task 1: load + avg task-GazeColumns-run-2\n",
      "Task 1: load + avg task-GazeColumns-run-3\n",
      "Task 2: load + avg task-GazeLines-run-1\n",
      "Task 2: load + avg task-GazeLines-run-3\n",
      "Task 2: load + avg task-GazeLines-run-4\n",
      "compute correlation\n",
      "Leave-one-out averaging combination: 4\n",
      "Task 1: load + avg task-GazeColumns-run-1\n",
      "Task 1: load + avg task-GazeColumns-run-2\n",
      "Task 1: load + avg task-GazeColumns-run-3\n",
      "Task 2: load + avg task-GazeLines-run-2\n",
      "Task 2: load + avg task-GazeLines-run-3\n",
      "Task 2: load + avg task-GazeLines-run-4\n",
      "compute correlation\n",
      "Leave-one-out averaging combination: 5\n",
      "Task 1: load + avg task-GazeColumns-run-1\n",
      "Task 1: load + avg task-GazeColumns-run-2\n",
      "Task 1: load + avg task-GazeColumns-run-4\n",
      "Task 2: load + avg task-GazeLines-run-1\n",
      "Task 2: load + avg task-GazeLines-run-2\n",
      "Task 2: load + avg task-GazeLines-run-3\n",
      "compute correlation\n",
      "Leave-one-out averaging combination: 6\n",
      "Task 1: load + avg task-GazeColumns-run-1\n",
      "Task 1: load + avg task-GazeColumns-run-2\n",
      "Task 1: load + avg task-GazeColumns-run-4\n",
      "Task 2: load + avg task-GazeLines-run-1\n",
      "Task 2: load + avg task-GazeLines-run-2\n",
      "Task 2: load + avg task-GazeLines-run-4\n",
      "compute correlation\n",
      "Leave-one-out averaging combination: 7\n",
      "Task 1: load + avg task-GazeColumns-run-1\n",
      "Task 1: load + avg task-GazeColumns-run-2\n",
      "Task 1: load + avg task-GazeColumns-run-4\n",
      "Task 2: load + avg task-GazeLines-run-1\n",
      "Task 2: load + avg task-GazeLines-run-3\n",
      "Task 2: load + avg task-GazeLines-run-4\n",
      "compute correlation\n",
      "Leave-one-out averaging combination: 8\n",
      "Task 1: load + avg task-GazeColumns-run-1\n",
      "Task 1: load + avg task-GazeColumns-run-2\n",
      "Task 1: load + avg task-GazeColumns-run-4\n",
      "Task 2: load + avg task-GazeLines-run-2\n",
      "Task 2: load + avg task-GazeLines-run-3\n",
      "Task 2: load + avg task-GazeLines-run-4\n",
      "compute correlation\n",
      "Leave-one-out averaging combination: 9\n",
      "Task 1: load + avg task-GazeColumns-run-1\n",
      "Task 1: load + avg task-GazeColumns-run-3\n",
      "Task 1: load + avg task-GazeColumns-run-4\n",
      "Task 2: load + avg task-GazeLines-run-1\n",
      "Task 2: load + avg task-GazeLines-run-2\n",
      "Task 2: load + avg task-GazeLines-run-3\n",
      "compute correlation\n",
      "Leave-one-out averaging combination: 10\n",
      "Task 1: load + avg task-GazeColumns-run-1\n",
      "Task 1: load + avg task-GazeColumns-run-3\n",
      "Task 1: load + avg task-GazeColumns-run-4\n",
      "Task 2: load + avg task-GazeLines-run-1\n",
      "Task 2: load + avg task-GazeLines-run-2\n",
      "Task 2: load + avg task-GazeLines-run-4\n",
      "compute correlation\n",
      "Leave-one-out averaging combination: 11\n",
      "Task 1: load + avg task-GazeColumns-run-1\n",
      "Task 1: load + avg task-GazeColumns-run-3\n",
      "Task 1: load + avg task-GazeColumns-run-4\n",
      "Task 2: load + avg task-GazeLines-run-1\n",
      "Task 2: load + avg task-GazeLines-run-3\n",
      "Task 2: load + avg task-GazeLines-run-4\n",
      "compute correlation\n",
      "Leave-one-out averaging combination: 12\n",
      "Task 1: load + avg task-GazeColumns-run-1\n",
      "Task 1: load + avg task-GazeColumns-run-3\n",
      "Task 1: load + avg task-GazeColumns-run-4\n",
      "Task 2: load + avg task-GazeLines-run-2\n",
      "Task 2: load + avg task-GazeLines-run-3\n",
      "Task 2: load + avg task-GazeLines-run-4\n",
      "compute correlation\n",
      "Leave-one-out averaging combination: 13\n",
      "Task 1: load + avg task-GazeColumns-run-2\n",
      "Task 1: load + avg task-GazeColumns-run-3\n",
      "Task 1: load + avg task-GazeColumns-run-4\n",
      "Task 2: load + avg task-GazeLines-run-1\n",
      "Task 2: load + avg task-GazeLines-run-2\n",
      "Task 2: load + avg task-GazeLines-run-3\n",
      "compute correlation\n",
      "Leave-one-out averaging combination: 14\n",
      "Task 1: load + avg task-GazeColumns-run-2\n",
      "Task 1: load + avg task-GazeColumns-run-3\n",
      "Task 1: load + avg task-GazeColumns-run-4\n",
      "Task 2: load + avg task-GazeLines-run-1\n",
      "Task 2: load + avg task-GazeLines-run-2\n",
      "Task 2: load + avg task-GazeLines-run-4\n",
      "compute correlation\n",
      "Leave-one-out averaging combination: 15\n",
      "Task 1: load + avg task-GazeColumns-run-2\n",
      "Task 1: load + avg task-GazeColumns-run-3\n",
      "Task 1: load + avg task-GazeColumns-run-4\n",
      "Task 2: load + avg task-GazeLines-run-1\n",
      "Task 2: load + avg task-GazeLines-run-3\n",
      "Task 2: load + avg task-GazeLines-run-4\n",
      "compute correlation\n",
      "Leave-one-out averaging combination: 16\n",
      "Task 1: load + avg task-GazeColumns-run-2\n",
      "Task 1: load + avg task-GazeColumns-run-3\n",
      "Task 1: load + avg task-GazeColumns-run-4\n",
      "Task 2: load + avg task-GazeLines-run-2\n",
      "Task 2: load + avg task-GazeLines-run-3\n",
      "Task 2: load + avg task-GazeLines-run-4\n",
      "compute correlation\n"
     ]
    }
   ],
   "source": [
    "# Create timeseries correlations with leave one out averaging\n",
    "\n",
    "for tasks_cor_group_num, tasks_cor_group in enumerate(tasks_cor_groups):\n",
    "    print('Leave-one-out averaging combination: {}'.format(tasks_cor_group_num+1))\n",
    "\n",
    "    # task1: load and average \n",
    "    for task1_fn_num, task1_fn in enumerate(tasks_cor_group[0]):\n",
    "        task1_data_val = []\n",
    "        print('Task 1: load + avg {}'.format(task1_fn))\n",
    "        # task1_data_val = nb.load(task1_fn).get_fdata()\n",
    "        # if task1_fn_num == 0: task1_data_avg = np.zeros(nb.load(task1_fn).shape)\n",
    "        # task1_data_avg += task1_data_val/len(task1_combi_fn)\n",
    "\n",
    "    # task2: load and average \n",
    "    for task2_fn_num, task2_fn in enumerate(tasks_cor_group[1]):\n",
    "        task2_data_val = []\n",
    "        print('Task 2: load + avg {}'.format(task2_fn))\n",
    "        # task2_data_val = nb.load(task2_fn).get_fdata()\n",
    "        # if task2_fn_num == 0: task2_data_avg = np.zeros(nb.load(task2_fn).shape)\n",
    "        # task2_data_avg += task2_data_val/len(task2_combi_fn)\n",
    "\n",
    "    # mask data\n",
    "    # task1_mask = nb.load(task1_mask_fn).get_fdata()\n",
    "    # task2_mask = nb.load(task2_mask_fn).get_fdata()\n",
    "    # task1_data_avg_masked = task1_data_avg[task1_mask==1,:]\n",
    "    # task2_data_avg_masked = task2_data_avg[task2_mask==1,:]\n",
    "\n",
    "#     # compute correlation\n",
    "#     tasks_cor = np.zeros(task1_data_avg_masked.shape[0])\n",
    "#     for voxnum in np.arange(0,task1_data_avg_masked.shape[0]):\n",
    "#         tasks_cor[voxnum] = np.dot(task1_data_avg_masked[voxnum], task2_data_avg_masked[voxnum])/task1_data_avg_masked.shape[1]\n",
    "\n",
    "#     # reshape dot product\n",
    "#     tasks_cor_reshape = np.zeros(task1_mask.shape)\n",
    "#     tasks_cor_reshape[task1_mask==1]=tasks_cor\n",
    "\n",
    "    # average corelations\n",
    "    print('compute correlation')\n",
    "    # if tasks_cor_group_num == 0:tasks_cor_reshape_avg = np.zeros(tasks_cor_reshape.shape)\n",
    "    #     tasks_cor_reshape_avg += tasks_cor_reshape/len(task1_combi_fns)\n",
    "\n",
    "    "
   ]
  },
  {
   "cell_type": "code",
   "execution_count": 47,
   "id": "e1e5c2ff-2fd1-4b8a-a000-e217ad59186d",
   "metadata": {},
   "outputs": [
    {
     "data": {
      "text/plain": [
       "[('/home/mszinte/disks/meso_S/data/gaze_exp/derivatives/pybest//sub-002/ses-04/preproc/sub-002_ses-04_task-GazeCW_run-2_space-T1w_desc-preproc_bold.nii.gz',\n",
       "  '/home/mszinte/disks/meso_S/data/gaze_exp/derivatives/pybest//sub-002/ses-04/preproc/sub-002_ses-04_task-GazeCW_run-1_space-T1w_desc-preproc_bold.nii.gz'),\n",
       " ('/home/mszinte/disks/meso_S/data/gaze_exp/derivatives/pybest//sub-002/ses-04/preproc/sub-002_ses-04_task-GazeCW_run-2_space-T1w_desc-preproc_bold.nii.gz',\n",
       "  '/home/mszinte/disks/meso_S/data/gaze_exp/derivatives/pybest//sub-002/ses-04/preproc/sub-002_ses-04_task-GazeCW_run-3_space-T1w_desc-preproc_bold.nii.gz'),\n",
       " ('/home/mszinte/disks/meso_S/data/gaze_exp/derivatives/pybest//sub-002/ses-04/preproc/sub-002_ses-04_task-GazeCW_run-1_space-T1w_desc-preproc_bold.nii.gz',\n",
       "  '/home/mszinte/disks/meso_S/data/gaze_exp/derivatives/pybest//sub-002/ses-04/preproc/sub-002_ses-04_task-GazeCW_run-3_space-T1w_desc-preproc_bold.nii.gz')]"
      ]
     },
     "execution_count": 47,
     "metadata": {},
     "output_type": "execute_result"
    }
   ],
   "source": [
    "task1_combi_fns"
   ]
  },
  {
   "cell_type": "code",
   "execution_count": 48,
   "id": "f820ed2f-6973-452b-8c16-92a145020490",
   "metadata": {},
   "outputs": [
    {
     "data": {
      "text/plain": [
       "[('/home/mszinte/disks/meso_S/data/gaze_exp/derivatives/pybest//sub-002/ses-04/preproc/sub-002_ses-04_task-GazeCCW_run-2_space-T1w_desc-preproc_bold.nii.gz',\n",
       "  '/home/mszinte/disks/meso_S/data/gaze_exp/derivatives/pybest//sub-002/ses-04/preproc/sub-002_ses-04_task-GazeCCW_run-3_space-T1w_desc-preproc_bold.nii.gz'),\n",
       " ('/home/mszinte/disks/meso_S/data/gaze_exp/derivatives/pybest//sub-002/ses-04/preproc/sub-002_ses-04_task-GazeCCW_run-2_space-T1w_desc-preproc_bold.nii.gz',\n",
       "  '/home/mszinte/disks/meso_S/data/gaze_exp/derivatives/pybest//sub-002/ses-04/preproc/sub-002_ses-04_task-GazeCCW_run-1_space-T1w_desc-preproc_bold.nii.gz'),\n",
       " ('/home/mszinte/disks/meso_S/data/gaze_exp/derivatives/pybest//sub-002/ses-04/preproc/sub-002_ses-04_task-GazeCCW_run-3_space-T1w_desc-preproc_bold.nii.gz',\n",
       "  '/home/mszinte/disks/meso_S/data/gaze_exp/derivatives/pybest//sub-002/ses-04/preproc/sub-002_ses-04_task-GazeCCW_run-1_space-T1w_desc-preproc_bold.nii.gz')]"
      ]
     },
     "execution_count": 48,
     "metadata": {},
     "output_type": "execute_result"
    }
   ],
   "source": [
    "task2_combi_fns"
   ]
  },
  {
   "cell_type": "code",
   "execution_count": 49,
   "id": "b920949b-a19e-4383-b2bd-5524b3c94a2e",
   "metadata": {},
   "outputs": [
    {
     "data": {
      "text/plain": [
       "[('run-1', 'run-2'), ('run-1', 'run-3'), ('run-2', 'run-3')]"
      ]
     },
     "execution_count": 49,
     "metadata": {},
     "output_type": "execute_result"
    }
   ],
   "source": [
    "list(it.combinations(['run-1','run-2','run-3'], 2))"
   ]
  },
  {
   "cell_type": "code",
   "execution_count": 55,
   "id": "3cf2d030-0e1b-4271-bdf1-c244e2765bca",
   "metadata": {},
   "outputs": [
    {
     "data": {
      "text/plain": [
       "['run-1', 'run-2', 'run-3']"
      ]
     },
     "execution_count": 55,
     "metadata": {},
     "output_type": "execute_result"
    }
   ],
   "source": [
    "\n",
    "runs"
   ]
  },
  {
   "cell_type": "code",
   "execution_count": null,
   "id": "659bcb76-5d7a-437b-ab2b-0b270f04bc6b",
   "metadata": {},
   "outputs": [],
   "source": []
  }
 ],
 "metadata": {
  "kernelspec": {
   "display_name": "mszinte",
   "language": "python",
   "name": "mszinte"
  },
  "language_info": {
   "codemirror_mode": {
    "name": "ipython",
    "version": 3
   },
   "file_extension": ".py",
   "mimetype": "text/x-python",
   "name": "python",
   "nbconvert_exporter": "python",
   "pygments_lexer": "ipython3",
   "version": "3.9.12"
  }
 },
 "nbformat": 4,
 "nbformat_minor": 5
}
