{
 "cells": [
  {
   "cell_type": "markdown",
   "id": "7ff66705",
   "metadata": {},
   "source": [
    "### Analysis description\n",
    "Create nifti mask files from ROIs drawing based on Fullscreen retinotopy"
   ]
  },
  {
   "cell_type": "code",
   "execution_count": 1,
   "id": "1ff984f5",
   "metadata": {
    "tags": []
   },
   "outputs": [],
   "source": [
    "# Imports\n",
    "import os\n",
    "import nibabel as nb\n",
    "import ipdb\n",
    "import warnings\n",
    "import cortex\n",
    "from pathlib import Path\n",
    "warnings.filterwarnings('ignore')\n",
    "\n",
    "# Define parameters\n",
    "n_subjects= 2 + 1\n",
    "num = []\n",
    "for t in range(1, n_subjects):\n",
    "    num.append(str(t).zfill(3))\n",
    "subjects = ['sub-{n}'.format(n=n) for n in num]\n",
    "rois = ['V1','V2','V3','V3AB','LO','VO','hMT+','iIPS','sIPS','iPCS','sPCS','mPCS']\n",
    "\n",
    "# Define folders\n",
    "main_dir = '/home/mchevillard/disks/meso_shared/gaze_exp/'\n",
    "pp_dir = \"{}/derivatives/pp_data\".format(main_dir)\n",
    "pycortex_dir = \"{}/cortex\".format(pp_dir)\n",
    "cortical_mask = 'cortical'\n",
    "xfm_name = 'prf.fmriprep'"
   ]
  },
  {
   "cell_type": "code",
   "execution_count": 2,
   "id": "cf8086e4",
   "metadata": {
    "tags": []
   },
   "outputs": [],
   "source": [
    "# Write pycortex config file\n",
    "pycortex_db = \"{}/db/\".format(pycortex_dir)\n",
    "pycortex_cm = \"{}/colormaps/\".format(pycortex_dir)\n",
    "pycortex_config_file  = cortex.options.usercfg\n",
    "pycortex_config_file_new = pycortex_config_file[:-4] + '_new.cfg'\n",
    "pycortex_config_file_old = pycortex_config_file[:-4] + '_old.cfg'\n",
    "\n",
    "Path(pycortex_config_file_new).touch()\n",
    "with open(pycortex_config_file, 'r') as fileIn:\n",
    "    with open(pycortex_config_file_new, 'w') as fileOut:\n",
    "        for line in fileIn:\n",
    "            if 'filestore' in line:\n",
    "                newline = 'filestore=' + pycortex_db\n",
    "                fileOut.write(newline)\n",
    "                newline = '\\n'\n",
    "            elif 'colormaps' in line:\n",
    "                newline = 'colormaps=' + pycortex_cm\n",
    "                fileOut.write(newline)\n",
    "                newline = '\\n'\n",
    "            else:\n",
    "                newline = line\n",
    "            fileOut.write(newline)\n",
    "os.rename(pycortex_config_file,pycortex_config_file_old)\n",
    "os.rename(pycortex_config_file_new, pycortex_config_file)"
   ]
  },
  {
   "cell_type": "code",
   "execution_count": 3,
   "id": "39e509f5",
   "metadata": {
    "tags": []
   },
   "outputs": [
    {
     "name": "stdout",
     "output_type": "stream",
     "text": [
      "/home/mchevillard/disks/meso_shared/gaze_exp//derivatives/pp_data/cortex/db/sub-001/transforms/prf.fmriprep/reference.nii.gz\n",
      "creating V1 cortical mask\n",
      "Cutting 0 overlapping voxels (should be < ~50)\n",
      "creating V2 cortical mask\n",
      "Cutting 0 overlapping voxels (should be < ~50)\n",
      "creating V3 cortical mask\n",
      "Cutting 0 overlapping voxels (should be < ~50)\n",
      "creating V3AB cortical mask\n",
      "Cutting 0 overlapping voxels (should be < ~50)\n",
      "creating LO cortical mask\n",
      "Cutting 0 overlapping voxels (should be < ~50)\n",
      "creating VO cortical mask\n",
      "Cutting 0 overlapping voxels (should be < ~50)\n",
      "creating hMT+ cortical mask\n",
      "Cutting 0 overlapping voxels (should be < ~50)\n",
      "creating iIPS cortical mask\n",
      "Cutting 0 overlapping voxels (should be < ~50)\n",
      "creating sIPS cortical mask\n",
      "Cutting 0 overlapping voxels (should be < ~50)\n",
      "creating iPCS cortical mask\n",
      "Cutting 0 overlapping voxels (should be < ~50)\n",
      "creating sPCS cortical mask\n",
      "Cutting 0 overlapping voxels (should be < ~50)\n",
      "creating mPCS cortical mask\n",
      "Cutting 0 overlapping voxels (should be < ~50)\n",
      "/home/mchevillard/disks/meso_shared/gaze_exp//derivatives/pp_data/cortex/db/sub-002/transforms/prf.fmriprep/reference.nii.gz\n",
      "creating V1 cortical mask\n",
      "Cutting 0 overlapping voxels (should be < ~50)\n",
      "creating V2 cortical mask\n",
      "Cutting 0 overlapping voxels (should be < ~50)\n",
      "creating V3 cortical mask\n",
      "Cutting 0 overlapping voxels (should be < ~50)\n",
      "creating V3AB cortical mask\n",
      "Cutting 0 overlapping voxels (should be < ~50)\n",
      "creating LO cortical mask\n",
      "Cutting 0 overlapping voxels (should be < ~50)\n",
      "creating VO cortical mask\n",
      "Cutting 0 overlapping voxels (should be < ~50)\n",
      "creating hMT+ cortical mask\n",
      "Cutting 0 overlapping voxels (should be < ~50)\n",
      "creating iIPS cortical mask\n",
      "Cutting 0 overlapping voxels (should be < ~50)\n",
      "creating sIPS cortical mask\n",
      "Cutting 0 overlapping voxels (should be < ~50)\n",
      "creating iPCS cortical mask\n",
      "Cutting 0 overlapping voxels (should be < ~50)\n",
      "creating sPCS cortical mask\n",
      "Cutting 0 overlapping voxels (should be < ~50)\n",
      "creating mPCS cortical mask\n",
      "Cutting 0 overlapping voxels (should be < ~50)\n"
     ]
    }
   ],
   "source": [
    "for subject in subjects:\n",
    "    \n",
    "    # Define and create folder\n",
    "    mask_dir = '{}/{}/masks'.format(pp_dir, subject)\n",
    "    try: os.makedirs(mask_dir) \n",
    "    except: pass\n",
    "\n",
    "    # Create ROI masks\n",
    "    # ----------------\n",
    "    ref_file = \"{}/db/{}/transforms/{}/reference.nii.gz\".format(pycortex_dir, subject, xfm_name)\n",
    "    print (ref_file)\n",
    "    ref_img = nb.load(ref_file)\n",
    "\n",
    "    for roi in rois:\n",
    "        roi_mask_file_L = \"{}/{}_{}_L.nii.gz\".format(mask_dir, roi, cortical_mask)\n",
    "        if os.path.isfile(roi_mask_file_L) == 0:\n",
    "            print('creating {} {} mask'.format(roi, cortical_mask))\n",
    "            roi_mask = cortex.utils.get_roi_masks(subject=subject, xfmname=xfm_name, gm_sampler=cortical_mask, roi_list=roi, return_dict=True, split_lr=True)\n",
    "            for hemi in ['R','L']:\n",
    "                roi_mask_file = \"{}/{}_{}_{}.nii.gz\".format(mask_dir, roi, cortical_mask, hemi)\n",
    "                roi_mask_img = nb.Nifti1Image(dataobj=roi_mask['{}_{}'.format(roi, hemi)].transpose((2,1,0)), affine=ref_img.affine, header=ref_img.header)\n",
    "                roi_mask_img.to_filename(roi_mask_file)\n",
    "        else:\n",
    "            print('{} {} masks: already exist'.format(roi, cortical_mask))\n",
    "            continue"
   ]
  },
  {
   "cell_type": "code",
   "execution_count": null,
   "id": "cee93a64-c36a-4394-8bd5-0a86b18cd2e9",
   "metadata": {},
   "outputs": [],
   "source": []
  },
  {
   "cell_type": "code",
   "execution_count": null,
   "id": "17e3996d-9b04-4696-a2be-a21227ca1f42",
   "metadata": {},
   "outputs": [],
   "source": []
  }
 ],
 "metadata": {
  "kernelspec": {
   "display_name": "mchevillard",
   "language": "python",
   "name": "mchevillard"
  },
  "language_info": {
   "codemirror_mode": {
    "name": "ipython",
    "version": 3
   },
   "file_extension": ".py",
   "mimetype": "text/x-python",
   "name": "python",
   "nbconvert_exporter": "python",
   "pygments_lexer": "ipython3",
   "version": "3.9.16"
  }
 },
 "nbformat": 4,
 "nbformat_minor": 5
}
