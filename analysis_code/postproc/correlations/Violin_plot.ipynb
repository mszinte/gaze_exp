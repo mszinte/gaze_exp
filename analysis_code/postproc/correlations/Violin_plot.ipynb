{
 "cells": [
  {
   "cell_type": "markdown",
   "id": "33a860da-50d5-46f2-a3d8-14b42d4dae23",
   "metadata": {},
   "source": [
    "# Violin plot"
   ]
  },
  {
   "cell_type": "code",
   "execution_count": null,
   "id": "8965a111-c2e1-4a39-8997-db319ed5fc51",
   "metadata": {
    "tags": []
   },
   "outputs": [],
   "source": [
    "# Imports\n",
    "import numpy as np\n",
    "import pandas as pd\n",
    "import os\n",
    "\n",
    "# figure imports\n",
    "import plotly.graph_objects as go\n",
    "import plotly.express as px\n",
    "from plotly.subplots import make_subplots\n",
    "\n",
    "# Define filenames\n",
    "# main_dir = '/home/mchevillard/disks/meso_shared'\n",
    "main_dir = '/home/mszinte/disks/meso_S/data'\n",
    "project_dir = 'gaze_exp'\n",
    "pp_dir = \"{}/{}/derivatives/pp_data\".format(main_dir, project_dir)\n",
    "tsv_dir ='{}/sub-all/tsv'.format(pp_dir)\n",
    "fig_dir = '{}/sub-all/figures'.format(pp_dir)\n",
    "os.makedirs(fig_dir, exist_ok=True)\n"
   ]
  },
  {
   "cell_type": "code",
   "execution_count": null,
   "id": "c23c8b1b-f712-4eb7-b89b-b85edf3757e3",
   "metadata": {
    "tags": []
   },
   "outputs": [],
   "source": [
    "# Load data\n",
    "data = pd.read_table('{}/sub-all_prf_cf.tsv'.format(tsv_dir))\n",
    "data.drop(columns=['Unnamed: 0'])"
   ]
  },
  {
   "cell_type": "code",
   "execution_count": null,
   "id": "026d1189-6978-4a23-bc13-bc9bd0ad94d0",
   "metadata": {
    "tags": []
   },
   "outputs": [],
   "source": [
    "# Filter data\n",
    "ecc_th = [0, 15]\n",
    "size_th= [0.1, 20]\n",
    "rsq_th = [0.05, 1]\n",
    "\n",
    "# Replace all data outer threshold with NaN data\n",
    "data.loc[(data.prf_ecc < ecc_th[0]) | (data.prf_ecc > ecc_th[1]) | \n",
    "         (data.prf_size < size_th[0]) | (data.prf_size > size_th[1]) | \n",
    "         (data.cf_center_ecc < ecc_th[0]) | (data.cf_center_ecc > ecc_th[1]) | \n",
    "         (data.cf_center_size < size_th[0]) | (data.cf_center_size > size_th[1]) | \n",
    "         (data.prf_rsq_loo <=rsq_th[0]) | (data.cf_center_cf_rsq <=rsq_th[0]) | \n",
    "         (data.cf_center_cf_rsq >=rsq_th[1])\n",
    "        ] = np.nan\n",
    "\n",
    "data = data.dropna()\n",
    "\n",
    "rois = pd.unique(data.roi)\n",
    "mask = pd.notnull(data.subject)\n",
    "subjects = pd.unique(data.subject[mask])"
   ]
  },
  {
   "cell_type": "code",
   "execution_count": null,
   "id": "00f76581-5f37-4f2c-9b52-582faa0e7f48",
   "metadata": {
    "tags": []
   },
   "outputs": [],
   "source": [
    "# Define colors\n",
    "roi_colors = px.colors.sequential.Sunset[:4] + px.colors.sequential.Rainbow[:]"
   ]
  },
  {
   "cell_type": "code",
   "execution_count": null,
   "id": "e87713d9-487f-47bf-a50c-33877ef9278d",
   "metadata": {
    "tags": []
   },
   "outputs": [],
   "source": [
    "df = data.loc[(data.subject == 'sub-001') & (data.roi == 'V3')]\n",
    "print(df.cf_center_size.mean())\n",
    "print(df.prf_size.mean())"
   ]
  },
  {
   "cell_type": "markdown",
   "id": "d96e1b1a-180b-4b86-8be3-8d64d45bd059",
   "metadata": {
    "tags": []
   },
   "source": [
    "## Make Violin plot comparison R2 / CF-projected Size / CF-projected Eccentricity"
   ]
  },
  {
   "cell_type": "code",
   "execution_count": null,
   "id": "26b1161f-232b-42ea-a38e-ba6ad71a5170",
   "metadata": {
    "tags": []
   },
   "outputs": [],
   "source": [
    "rows, cols = 2,2\n",
    "fig_height, fig_width = 1080,1920\n",
    "\n",
    "for i, subject in enumerate(subjects):\n",
    "    fig = make_subplots(rows=rows, cols=cols, print_grid=False, vertical_spacing=0.08, horizontal_spacing=0.1)\n",
    "    for j, roi in enumerate(rois):\n",
    "        \n",
    "        df = data.loc[(data.subject == subject) & (data.roi == roi)]\n",
    "        \n",
    "        # df = df.sort_values('prf_rsq_loo', ascending=False)\n",
    "        # df = df.head(250)\n",
    "\n",
    "        fig.add_trace(go.Violin(x=df['roi'][df['roi']==roi], y=df.prf_rsq_loo, name=roi, showlegend=True, legendgroup='avg', points=False, scalemode='width', width=0.75, side='negative', line_color = roi_colors[j], meanline_visible=True), row=1, col=1)\n",
    "        fig.add_trace(go.Violin(x=df['roi'][df['roi']==roi], y=df.cf_center_cf_rsq, name=roi, showlegend=True, legendgroup='loo', points=False, scalemode='width', width=0.75, side='positive', line_color = roi_colors[j], meanline_visible=True, fillcolor='rgb(255,255,255)'), row=1, col=1)\n",
    "        fig.add_trace(go.Violin(x=df['roi'][df['roi']==roi], y=df.prf_size, name=roi, showlegend=False, legendgroup='avg', points=False, scalemode='width', width=0.75, side='negative', line_color = roi_colors[j], meanline_visible=True), row=1, col=2)\n",
    "        fig.add_trace(go.Violin(x=df['roi'][df['roi']==roi], y=df.cf_center_size, name=roi, showlegend=False, legendgroup='loo', points=False, scalemode='width', width=0.75, side='positive', line_color=roi_colors[j], meanline_visible=True, fillcolor='rgb(255,255,255)'), row=1, col=2)\n",
    "        fig.add_trace(go.Violin(x=df['roi'][df['roi']==roi], y=df.prf_ecc, name=roi, showlegend=False, legendgroup='avg', points=False, scalemode='width', width=0.75, side='negative', line_color = roi_colors[j], meanline_visible=True), row=2, col=1)\n",
    "        fig.add_trace(go.Violin(x=df['roi'][df['roi']==roi], y=df.cf_center_ecc, name=roi, showlegend=False, legendgroup='loo', points=False, scalemode='width', width=0.75, side='positive', line_color = roi_colors[j], meanline_visible=True, fillcolor='rgb(255,255,255)'), row=2, col=1)\n",
    "        \n",
    "        # Set axis titles only for the left-most column and bottom-most row\n",
    "        fig.update_yaxes(range=[0,1], title_text='r2', row=1, col=1)\n",
    "        fig.update_yaxes(range=[0,20], title_text='pRF size (dva)', row=1, col=2)\n",
    "        fig.update_yaxes(range=[0,15], nticks=4, title_text='pRF eccentricity (dva)', row=2, col=1)\n",
    "        fig.update_xaxes(showline=True, ticklen=0, linecolor=('rgba(255,255,255,0)'), tickfont=dict(size=18))\n",
    "        fig.update_traces(spanmode='manual', span=[0,1], row=1, col=1)  \n",
    "        fig.update_traces(spanmode='manual', span=[0.1,20], row=1, col=2)\n",
    "        fig.update_traces(spanmode='manual', span=[0,15], row=2, col=1)\n",
    "    fig.update_layout(height=fig_height, width=fig_width, showlegend=True, legend=dict(orientation=\"h\", yanchor='top', y=1.15, xanchor='left', x=0.22, traceorder='normal', itemwidth=50), template='simple_white', font=dict(size=16))\n",
    "    fig.show()\n",
    "    fig.write_image(\"{}/{}_prf_cf_rsq_size_ecc.pdf\".format(fig_dir, subject)) \n",
    "    "
   ]
  },
  {
   "cell_type": "markdown",
   "id": "1a09ae48-4cac-4a86-a2f3-4501625ea733",
   "metadata": {},
   "source": [
    "<!-- ## Violin plot R2 - Visual areas for each subject -->"
   ]
  },
  {
   "cell_type": "code",
   "execution_count": null,
   "id": "ae770ac5-dd17-4e6d-9557-986b88b9e260",
   "metadata": {
    "tags": []
   },
   "outputs": [],
   "source": [
    "# for i, subject in enumerate(subjects):\n",
    "    \n",
    "#     for j, roi in enumerate(rois):\n",
    "#         df = data.loc[(data.subject == subject) & (data.roi == roi)]\n",
    "#         fig = fig_1_R2 if i==0 else fig_2_R2\n",
    "        \n",
    "#         fig.add_trace(go.Violin(x=df['roi'][df['roi']==roi], y=df.prf_rsq_loo, name=roi, line_color = roi_colors[j], meanline_visible=True))\n",
    "        \n",
    "#         # Set axis titles only for the left-most column and bottom-most row\n",
    "#         fig.update_yaxes(title_text='R2 (leave-one-out)')\n",
    "#         fig.update_xaxes(title_text='Visual areas')\n",
    "#         #Add the name of the plot with the subject name\n",
    "#         fig.add_annotation(x=0.25, y=1, showarrow=False, text=('{}'.format(subject)), font=dict(size=20))\n",
    "\n",
    "#     fig.update_layout(height=fig_height, width=fig_width, template='simple_white')\n",
    "#     fig.show()\n",
    "#     fff\n",
    "#     # fig.write_image('/home/mchevillard/disks/meso_S/{}_r2_roi.pdf'.format(subject))\n",
    "    "
   ]
  },
  {
   "cell_type": "markdown",
   "id": "f928d9b3-0f81-49ee-9d46-4540855c2f85",
   "metadata": {},
   "source": [
    "<!-- ## Violin plot Size - Visual areas for each subject -->"
   ]
  },
  {
   "cell_type": "code",
   "execution_count": null,
   "id": "76cacd8e-8ea0-4cc6-a848-3bc05d4f7c98",
   "metadata": {
    "tags": []
   },
   "outputs": [],
   "source": [
    "# for i, subject in enumerate(subjects):\n",
    "#     for j, roi in enumerate(rois):\n",
    "#         df = data.loc[(data.subject == subject) & (data.roi == roi)]\n",
    "#         fig=fig_1_SD if i==0 else fig_2_SD\n",
    "        \n",
    "#         fig.add_trace(go.Violin(x=df['roi'][df['roi']==roi], y=df.prf_size, name=roi, line_color = roi_colors[j], meanline_visible=True))\n",
    "\n",
    "#         # Set axis titles only for the left-most column and bottom-most row\n",
    "#         fig.update_yaxes(title_text='pRF size (dva)')\n",
    "#         fig.update_xaxes(title_text='Visual areas')\n",
    "#         #Add the name of the plot with the subject name\n",
    "#         fig.add_annotation(x=0.25, y=20, showarrow=False, text=('{}'.format(subject)), font=dict(size=20))\n",
    "\n",
    "#     fig.update_layout(height=fig_height, width=fig_width, template='simple_white')\n",
    "#     # fig.write_image('/home/mchevillard/disks/meso_S/{}_size_roi.pdf'.format(subject))"
   ]
  },
  {
   "cell_type": "markdown",
   "id": "b3ff7a51-0c78-44b5-9522-b9058b280ca3",
   "metadata": {
    "tags": []
   },
   "source": [
    "<!-- ## Violin plot Eccentricity - Visual areas for each subject -->"
   ]
  },
  {
   "cell_type": "code",
   "execution_count": null,
   "id": "793d7966-dead-41a0-a491-1334cd99c501",
   "metadata": {
    "tags": []
   },
   "outputs": [],
   "source": [
    "# for i, subject in enumerate(subjects):\n",
    "#     for j, roi in enumerate(rois):\n",
    "#         df = data.loc[(data.subject == subject) & (data.roi == roi)]\n",
    "#         fig=fig_1_ecc if i==0 else fig_2_ecc\n",
    "        \n",
    "#         fig.add_trace(go.Violin(x=df['roi'][df['roi']==roi], y=df.prf_ecc, name=roi, line_color = roi_colors[j], meanline_visible=True))\n",
    "\n",
    "#         # Set axis titles only for the left-most column and bottom-most row\n",
    "#         fig.update_yaxes(title_text='pRF eccentricity (dva)')\n",
    "#         fig.update_xaxes(title_text='Visual areas')\n",
    "#         #Add the name of the plot with the subject name\n",
    "#         fig.add_annotation(x=0.25, y=15, showarrow=False, text=('{}'.format(subject)), font=dict(size=20))\n",
    "\n",
    "#     fig.update_layout(height=fig_height, width=fig_width, template='simple_white')\n",
    "#     # fig.write_image('/home/mchevillard/disks/meso_S/{}_ecc_roi.pdf'.format(subject))"
   ]
  },
  {
   "cell_type": "markdown",
   "id": "59208fef-c01e-4815-830b-88fe34164247",
   "metadata": {
    "tags": []
   },
   "source": [
    "<!-- ## Violin plot shared Eccentricity - Visual areas for each subject -->"
   ]
  },
  {
   "cell_type": "code",
   "execution_count": null,
   "id": "b4e785b4-36a1-44de-b227-f07c6104b79f",
   "metadata": {
    "tags": []
   },
   "outputs": [],
   "source": [
    "# for i, subject in enumerate(subjects):\n",
    "#     for j, roi in enumerate(rois):\n",
    "#         df = data.loc[(data.subject == subject) & (data.roi == roi)]\n",
    "#         fig=fig_1_ecc_loo if i==0 else fig_2_ecc_loo\n",
    "        \n",
    "#         fig.add_trace(go.Violin(x=df['roi'][df['roi']==roi], y=df.prf_ecc, name=roi, line_color = roi_colors[j], points=False, side='negative', meanline_visible=True))\n",
    "#         fig.add_trace(go.Violin(x=df['roi'][df['roi']==roi], y=df.cf_center_ecc, name=roi, line_color = roi_colors[j], points=False, side='positive', meanline_visible=True, fillcolor='rgb(255,255,255)'))\n",
    "\n",
    "#         # Set axis titles only for the left-most column and bottom-most row\n",
    "#         fig.update_yaxes(title_text='pRF eccentricity (dva)')\n",
    "#         fig.update_xaxes(title_text='Visual areas')\n",
    "#         #Add the name of the plot with the subject name\n",
    "#         fig.add_annotation(x=0, y=16, showarrow=False, text=('{}'.format(subject)), font=dict(size=20))\n",
    "\n",
    "#     fig.update_layout(violingap=0, violinmode='overlay', height=fig_height, width=fig_width, template='simple_white')\n",
    "#     fig.show()\n",
    "#     fff\n",
    "    # fig.write_image('/home/mchevillard/disks/meso_S/{}_loo_ecc_roi.pdf'.format(subject))"
   ]
  },
  {
   "cell_type": "markdown",
   "id": "6b6cae2d-bff0-41de-8178-81548fef75f9",
   "metadata": {
    "tags": []
   },
   "source": [
    "<!-- ## Violin plot pCM - Visual areas for each subject -->"
   ]
  },
  {
   "cell_type": "code",
   "execution_count": null,
   "id": "a589e608-ced6-456c-83a7-323ab97caedc",
   "metadata": {
    "tags": []
   },
   "outputs": [],
   "source": [
    "# for i, subject in enumerate(subjects):\n",
    "#     for j, roi in enumerate(rois):\n",
    "#         df = data.loc[(data.subject == subject) & (data.roi == roi)]\n",
    "#         fig=fig_1_ecc if i==0 else fig_2_ecc\n",
    "        \n",
    "#         fig.add_trace(go.Violin(x=df['roi'][df['roi']==roi], y=df.ecc, name=roi, line_color = roi_colors[j], meanline_visible=True))\n",
    "\n",
    "#         # Set axis titles only for the left-most column and bottom-most row\n",
    "#         fig.update_yaxes(title_text='pRF eccentricity (dva)')\n",
    "#         fig.update_xaxes(title_text='Visual areas')\n",
    "#         #Add the name of the plot with the subject name\n",
    "#         fig.add_annotation(x=0.25, y=15, showarrow=False, text=('{}'.format(subject)), font=dict(size=20))\n",
    "\n",
    "#     fig.update_layout(height=fig_height, width=fig_width, template='simple_white')\n",
    "#     fig.write_image('/home/mchevillard/disks/meso_S/{}_ecc_roi.pdf'.format(subject))"
   ]
  },
  {
   "cell_type": "markdown",
   "id": "7a949757-139a-41e9-a4b1-2285d37d408c",
   "metadata": {},
   "source": [
    "<!-- ## Make subplot -->"
   ]
  },
  {
   "cell_type": "code",
   "execution_count": null,
   "id": "607e559c-b0b0-4b5c-bf38-75bedf5f338f",
   "metadata": {
    "tags": []
   },
   "outputs": [],
   "source": [
    "# rows, cols = 2,2\n",
    "# fig_height, fig_width = 1080,1920\n",
    "\n",
    "# fig_subplot_1 = make_subplots(rows=rows, cols=cols, print_grid=False, vertical_spacing=0.08, horizontal_spacing=0.1, shared_xaxes=False)\n",
    "# fig_subplot_2 = make_subplots(rows=rows, cols=cols, print_grid=False, vertical_spacing=0.08, horizontal_spacing=0.1, shared_yaxes=False)\n",
    "\n",
    "# for i, subject in enumerate(subjects):\n",
    "#     for j, roi in enumerate(rois):\n",
    "#         fig=fig_subplot_1 if i==0 else fig_subplot_2\n",
    "\n",
    "#         df = data.loc[(data.subject == subject) & (data.roi == roi)]\n",
    "\n",
    "#         fig.add_trace(go.Violin(x=df['roi'][df['roi']==roi], y=df.prf_rsq_loo, name=roi, showlegend=True, points=False, scalemode='width', width=0.75, line_color = roi_colors[j], meanline_visible=True), row=1, col=1)\n",
    "#         fig.add_trace(go.Violin(x=df['roi'][df['roi']==roi], y=df.prf_size, name=roi, showlegend=False, points=False, scalemode='width', width=0.75, line_color = roi_colors[j], meanline_visible=True), row=1, col=2)\n",
    "#         fig.add_trace(go.Violin(x=df['roi'][df['roi']==roi], y=df.prf_ecc, name=roi, showlegend=False, points=False, scalemode='width', width=0.75, line_color = roi_colors[j], meanline_visible=True), row=2, col=1)\n",
    "\n",
    "\n",
    "#         # Set axis titles only for the left-most column and bottom-most row\n",
    "#         fig.update_yaxes(title_text='r2', row=1, col=1)\n",
    "#         fig.update_yaxes(title_text='pRF size(dva)', row=1, col=2)\n",
    "#         fig.update_yaxes(title_text='pRF eccentricity (dva)', row=2, col=1)\n",
    "#         fig.update_xaxes(title_text='Visual areas', row=2, col=1)\n",
    "\n",
    "#     fig.update_layout(title= 'pRF parameters VS Visual areas {}'.format(subject), height=fig_height, width=fig_width,showlegend=True, template='simple_white', font=dict(size=16))\n",
    "#     fig.show()\n",
    "\n",
    "#     # fig.write_image('/home/mchevillard/disks/meso_S/{}_subplot_pRF.pdf'.format(subject))"
   ]
  },
  {
   "cell_type": "code",
   "execution_count": null,
   "id": "1d1a2999-3d86-4fa8-838f-4d534f3572dd",
   "metadata": {},
   "outputs": [],
   "source": []
  }
 ],
 "metadata": {
  "kernelspec": {
   "display_name": "mszinte",
   "language": "python",
   "name": "mszinte"
  },
  "language_info": {
   "codemirror_mode": {
    "name": "ipython",
    "version": 3
   },
   "file_extension": ".py",
   "mimetype": "text/x-python",
   "name": "python",
   "nbconvert_exporter": "python",
   "pygments_lexer": "ipython3",
   "version": "3.9.13"
  }
 },
 "nbformat": 4,
 "nbformat_minor": 5
}
