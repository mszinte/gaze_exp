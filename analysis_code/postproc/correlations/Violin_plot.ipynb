{
 "cells": [
  {
   "cell_type": "markdown",
   "id": "33a860da-50d5-46f2-a3d8-14b42d4dae23",
   "metadata": {},
   "source": [
    "# Violin plot"
   ]
  },
  {
   "cell_type": "code",
   "execution_count": 9,
   "id": "8965a111-c2e1-4a39-8997-db319ed5fc51",
   "metadata": {
    "tags": []
   },
   "outputs": [],
   "source": [
    "# Imports\n",
    "import warnings\n",
    "warnings.filterwarnings('ignore')\n",
    "\n",
    "import numpy as np\n",
    "import pandas as pd\n",
    "\n",
    "# figure imports\n",
    "import plotly.graph_objects as go\n",
    "from plotly.subplots import make_subplots\n",
    "import plotly.express as px\n",
    "# from plot_utils import plotly_template\n",
    "import plotly.express as px\n",
    "\n",
    "# import data base\n",
    "main_dir = '/home/mchevillard/disks/meso_shared/gaze_exp/'\n",
    "pp_dir = \"{}/derivatives/pp_data\".format(main_dir)\n",
    "tsv_dir = '{}/sub-all/prf/tsv'.format(pp_dir)\n",
    "\n",
    "data = pd.read_table('{}/group_task-prf_prf.tsv'.format(tsv_dir))\n",
    "data = data.drop(columns=['Unnamed: 0'])\n",
    "data_loo = pd.read_table('{}/group_task-loo_prf_prf.tsv'.format(tsv_dir))\n",
    "data_loo = data_loo.drop(columns=['Unnamed: 0'])"
   ]
  },
  {
   "cell_type": "code",
   "execution_count": 10,
   "id": "026d1189-6978-4a23-bc13-bc9bd0ad94d0",
   "metadata": {
    "tags": []
   },
   "outputs": [],
   "source": [
    "# define parameters\n",
    "ecc_th = [0,15]\n",
    "size_th= [0.1,20]\n",
    "r2_th = 0.1\n",
    "\n",
    "# Replace all data outer threshold with NaN data\n",
    "data.loc[(data.ecc < ecc_th[0]) | (data.ecc > ecc_th[1]) | (data.sd < size_th[0]) | (data.sd > size_th[1]) | (data.r2 <=r2_th)] = np.nan\n",
    "data = data.dropna()\n",
    "data_loo.loc[(data_loo.ecc<ecc_th[0]) | (data_loo.ecc > ecc_th[1]) | (data_loo.sd < size_th[0]) | (data_loo.sd > size_th[1]) | (data_loo.r2 <=r2_th)] = np.nan\n",
    "data_loo = data_loo.dropna()"
   ]
  },
  {
   "cell_type": "code",
   "execution_count": 11,
   "id": "031d54e5-3c05-4bc8-803a-92ea03f0e1b4",
   "metadata": {
    "tags": []
   },
   "outputs": [],
   "source": [
    "rois = pd.unique(data.roi)\n",
    "mask = pd.notnull(data.subject)\n",
    "subjects = pd.unique(data.subject[mask])\n",
    "rois_loo = pd.unique(data_loo.roi)\n",
    "mask_loo = pd.notnull(data_loo.subject)\n",
    "subjects_loo = pd.unique(data_loo.subject[mask_loo])"
   ]
  },
  {
   "cell_type": "code",
   "execution_count": 12,
   "id": "15306473-3597-41a0-ae04-e8d8ee3b2b0a",
   "metadata": {
    "tags": []
   },
   "outputs": [],
   "source": [
    "fig_height, fig_width = 1080,1920\n",
    "\n",
    "fig_1_R2 = go.Figure()\n",
    "fig_2_R2 = go.Figure()\n",
    "fig_1_SD = go.Figure()\n",
    "fig_2_SD = go.Figure()\n",
    "fig_1_ecc = go.Figure()\n",
    "fig_2_ecc = go.Figure()\n",
    "fig_1_ecc_loo = go.Figure()\n",
    "fig_2_ecc_loo = go.Figure()"
   ]
  },
  {
   "cell_type": "code",
   "execution_count": 13,
   "id": "00f76581-5f37-4f2c-9b52-582faa0e7f48",
   "metadata": {
    "tags": []
   },
   "outputs": [],
   "source": [
    "# roi_colors = px.colors.sequential.Sunset[:4] + px.colors.sequential.Rainbow[:]\n",
    "roi_colors = px.colors.sequential.Sunset[:4] + px.colors.sequential.Rainbow[:]\n",
    "\n",
    "roi_colors_loo = []\n",
    "for color in roi_colors:\n",
    "    updated_color = f\"rgba{color[3:-1]}, {0.5})\"\n",
    "    roi_colors_loo.append(updated_color)"
   ]
  },
  {
   "cell_type": "markdown",
   "id": "1a09ae48-4cac-4a86-a2f3-4501625ea733",
   "metadata": {},
   "source": [
    "## Violin plot R2 - Visual areas for each subject"
   ]
  },
  {
   "cell_type": "code",
   "execution_count": 19,
   "id": "ae770ac5-dd17-4e6d-9557-986b88b9e260",
   "metadata": {},
   "outputs": [],
   "source": [
    "for i, subject in enumerate(subjects):\n",
    "    for j, roi in enumerate(rois):\n",
    "        df = data.loc[(data.subject == subject) & (data.roi == roi)]\n",
    "        fig=fig_1_R2 if i==0 else fig_2_R2\n",
    "        \n",
    "        fig.add_trace(go.Violin(x=df['roi'][df['roi']==roi], y=df.r2, name=roi, line_color = roi_colors[j], meanline_visible=True))\n",
    "\n",
    "        # Set axis titles only for the left-most column and bottom-most row\n",
    "        fig.update_yaxes(title_text='R2')\n",
    "        fig.update_xaxes(title_text='Visual areas')\n",
    "        #Add the name of the plot with the subject name\n",
    "        fig.add_annotation(x=0.25, y=1, showarrow=False, text=('{}'.format(subject)), font=dict(size=20))\n",
    "\n",
    "    fig.update_layout(height=fig_height, width=fig_width, template='simple_white')\n",
    "    fig.write_image('/home/mchevillard/disks/meso_S/{}_r2_roi.pdf'.format(subject))"
   ]
  },
  {
   "cell_type": "markdown",
   "id": "f928d9b3-0f81-49ee-9d46-4540855c2f85",
   "metadata": {},
   "source": [
    "## Violin plot Size - Visual areas for each subject"
   ]
  },
  {
   "cell_type": "code",
   "execution_count": 20,
   "id": "76cacd8e-8ea0-4cc6-a848-3bc05d4f7c98",
   "metadata": {
    "tags": []
   },
   "outputs": [],
   "source": [
    "for i, subject in enumerate(subjects):\n",
    "    for j, roi in enumerate(rois):\n",
    "        df = data.loc[(data.subject == subject) & (data.roi == roi)]\n",
    "        fig=fig_1_SD if i==0 else fig_2_SD\n",
    "        \n",
    "        fig.add_trace(go.Violin(x=df['roi'][df['roi']==roi], y=df.sd, name=roi, line_color = roi_colors[j], meanline_visible=True))\n",
    "\n",
    "        # Set axis titles only for the left-most column and bottom-most row\n",
    "        fig.update_yaxes(title_text='pRF size (dva)')\n",
    "        fig.update_xaxes(title_text='Visual areas')\n",
    "        #Add the name of the plot with the subject name\n",
    "        fig.add_annotation(x=0.25, y=20, showarrow=False, text=('{}'.format(subject)), font=dict(size=20))\n",
    "\n",
    "    fig.update_layout(height=fig_height, width=fig_width, template='simple_white')\n",
    "    fig.write_image('/home/mchevillard/disks/meso_S/{}_size_roi.pdf'.format(subject))"
   ]
  },
  {
   "cell_type": "markdown",
   "id": "b3ff7a51-0c78-44b5-9522-b9058b280ca3",
   "metadata": {
    "tags": []
   },
   "source": [
    "## Violin plot Eccentricity - Visual areas for each subject"
   ]
  },
  {
   "cell_type": "code",
   "execution_count": 21,
   "id": "793d7966-dead-41a0-a491-1334cd99c501",
   "metadata": {
    "tags": []
   },
   "outputs": [],
   "source": [
    "for i, subject in enumerate(subjects):\n",
    "    for j, roi in enumerate(rois):\n",
    "        df = data.loc[(data.subject == subject) & (data.roi == roi)]\n",
    "        fig=fig_1_ecc if i==0 else fig_2_ecc\n",
    "        \n",
    "        fig.add_trace(go.Violin(x=df['roi'][df['roi']==roi], y=df.ecc, name=roi, line_color = roi_colors[j], meanline_visible=True))\n",
    "\n",
    "        # Set axis titles only for the left-most column and bottom-most row\n",
    "        fig.update_yaxes(title_text='pRF eccentricity (dva)')\n",
    "        fig.update_xaxes(title_text='Visual areas')\n",
    "        #Add the name of the plot with the subject name\n",
    "        fig.add_annotation(x=0.25, y=15, showarrow=False, text=('{}'.format(subject)), font=dict(size=20))\n",
    "\n",
    "    fig.update_layout(height=fig_height, width=fig_width, template='simple_white')\n",
    "    fig.write_image('/home/mchevillard/disks/meso_S/{}_ecc_roi.pdf'.format(subject))"
   ]
  },
  {
   "cell_type": "markdown",
   "id": "59208fef-c01e-4815-830b-88fe34164247",
   "metadata": {
    "tags": []
   },
   "source": [
    "## Violin plot shared Eccentricity - Visual areas for each subject"
   ]
  },
  {
   "cell_type": "code",
   "execution_count": 12,
   "id": "b4e785b4-36a1-44de-b227-f07c6104b79f",
   "metadata": {
    "tags": []
   },
   "outputs": [],
   "source": [
    "for i, subject in enumerate(subjects):\n",
    "    for j, roi in enumerate(rois):\n",
    "        df = data.loc[(data.subject == subject) & (data.roi == roi)]\n",
    "        df_loo = data_loo.loc[(data_loo.subject == subject) & (data_loo.roi == roi)]\n",
    "        fig=fig_1_ecc_loo if i==0 else fig_2_ecc_loo\n",
    "        \n",
    "        fig.add_trace(go.Violin(x=df['roi'][df['roi']==roi], y=df.ecc, name=roi, line_color = roi_colors[j], points=False, side='negative', meanline_visible=True))\n",
    "        fig.add_trace(go.Violin(x=df_loo['roi'][df_loo['roi']==roi], y=df_loo.ecc, name=roi, line_color = roi_colors_loo[j], points=False, side='positive', meanline_visible=True, fillcolor='rgb(255,255,255)'))\n",
    "\n",
    "        # Set axis titles only for the left-most column and bottom-most row\n",
    "        fig.update_yaxes(title_text='pRF eccentricity (dva)')\n",
    "        fig.update_xaxes(title_text='Visual areas')\n",
    "        #Add the name of the plot with the subject name\n",
    "        fig.add_annotation(x=0, y=16, showarrow=False, text=('{}'.format(subject)), font=dict(size=20))\n",
    "\n",
    "    fig.update_layout(violingap=0, violinmode='overlay', height=fig_height, width=fig_width, template='simple_white')\n",
    "    fig.write_image('/home/mchevillard/disks/meso_S/{}_loo_ecc_roi.pdf'.format(subject))"
   ]
  },
  {
   "cell_type": "markdown",
   "id": "6b6cae2d-bff0-41de-8178-81548fef75f9",
   "metadata": {
    "tags": []
   },
   "source": [
    "## Violin plot pCM - Visual areas for each subject"
   ]
  },
  {
   "cell_type": "code",
   "execution_count": 21,
   "id": "a589e608-ced6-456c-83a7-323ab97caedc",
   "metadata": {
    "tags": []
   },
   "outputs": [],
   "source": [
    "# for i, subject in enumerate(subjects):\n",
    "#     for j, roi in enumerate(rois):\n",
    "#         df = data.loc[(data.subject == subject) & (data.roi == roi)]\n",
    "#         fig=fig_1_ecc if i==0 else fig_2_ecc\n",
    "        \n",
    "#         fig.add_trace(go.Violin(x=df['roi'][df['roi']==roi], y=df.ecc, name=roi, line_color = roi_colors[j], meanline_visible=True))\n",
    "\n",
    "#         # Set axis titles only for the left-most column and bottom-most row\n",
    "#         fig.update_yaxes(title_text='pRF eccentricity (dva)')\n",
    "#         fig.update_xaxes(title_text='Visual areas')\n",
    "#         #Add the name of the plot with the subject name\n",
    "#         fig.add_annotation(x=0.25, y=15, showarrow=False, text=('{}'.format(subject)), font=dict(size=20))\n",
    "\n",
    "#     fig.update_layout(height=fig_height, width=fig_width, template='simple_white')\n",
    "#     fig.write_image('/home/mchevillard/disks/meso_S/{}_ecc_roi.pdf'.format(subject))"
   ]
  },
  {
   "cell_type": "markdown",
   "id": "7a949757-139a-41e9-a4b1-2285d37d408c",
   "metadata": {},
   "source": [
    "## Make subplot"
   ]
  },
  {
   "cell_type": "code",
   "execution_count": 82,
   "id": "607e559c-b0b0-4b5c-bf38-75bedf5f338f",
   "metadata": {
    "tags": []
   },
   "outputs": [],
   "source": [
    "rows, cols = 2,2\n",
    "fig_height, fig_width = 1080,1920\n",
    "\n",
    "fig_subplot_1 = make_subplots(rows=rows, cols=cols, print_grid=False, vertical_spacing=0.08, horizontal_spacing=0.1, shared_xaxes=False)\n",
    "fig_subplot_2 = make_subplots(rows=rows, cols=cols, print_grid=False, vertical_spacing=0.08, horizontal_spacing=0.1, shared_yaxes=False)\n",
    "\n",
    "for i, subject in enumerate(subjects):\n",
    "    for j, roi in enumerate(rois):\n",
    "        fig=fig_subplot_1 if i==0 else fig_subplot_2\n",
    "\n",
    "        df = data.loc[(data.subject == subject) & (data.roi == roi)]\n",
    "\n",
    "\n",
    "        fig.add_trace(go.Violin(x=df['roi'][df['roi']==roi], y=df.r2, name=roi, showlegend=True, points=False, scalemode='width', width=0.75, line_color = roi_colors[j], meanline_visible=True), row=1, col=1)\n",
    "        fig.add_trace(go.Violin(x=df['roi'][df['roi']==roi], y=df.sd, name=roi, showlegend=False, points=False, scalemode='width', width=0.75, line_color = roi_colors[j], meanline_visible=True), row=1, col=2)\n",
    "        fig.add_trace(go.Violin(x=df['roi'][df['roi']==roi], y=df.ecc, name=roi, showlegend=False, points=False, scalemode='width', width=0.75, line_color = roi_colors[j], meanline_visible=True), row=2, col=1)\n",
    "\n",
    "\n",
    "        # Set axis titles only for the left-most column and bottom-most row\n",
    "        fig.update_yaxes(title_text='r2', row=1, col=1)\n",
    "        fig.update_yaxes(title_text='pRF size(dva)', row=1, col=2)\n",
    "        fig.update_yaxes(title_text='pRF eccentricity (dva)', row=2, col=1)\n",
    "        fig.update_xaxes(title_text='Visual areas', row=2, col=col)\n",
    "\n",
    "    fig.update_layout(title= 'pRF parameters VS Visual areas {}'.format(subject), height=fig_height, width=fig_width,showlegend=True, template='simple_white', font=dict(size=16))\n",
    "\n",
    "    fig.write_image('/home/mchevillard/disks/meso_S/{}_subplot_pRF.pdf'.format(subject))"
   ]
  },
  {
   "cell_type": "markdown",
   "id": "d96e1b1a-180b-4b86-8be3-8d64d45bd059",
   "metadata": {},
   "source": [
    "## Make subplot shared"
   ]
  },
  {
   "cell_type": "code",
   "execution_count": 14,
   "id": "26b1161f-232b-42ea-a38e-ba6ad71a5170",
   "metadata": {
    "tags": []
   },
   "outputs": [],
   "source": [
    "rows, cols = 2,2\n",
    "fig_height, fig_width = 1080,1920\n",
    "\n",
    "fig_subplot_loo_1 = make_subplots(rows=rows, cols=cols, print_grid=False, vertical_spacing=0.08, horizontal_spacing=0.1)\n",
    "fig_subplot_loo_2 = make_subplots(rows=rows, cols=cols, print_grid=False, vertical_spacing=0.08, horizontal_spacing=0.1)\n",
    "\n",
    "for i, subject in enumerate(subjects):\n",
    "    for j, roi in enumerate(rois):\n",
    "        fig=fig_subplot_loo_1 if i==0 else fig_subplot_loo_2\n",
    "\n",
    "        df = data.loc[(data.subject == subject) & (data.roi == roi)]\n",
    "        df_loo = data_loo.loc[(data_loo.subject == subject) & (data_loo.roi == roi)]\n",
    "        \n",
    "        df = df.sort_values('r2', ascending=False)\n",
    "        df_loo = df_loo.sort_values('r2', ascending=False)\n",
    "        df = df.head(250)\n",
    "        df_loo = df_loo.head(250)\n",
    "\n",
    "        fig.add_trace(go.Violin(x=df['roi'][df['roi']==roi], y=df.r2, name=roi, showlegend=True, legendgroup='avg', points=False, scalemode='width', width=0.75, side='negative', line_color = roi_colors[j], meanline_visible=True), row=1, col=1)\n",
    "        fig.add_trace(go.Violin(x=df_loo['roi'][df_loo['roi']==roi], y=df_loo.r2, name=roi, showlegend=True, legendgroup='loo', points=False, scalemode='width', width=0.75, side='positive', line_color = roi_colors_loo[j], meanline_visible=True, fillcolor='rgb(255,255,255)'), row=1, col=1)\n",
    "        fig.add_trace(go.Violin(x=df['roi'][df['roi']==roi], y=df.sd, name=roi, showlegend=False, legendgroup='avg', points=False, scalemode='width', width=0.75, side='negative', line_color = roi_colors[j], meanline_visible=True), row=1, col=2)\n",
    "        fig.add_trace(go.Violin(x=df_loo['roi'][df_loo['roi']==roi], y=df_loo.sd, name=roi, showlegend=False, legendgroup='loo', points=False, scalemode='width', width=0.75, side='positive', line_color=roi_colors_loo[j], meanline_visible=True, fillcolor='rgb(255,255,255)'), row=1, col=2)\n",
    "        fig.add_trace(go.Violin(x=df['roi'][df['roi']==roi], y=df.ecc, name=roi, showlegend=False, legendgroup='avg', points=False, scalemode='width', width=0.75, side='negative', line_color = roi_colors[j], meanline_visible=True), row=2, col=1)\n",
    "        fig.add_trace(go.Violin(x=df_loo['roi'][df_loo['roi']==roi], y=df_loo.ecc, name=roi, showlegend=False, legendgroup='loo', points=False, scalemode='width', width=0.75, side='positive', line_color = roi_colors_loo[j], meanline_visible=True, fillcolor='rgb(255,255,255)'), row=2, col=1)\n",
    "        \n",
    "        # Set axis titles only for the left-most column and bottom-most row\n",
    "        fig.update_yaxes(range=[0,1], title_text='r2', row=1, col=1)\n",
    "        fig.update_yaxes(range=[0,20], title_text='pRF size(dva)', row=1, col=2)\n",
    "        fig.update_yaxes(range=[0,15], nticks=4, title_text='pRF eccentricity (dva)', row=2, col=1)\n",
    "        fig.update_xaxes(showline=True, ticklen=0, linecolor=('rgba(255,255,255,0)'), tickfont=dict(size=18))\n",
    "        fig.update_traces(spanmode='manual', span=[0,1], row=1, col=1)  \n",
    "        fig.update_traces(spanmode='manual', span=[0.1,20], row=1, col=2)\n",
    "        fig.update_traces(spanmode='manual', span=[0,15], row=2, col=1)\n",
    "    fig.update_layout(height=fig_height, width=fig_width, showlegend=True, legend=dict(orientation=\"h\", yanchor='top', y=1.15, xanchor='left', x=0.22, traceorder='normal', itemwidth=50), template='simple_white', font=dict(size=16))\n",
    "  \n",
    "    fig.write_image('/home/mchevillard/disks/meso_S/figures/{}_subplot_pRF_loo.pdf'.format(subject))"
   ]
  },
  {
   "cell_type": "code",
   "execution_count": 14,
   "id": "7eb05612-7ba4-4760-b99a-266aaddac181",
   "metadata": {
    "tags": []
   },
   "outputs": [],
   "source": [
    "# legend=dict(orientation=\"h\", yanchor='top', y=1.1, xanchor=\"center\", x=0.5, traceorder='grouped')"
   ]
  },
  {
   "cell_type": "markdown",
   "id": "f5005193-f0fd-46e5-a218-8bd967fefdd5",
   "metadata": {},
   "source": [
    "#"
   ]
  },
  {
   "cell_type": "markdown",
   "id": "7cec1484-8dca-4a31-b158-a7477df62ca2",
   "metadata": {},
   "source": [
    "## Older version"
   ]
  },
  {
   "cell_type": "code",
   "execution_count": 7,
   "id": "15476f0d-24e8-4c09-8e5f-661c6bcb0468",
   "metadata": {
    "tags": []
   },
   "outputs": [],
   "source": [
    "#subplot settings SIZE\n",
    "rows, cols = 1,2\n",
    "fig_height, fig_width = 1080,1920\n",
    "\n",
    "fig = make_subplots(rows=rows, cols=cols, print_grid=False, vertical_spacing=0.08, horizontal_spacing=0.1)\n",
    "\n",
    "roi_colors = px.colors.sequential.Sunset[:] + px.colors.sequential.Rainbow[:]\n",
    "\n",
    "for i, subject in enumerate(subjects):\n",
    "    for j, roi in enumerate(rois):\n",
    "        if i ==1 :\n",
    "            showlegend = True\n",
    "        else :\n",
    "            showlegend = False\n",
    "        col = (i % 2) + 1\n",
    "        row = i // 2 +1\n",
    "        df = data.loc[(data.subject == subject) & (data.roi == roi)]\n",
    "        slope, intercept = np.polyfit(df.ecc,df.sd,deg=1, w=df.r2)\n",
    "        line = slope * df.ecc + intercept\n",
    "        \n",
    "        fig.add_trace(go.Scatter(x=df.ecc, y=line, mode='lines',name=roi, legendgroup=roi,line_color = roi_colors[j],showlegend=showlegend),row=row, col=col)\n",
    "        \n",
    "        \n",
    "        # Set axis titles only for the left-most column and bottom-most row\n",
    "        if col == 1:\n",
    "            fig.update_yaxes(title_text='pRF size (dva)', row=row, col=col)\n",
    "        if row == 1:\n",
    "            fig.update_xaxes(title_text='pRF eccentricity (dva)', row=row, col=col)\n",
    "        #Add the name of the plot with the subject name\n",
    "        fig.add_annotation(x=0.25, y=16, showarrow=False, text=('{}'.format(subject)), row=1, col=i + 1, font=dict(size=20))\n",
    "    \n",
    "fig.update_layout(height=fig_height, width=fig_width,showlegend=True, template='simple_white')\n",
    "\n",
    "fig.write_image('/home/mchevillard/disks/meso_S/size_ecckjhj.pdf')"
   ]
  },
  {
   "cell_type": "code",
   "execution_count": null,
   "id": "dd269d04-1c59-4644-ac3f-c850a0fa6106",
   "metadata": {},
   "outputs": [],
   "source": []
  }
 ],
 "metadata": {
  "kernelspec": {
   "display_name": "mchevillard",
   "language": "python",
   "name": "mchevillard"
  },
  "language_info": {
   "codemirror_mode": {
    "name": "ipython",
    "version": 3
   },
   "file_extension": ".py",
   "mimetype": "text/x-python",
   "name": "python",
   "nbconvert_exporter": "python",
   "pygments_lexer": "ipython3",
   "version": "3.9.16"
  }
 },
 "nbformat": 4,
 "nbformat_minor": 5
}
