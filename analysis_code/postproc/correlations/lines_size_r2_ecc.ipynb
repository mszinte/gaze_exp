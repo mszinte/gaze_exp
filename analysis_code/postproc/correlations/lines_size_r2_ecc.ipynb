{
 "cells": [
  {
   "cell_type": "markdown",
   "id": "dc6b5aa9-7971-4117-acfc-9caedc95087e",
   "metadata": {},
   "source": [
    "# Linear regression ecc_size"
   ]
  },
  {
   "cell_type": "code",
   "execution_count": 12,
   "id": "1ffa2b7e-6e2d-459f-9896-d1c3bfad5f07",
   "metadata": {
    "tags": []
   },
   "outputs": [],
   "source": [
    "# Imports\n",
    "import warnings\n",
    "warnings.filterwarnings('ignore')\n",
    "\n",
    "import numpy as np\n",
    "import pandas as pd\n",
    "import matplotlib.pyplot as plt\n",
    "from scipy import stats\n",
    "\n",
    "# figure imports\n",
    "import plotly.graph_objects as go\n",
    "from plotly.subplots import make_subplots\n",
    "import plotly.express as px\n",
    "# from plot_utils import plotly_template\n",
    "import plotly.express as px\n",
    "\n",
    "# import data base\n",
    "main_dir = '/home/mchevillard/disks/meso_shared/gaze_exp/'\n",
    "pp_dir = \"{}/derivatives/pp_data\".format(main_dir)\n",
    "tsv_dir = '{}/sub-all/prf/tsv'.format(pp_dir)\n",
    "\n",
    "data = pd.read_table('{}/group_task-prf_prf.tsv'.format(tsv_dir))\n",
    "data = data.drop(columns=['Unnamed: 0'])\n",
    "data_loo = pd.read_table('{}/group_task-loo_prf_prf.tsv'.format(tsv_dir))\n",
    "data_loo = data_loo.drop(columns=['Unnamed: 0'])"
   ]
  },
  {
   "cell_type": "code",
   "execution_count": 13,
   "id": "c9773905-0395-4134-8925-4eacde665b29",
   "metadata": {
    "tags": []
   },
   "outputs": [],
   "source": [
    "# define parameters\n",
    "ecc_th = [0,15]\n",
    "size_th= [0.1,20]\n",
    "r2_th = 0.1\n",
    "\n",
    "# Replace all data outer threshold with NaN data\n",
    "data.loc[(data.ecc < ecc_th[0]) | (data.ecc > ecc_th[1]) | (data.sd < size_th[0]) | (data.sd > size_th[1]) | (data.r2 <=r2_th)] = np.nan\n",
    "data = data.dropna()\n",
    "data_loo.loc[(data_loo.ecc<ecc_th[0]) | (data_loo.ecc > ecc_th[1]) | (data_loo.sd < size_th[0]) | (data_loo.sd > size_th[1]) | (data_loo.r2 <=r2_th)] = np.nan\n",
    "data_loo = data_loo.dropna()"
   ]
  },
  {
   "cell_type": "code",
   "execution_count": 14,
   "id": "4206224f-957a-4e5b-b397-5fe13b0048a8",
   "metadata": {
    "tags": []
   },
   "outputs": [],
   "source": [
    "# np.mean(data.loc[(data.subject =='sub-001')&(data.roi =='V1'),'r2'])"
   ]
  },
  {
   "cell_type": "code",
   "execution_count": 15,
   "id": "f98cc055-9dce-4ed5-b1e5-ffe56acce8d3",
   "metadata": {
    "tags": []
   },
   "outputs": [],
   "source": [
    "rois = pd.unique(data.roi)\n",
    "mask = pd.notnull(data.subject)\n",
    "subjects = pd.unique(data.subject[mask])\n",
    "rois_loo = pd.unique(data_loo.roi)\n",
    "mask_loo = pd.notnull(data_loo.subject)\n",
    "subjects_loo = pd.unique(data_loo.subject[mask_loo])"
   ]
  },
  {
   "cell_type": "code",
   "execution_count": 48,
   "id": "91726a02-f55f-49b4-ae0f-a3beebe32b70",
   "metadata": {},
   "outputs": [],
   "source": [
    "fig_height, fig_width = 400, 1200"
   ]
  },
  {
   "cell_type": "code",
   "execution_count": 23,
   "id": "e3db2436-c896-402d-8d7d-f200a085c8c2",
   "metadata": {
    "tags": []
   },
   "outputs": [],
   "source": [
    "# roi_colors = px.colors.sequential.Sunset[:4] + px.colors.sequential.Rainbow[:]\n",
    "roi_colors_loo = px.colors.sequential.Sunset[:4] + px.colors.sequential.Rainbow[:]"
   ]
  },
  {
   "cell_type": "code",
   "execution_count": 24,
   "id": "ef7802c5-c188-48bf-af50-8d802d425139",
   "metadata": {
    "tags": []
   },
   "outputs": [],
   "source": [
    "#figures\n",
    "fig_subplot_ecc_1 = go.Figure()\n",
    "fig_subplot_ecc_2 = go.Figure()"
   ]
  },
  {
   "cell_type": "markdown",
   "id": "f49c50c0-ba0f-406d-a38d-f4a88cd79743",
   "metadata": {
    "jp-MarkdownHeadingCollapsed": true,
    "tags": []
   },
   "source": [
    "# Old single plots"
   ]
  },
  {
   "cell_type": "code",
   "execution_count": 21,
   "id": "3d1791f4-3393-444b-898c-59f20c8aed6e",
   "metadata": {
    "tags": []
   },
   "outputs": [],
   "source": [
    "#subplot settings SIZE\n",
    "rows, cols, = 1,2\n",
    "fig_height, fig_width = 1080,1920\n",
    "\n",
    "fig = make_subplots(rows=rows, cols=cols, print_grid=False, vertical_spacing=0.08, horizontal_spacing=0.1)\n",
    "\n",
    "roi_colors = px.colors.sequential.Sunset[:4] + px.colors.sequential.Rainbow[:]\n",
    "\n",
    "for i, subject in enumerate(subjects):\n",
    "    for j, roi in enumerate(rois):\n",
    "        if i ==1 :\n",
    "            showlegend = True\n",
    "        else :\n",
    "            showlegend = False\n",
    "        col = (i % 2) + 1\n",
    "        row = i // 2 +1\n",
    "        df = data.loc[(data.subject == subject) & (data.roi == roi)]\n",
    "        slope, intercept = np.polyfit(df.ecc,df.sd,deg=1, w=df.r2)\n",
    "        line = slope * df.ecc + intercept\n",
    "        \n",
    "        fig.add_trace(go.Scatter(x=df.ecc, y=line, mode='lines',name=roi, legendgroup=roi,line_color = roi_colors[j],showlegend=showlegend),row=row, col=col)\n",
    "        \n",
    "        \n",
    "        # Set axis titles only for the left-most column and bottom-most row\n",
    "        if col == 1:\n",
    "            fig.update_yaxes(title_text='pRF size (dva)', row=row, col=col)\n",
    "        if row == 1:\n",
    "            fig.update_xaxes(title_text='pRF eccentricity (dva)', row=row, col=col)\n",
    "        #Add the name of the plot with the subject name\n",
    "        fig.add_annotation(x=0.25, y=16, showarrow=False, text=('{}'.format(subject)), row=1, col=i + 1, font=dict(size=20))\n",
    "    \n",
    "fig.update_layout(height=fig_height, width=fig_width,showlegend=True, template='simple_white')\n",
    "\n",
    "fig.write_image('/home/mchevillard/disks/meso_S/size_ecc.pdf')"
   ]
  },
  {
   "cell_type": "code",
   "execution_count": 43,
   "id": "3eaabe4e-9050-4a53-a89e-d5af347546d5",
   "metadata": {
    "tags": []
   },
   "outputs": [],
   "source": [
    "#subplot settings R2\n",
    "rows, cols, = 1,2\n",
    "fig_height, fig_width = 1080,1920\n",
    "\n",
    "fig = make_subplots(rows=rows, cols=cols, print_grid=False, vertical_spacing=0.08, horizontal_spacing=0.1)\n",
    "\n",
    "roi_colors = px.colors.sequential.Sunset[:4] + px.colors.sequential.Rainbow[:]\n",
    "\n",
    "for i, subject in enumerate(subjects):\n",
    "    for j, roi in enumerate(rois):\n",
    "        if i ==1 :\n",
    "            showlegend = True\n",
    "        else :\n",
    "            showlegend = False\n",
    "        col = (i % 2) + 1\n",
    "        row = i // 2 +1\n",
    "        df = data.loc[(data.subject == subject) & (data.roi == roi)]\n",
    "        slope, intercept = np.polyfit(df.ecc,df.r2, deg=1)\n",
    "        line = slope * df.ecc + intercept\n",
    "        \n",
    "        fig.add_trace(go.Scatter(x=df.ecc, y=line, mode='lines',name=roi, legendgroup=roi,line_color = roi_colors[j],showlegend=showlegend),row=row, col=col)\n",
    "        \n",
    "        \n",
    "        # Set axis titles only for the left-most column and bottom-most row\n",
    "        if col == col:\n",
    "            fig.update_yaxes(title_text='R2', range=[0,0.4], row=row, col=col)\n",
    "        if row == 1:\n",
    "            fig.update_xaxes(title_text='pRF eccentricity (dva)', row=row, col=col)\n",
    "        #Add the name of the plot with the subject name\n",
    "        fig.add_annotation(x=0.25, y=16, showarrow=False, text=('{}'.format(subject)), row=1, col=i + 1, font=dict(size=20))\n",
    "    \n",
    "fig.update_layout(height=fig_height, width=fig_width,showlegend=True, template='simple_white')\n",
    "\n",
    "fig.write_image('/home/mchevillard/disks/meso_S/R2_ecc.pdf')"
   ]
  },
  {
   "cell_type": "markdown",
   "id": "bdb1dc65-586b-4bd2-855c-176a3ebb9d20",
   "metadata": {
    "tags": []
   },
   "source": [
    "# Subplot Size-Ecc 3 areas / plot"
   ]
  },
  {
   "cell_type": "code",
   "execution_count": 50,
   "id": "b5ed5355-c3c7-4d69-8139-853d438047d3",
   "metadata": {
    "tags": []
   },
   "outputs": [],
   "source": [
    "rows, cols = 1,4\n",
    "\n",
    "fig_subplot_ecc_1 = make_subplots(rows=rows, cols=cols, print_grid=False)\n",
    "fig_subplot_ecc_2 = make_subplots(rows=rows, cols=cols, print_grid=False)\n",
    "\n",
    "roi_colors_loo = px.colors.sequential.Sunset[:4] + px.colors.sequential.Rainbow[:]\n",
    "\n",
    "lines = [['V1', 'V2', 'V3'],['V3AB', 'LO', 'VO'],['hMT+', 'iIPS', 'sIPS'],['iPCS', 'sPCS', 'mPCS']]\n",
    "\n",
    "\n",
    "for i, subject in enumerate(subjects):\n",
    "    for l, line_label in enumerate(lines):\n",
    "        for j, roi in enumerate(line_label):\n",
    "            fig=fig_subplot_ecc_1 if i==0 else fig_subplot_ecc_2\n",
    "            #Sorting best datas\n",
    "            df = data_loo.loc[(data_loo.subject == subject) & (data_loo.roi == roi)]\n",
    "            df = df.sort_values('r2', ascending=False)\n",
    "            df = df.head(250)\n",
    "            #Parametring colors\n",
    "            roi_color = roi_colors_loo[j + l * 3]\n",
    "            roi_color_opac = f\"rgba{roi_color[3:-1]}, 0.15)\"\n",
    "            \n",
    "            # Grouping by eccentricities\n",
    "            df_grouped = df.groupby(pd.cut(df['ecc'], bins=np.arange(0, 17, 2.5)))\n",
    "            \n",
    "            df_sorted = df.sort_values('ecc')\n",
    "            \n",
    "            ecc_mean = df_grouped['ecc'].mean().tolist()\n",
    "            sd_mean = df_grouped['sd'].mean().tolist()\n",
    "            r2_mean = df_grouped['r2'].mean().tolist()\n",
    "            \n",
    "            # CI95 for each group of ecc\n",
    "            ci = df_grouped['sd'].apply(lambda x: stats.t.interval(0.95, len(x) - 1, loc=x.mean(), scale=stats.sem(x)))\n",
    "            upper_bound = ci.apply(lambda x: x[1])\n",
    "            lower_bound = ci.apply(lambda x: x[0])\n",
    "            \n",
    "            # Linear regression\n",
    "            slope, intercept = np.polyfit(ecc_mean, sd_mean, deg=1, w=r2_mean)\n",
    "            slope_upper, intercept_upper = np.polyfit(ecc_mean, upper_bound, deg=1, w=r2_mean)\n",
    "            slope_lower, intercept_lower = np.polyfit(ecc_mean, lower_bound, deg=1, w=r2_mean)\n",
    "            line = slope * df_sorted.ecc + intercept\n",
    "            line_upper = slope_upper * df_sorted.ecc + intercept_upper\n",
    "            line_lower = slope_lower * df_sorted.ecc + intercept_lower\n",
    "\n",
    "            fig.add_trace(go.Scatter(x=df_sorted.ecc, y=line, mode='lines', name=roi, legendgroup=roi, line=dict(color=roi_color, width=3), showlegend=False), row=1, col=l + 1)\n",
    "\n",
    "            # Error area\n",
    "            fig.add_trace(go.Scatter(x=np.concatenate([df_sorted.ecc, df_sorted.ecc[::-1]]), y=np.concatenate([list(line_upper), list(line_lower[::-1])]), mode='lines', fill='toself', fillcolor=roi_color_opac, line=dict(color=roi_color_opac, width=1), showlegend=False), row=1, col=l + 1)\n",
    "\n",
    "            #Error bars\n",
    "            fig.add_trace(go.Scatter(x=ecc_mean, y=sd_mean, mode='markers', error_y=dict(type='data', array=ci.apply(lambda x: (x[1] - x[0]) / 2).tolist(), visible=True, thickness=1, width=0), marker=dict(color=roi_color, size=12), showlegend=False), row=1, col=l + 1)\n",
    "            \n",
    "            #Add legend\n",
    "            annotation = go.layout.Annotation(x=1.2, y=20-j*2, text=roi, showarrow=False, font=dict(color=roi_color, size=12))\n",
    "            fig.add_annotation(annotation, row=1, col=l+1)\n",
    "        \n",
    "        # Set axis titles only for the left-most column and bottom-most row\n",
    "        fig.update_yaxes(title_text='pRF size (dva)', row=1, col=1)\n",
    "        fig.update_xaxes(title_text='pRF eccentricity (dva)', range=[0,15], row=1, col=l+1)\n",
    "        fig.update_yaxes(range=[0,20])\n",
    "        fig.update_layout(height=fig_height, width=fig_width, showlegend=False, template='simple_white')\n",
    "\n",
    "\n",
    "    fig.write_image('/home/mchevillard/disks/meso_S/figures/{}_subplot_size_ecc_250.pdf'.format(subject))"
   ]
  },
  {
   "cell_type": "code",
   "execution_count": null,
   "id": "a9ef00ea-e6c6-43b1-8871-4e46ad849b3d",
   "metadata": {
    "jupyter": {
     "source_hidden": true
    },
    "tags": []
   },
   "outputs": [],
   "source": [
    "# fig.add_trace(go.Scatter(x=ecc_mean, y=sd_mean, mode='markers', marker=dict(color=roi_color, size=11), showlegend=False), row=1, col=l + 1)\n",
    "   \n",
    " # fig.add_trace(go.Scatter(x=ecc_mean, y=sd_mean, mode='markers', marker=dict(color=roi_color), showlegend=False), row=1, col=l + 1)\n",
    "              \n",
    "  # fig.add_trace(go.Scatter(x=df.ecc, y=(line_upper.tolist() + line_lower.tolist()[::-1]), mode='lines', fill='tonexty', fillcolor=roi_color_opac, line=dict(color=roi_color_opac, width=1), showlegend=False), row=1, col=l + 1)\n",
    "              \n",
    "# fig.add_trace(go.Scatter(x=df.ecc, y=line, mode='lines', fill='none', name=roi, legendgroup=roi, line=dict(color=roi_color, width=0), showlegend=False), row=1, col=l + 1)\n",
    "\n",
    "# # Tracer l'aire entre les limites supérieure et inférieure\n",
    "            # fig.add_trace(go.Scatter(x=df.ecc, y=upper_bound, mode='lines', fill='tonexty', fillcolor=roi_color_opac, line=dict(color=roi_color, width=0), showlegend=False), row=1, col=l + 1)\n",
    "            # fig.add_trace(go.Scatter(x=df.ecc, y=lower_bound, mode='lines', fill='tonexty', fillcolor=roi_color_opac, line=dict(color=roi_color, width=0), showlegend=False), row=1, col=l + 1)\n",
    "           "
   ]
  },
  {
   "cell_type": "code",
   "execution_count": 48,
   "id": "3e78ea3e-6f94-4953-93a7-7e772adbe3ca",
   "metadata": {
    "jupyter": {
     "source_hidden": true
    },
    "tags": []
   },
   "outputs": [],
   "source": [
    "## faire CI95\n",
    "# moy +/- std\n",
    "\n",
    "## feat linéaire std mean haute et mean basse"
   ]
  },
  {
   "cell_type": "markdown",
   "id": "5bea6785-b109-4855-999c-ea5a0c5932fe",
   "metadata": {
    "jp-MarkdownHeadingCollapsed": true,
    "tags": []
   },
   "source": [
    "# Uriel's version"
   ]
  },
  {
   "cell_type": "code",
   "execution_count": 1,
   "id": "5c91a35d-81e0-4989-87cf-4faf0b75d6bc",
   "metadata": {
    "tags": []
   },
   "outputs": [],
   "source": [
    "# Imports\n",
    "import warnings\n",
    "warnings.filterwarnings('ignore')\n",
    "\n",
    "import numpy as np\n",
    "import pandas as pd\n",
    "\n",
    "# figure imports\n",
    "import plotly.graph_objects as go\n",
    "from plotly.subplots import make_subplots\n",
    "import plotly.express as px\n",
    "# from plot_utils import plotly_template\n",
    "import plotly.express as px\n",
    "\n",
    "# import data base\n",
    "main_dir = '/home/mchevillard/disks/meso_shared/gaze_exp/'\n",
    "pp_dir = \"{}/derivatives/pp_data\".format(main_dir)\n",
    "tsv_dir = '{}/sub-all/prf/tsv'.format(pp_dir)\n",
    "\n",
    "data = pd.read_table('{}/group_task-prf_prf.tsv'.format(tsv_dir))\n",
    "data = data.drop(columns=['Unnamed: 0'])"
   ]
  },
  {
   "cell_type": "code",
   "execution_count": 15,
   "id": "f6d05abc-5c44-4c81-a546-a4997b158ad6",
   "metadata": {
    "tags": []
   },
   "outputs": [],
   "source": [
    "ecc_th = [0,20]\n",
    "size_th= [0.1,20]\n",
    "r2_th = 0.1\n",
    "\n",
    "\n",
    "data.loc[(data.ecc < ecc_th[0]) | (data.ecc > ecc_th[1]) | (data.sd < size_th[0]) | (data.sd > size_th[1]) | (data.r2 <=r2_th )] = np.nan\n",
    "data = data.dropna()"
   ]
  },
  {
   "cell_type": "code",
   "execution_count": 16,
   "id": "ec5c6f27-00bd-43e7-8013-7c5dd610cc87",
   "metadata": {
    "tags": []
   },
   "outputs": [],
   "source": [
    "# subject and roi settings\n",
    "\n",
    "subject = 'sub-002'\n",
    "roi = 'V2'\n",
    "\n",
    "sub_roi = data.loc[(data.subject == subject)&(data.roi == roi)]"
   ]
  },
  {
   "cell_type": "code",
   "execution_count": 17,
   "id": "20270b94-f658-408b-9916-a31c7f0ecb44",
   "metadata": {
    "tags": []
   },
   "outputs": [],
   "source": [
    "slope, intercept = np.polyfit(sub_roi.ecc,sub_roi.sd,deg=1, w=sub_roi.r2)\n",
    "line = slope * sub_roi.ecc + intercept"
   ]
  },
  {
   "cell_type": "code",
   "execution_count": 1,
   "id": "4535e33f-5805-4c7e-bb28-e4d82d78dff6",
   "metadata": {
    "tags": []
   },
   "outputs": [],
   "source": [
    "# #plot \n",
    "# fig = go.Figure()\n",
    "# fig.add_trace(go.Scatter(x=sub_roi.ecc, y=sub_roi.sd, mode='markers', name=roi))\n",
    "# fig.add_trace(go.Scatter(x=sub_roi.ecc, y=line, mode='lines', name='linear regression'))\n",
    "# fig.update_layout(title= '{subject}_{roi}'.format(subject=subject,roi=roi) ,xaxis_title='ecc', yaxis_title='size',xaxis=dict(range=[0, 20]), yaxis=dict(range=[0, 10]))\n",
    "# fig.show()"
   ]
  },
  {
   "cell_type": "code",
   "execution_count": null,
   "id": "9532e6ba-3730-4561-8551-e32227f82ba0",
   "metadata": {},
   "outputs": [],
   "source": []
  }
 ],
 "metadata": {
  "kernelspec": {
   "display_name": "mchevillard",
   "language": "python",
   "name": "mchevillard"
  },
  "language_info": {
   "codemirror_mode": {
    "name": "ipython",
    "version": 3
   },
   "file_extension": ".py",
   "mimetype": "text/x-python",
   "name": "python",
   "nbconvert_exporter": "python",
   "pygments_lexer": "ipython3",
   "version": "3.9.16"
  }
 },
 "nbformat": 4,
 "nbformat_minor": 5
}
