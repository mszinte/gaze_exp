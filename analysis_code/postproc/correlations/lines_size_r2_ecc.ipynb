{
 "cells": [
  {
   "cell_type": "markdown",
   "id": "dc6b5aa9-7971-4117-acfc-9caedc95087e",
   "metadata": {},
   "source": [
    "# Linear regression ecc_size"
   ]
  },
  {
   "cell_type": "code",
   "execution_count": null,
   "id": "1ffa2b7e-6e2d-459f-9896-d1c3bfad5f07",
   "metadata": {
    "tags": []
   },
   "outputs": [],
   "source": [
    "# Imports\n",
    "import warnings\n",
    "warnings.filterwarnings('ignore')\n",
    "\n",
    "import numpy as np\n",
    "import pandas as pd\n",
    "import os\n",
    "import scipy\n",
    "import matplotlib.pyplot as plt\n",
    "from scipy import stats\n",
    "from sklearn.linear_model import LinearRegression\n",
    "\n",
    "# Figure imports\n",
    "import plotly.graph_objects as go\n",
    "from plotly.subplots import make_subplots\n",
    "import plotly.express as px\n",
    "\n",
    "# Import data base\n",
    "main_dir = '/home/mszinte/disks/meso_S/data'\n",
    "project_dir = 'gaze_exp'\n",
    "pp_dir = \"{}/{}/derivatives/pp_data\".format(main_dir, project_dir)\n",
    "tsv_dir ='{}/sub-all/tsv'.format(pp_dir)\n",
    "fig_dir = '{}/sub-all/figures'.format(pp_dir)\n",
    "os.makedirs(fig_dir, exist_ok=True)"
   ]
  },
  {
   "cell_type": "code",
   "execution_count": null,
   "id": "a872f913-a54a-492e-b76c-efe9e563655e",
   "metadata": {
    "tags": []
   },
   "outputs": [],
   "source": [
    "def weighted_regression(x_reg,y_reg,weight_reg):\n",
    "    \"\"\"\n",
    "    Function to compute regression parameter weighted by a matrix (e.g. r2 value).\n",
    "\n",
    "    Parameters\n",
    "    ----------\n",
    "    x_reg : array (1D)\n",
    "        x values to regress\n",
    "    y_reg : array\n",
    "        y values to regress\n",
    "    weight_reg : array (1D) \n",
    "        weight values (0 to 1) for weighted regression\n",
    "\n",
    "    Returns\n",
    "    -------\n",
    "    coef_reg : array\n",
    "        regression coefficient\n",
    "    intercept_reg : str\n",
    "        regression intercept\n",
    "    \"\"\"\n",
    "\n",
    "    from sklearn import linear_model\n",
    "    import numpy as np\n",
    "    \n",
    "    regr = linear_model.LinearRegression()\n",
    "    \n",
    "    x_reg = np.array(x_reg)\n",
    "    y_reg = np.array(y_reg)\n",
    "    weight_reg = np.array(weight_reg)\n",
    "    \n",
    "    def m(x, w):\n",
    "        return np.sum(x * w) / np.sum(w)\n",
    "\n",
    "    def cov(x, y, w):\n",
    "        # see https://www2.microstrategy.com/producthelp/archive/10.8/FunctionsRef/Content/FuncRef/WeightedCov__weighted_covariance_.htm\n",
    "        return np.sum(w * (x - m(x, w)) * (y - m(y, w))) / np.sum(w)\n",
    "\n",
    "    def weighted_corr(x, y, w):\n",
    "        # see https://www2.microstrategy.com/producthelp/10.4/FunctionsRef/Content/FuncRef/WeightedCorr__weighted_correlation_.htm\n",
    "        return cov(x, y, w) / np.sqrt(cov(x, x, w) * cov(y, y, w))\n",
    "\n",
    "    \n",
    "    x_reg_nan = x_reg[(~np.isnan(x_reg) & ~np.isnan(y_reg))]\n",
    "    y_reg_nan = y_reg[(~np.isnan(x_reg) & ~np.isnan(y_reg))]\n",
    "    weight_reg_nan = weight_reg[~np.isnan(weight_reg)]\n",
    "\n",
    "    regr.fit(x_reg_nan.reshape(-1, 1), y_reg_nan.reshape(-1, 1),weight_reg_nan)\n",
    "    coef_reg, intercept_reg = regr.coef_, regr.intercept_\n",
    "\n",
    "    return coef_reg, intercept_reg"
   ]
  },
  {
   "cell_type": "code",
   "execution_count": null,
   "id": "0659b0a8-f7ec-488a-96e8-5304a06627d9",
   "metadata": {
    "tags": []
   },
   "outputs": [],
   "source": [
    "# Load data\n",
    "data = pd.read_table('{}/sub-all_prf_cf.tsv'.format(tsv_dir))\n",
    "data.drop(columns=['Unnamed: 0'])"
   ]
  },
  {
   "cell_type": "code",
   "execution_count": null,
   "id": "c9773905-0395-4134-8925-4eacde665b29",
   "metadata": {
    "tags": []
   },
   "outputs": [],
   "source": [
    "# Filter data\n",
    "ecc_th = [0, 20]\n",
    "size_th= [0, 20]\n",
    "rsq_th = [0, 1]\n",
    "\n",
    "# Replace all data outer threshold with NaN data\n",
    "data.loc[(data.prf_ecc < ecc_th[0]) | (data.prf_ecc > ecc_th[1]) | \n",
    "         (data.prf_size < size_th[0]) | (data.prf_size > size_th[1]) | \n",
    "         (data.prf_rsq_loo <=rsq_th[0])] = np.nan\n",
    "\n",
    "data = data.dropna()\n",
    "\n",
    "rois = pd.unique(data.roi)\n",
    "mask = pd.notnull(data.subject)\n",
    "subjects = pd.unique(data.subject[mask])"
   ]
  },
  {
   "cell_type": "code",
   "execution_count": null,
   "id": "91726a02-f55f-49b4-ae0f-a3beebe32b70",
   "metadata": {
    "tags": []
   },
   "outputs": [],
   "source": [
    "# Define colors\n",
    "roi_colors = px.colors.sequential.Sunset[:4] + px.colors.sequential.Rainbow[:]"
   ]
  },
  {
   "cell_type": "code",
   "execution_count": null,
   "id": "b5ed5355-c3c7-4d69-8139-853d438047d3",
   "metadata": {
    "tags": []
   },
   "outputs": [],
   "source": [
    "fig_height, fig_width = 400, 1200\n",
    "rows, cols = 1,4\n",
    "lines = [['V1', 'V2', 'V3'],['V3AB', 'LO', 'VO'],['hMT+', 'iIPS', 'sIPS'],['iPCS', 'sPCS', 'mPCS']]\n",
    "for i, subject in enumerate(subjects):\n",
    "    fig = make_subplots(rows=rows, cols=cols, print_grid=False)\n",
    "    for l, line_label in enumerate(lines):\n",
    "        for j, roi in enumerate(line_label):\n",
    "            \n",
    "            # Sorting best datas\n",
    "            df = data.loc[(data.subject == subject) & (data.roi == roi)]\n",
    "            \n",
    "            # Parametring colors\n",
    "            roi_color = roi_colors[j + l * 3]\n",
    "            roi_color_opac = f\"rgba{roi_color[3:-1]}, 0.15)\"\n",
    "            \n",
    "            # Grouping by eccentricities\n",
    "            df_grouped = df.groupby(pd.cut(df['prf_ecc'], bins=np.arange(0, 17.5, 2.5)))\n",
    "            df_sorted = df.sort_values('prf_ecc')\n",
    "            \n",
    "            ecc_mean = np.array(df_grouped['prf_ecc'].mean())\n",
    "            sd_mean = np.array(df_grouped['prf_size'].mean())\n",
    "            r2_mean = np.array(df_grouped['prf_rsq_loo'].mean())\n",
    "            \n",
    "            # CI95 for each group of ecc\n",
    "            ci = df_grouped['prf_size'].apply(lambda x: stats.t.interval(0.95, len(x)-1, loc=np.nanmean(x), scale=scipy.stats.sem(x, nan_policy='omit')))\n",
    "            upper_bound = np.array(ci.apply(lambda x: x[1]))\n",
    "            lower_bound = np.array(ci.apply(lambda x: x[0]))\n",
    "            \n",
    "            # Linear regression\n",
    "            slope, intercept = weighted_regression(ecc_mean, sd_mean, r2_mean)\n",
    "            slope_upper, intercept_upper = weighted_regression(ecc_mean[np.where(~np.isnan(upper_bound))], upper_bound[~np.isnan(upper_bound)], r2_mean[np.where(~np.isnan(upper_bound))])\n",
    "            slope_lower, intercept_lower = weighted_regression(ecc_mean[np.where(~np.isnan(lower_bound))], lower_bound[~np.isnan(lower_bound)], r2_mean[np.where(~np.isnan(lower_bound))])\n",
    "            line = slope[0][0] * np.array(df_sorted.prf_ecc) + intercept[0]\n",
    "            line_upper = slope_upper[0][0] * np.array(df_sorted.prf_ecc) + intercept_upper[0]\n",
    "            line_lower = slope_lower[0][0] * np.array(df_sorted.prf_ecc) + intercept_lower[0]\n",
    "\n",
    "            fig.add_trace(go.Scatter(x=np.array(df_sorted.prf_ecc), y=line, mode='lines', name=roi, legendgroup=roi, \n",
    "                                     line=dict(color=roi_color, width=3), showlegend=False), \n",
    "                          row=1, col=l+1)\n",
    "\n",
    "            # Error area\n",
    "            fig.add_trace(go.Scatter(x=np.concatenate([df_sorted.prf_ecc, df_sorted.prf_ecc[::-1]]), \n",
    "                                     y=np.concatenate([list(line_upper), list(line_lower[::-1])]), \n",
    "                                     mode='lines', fill='toself', fillcolor=roi_color_opac, \n",
    "                                     line=dict(color=roi_color_opac, width=0), showlegend=False), \n",
    "                          row=1, col=l+1)\n",
    "\n",
    "            # Markers\n",
    "            fig.add_trace(go.Scatter(x=ecc_mean, y=sd_mean, mode='markers', \n",
    "                                     error_y=dict(type='data', array=ci.apply(lambda x: (x[1] - x[0]) / 2).tolist(), visible=True, thickness=3, width=0, color =roi_color),\n",
    "                                     marker=dict(color='white', size=8, \n",
    "                                                 line=dict(color=roi_color,width=3)\n",
    "                                                ), showlegend=False), \n",
    "                          row=1, col=l + 1)\n",
    "            \n",
    "            # Add legend\n",
    "            annotation = go.layout.Annotation(x=1, y=20-j*2, text=roi, xanchor='left',\n",
    "                                              showarrow=False, font=dict(color=roi_color, size=12))\n",
    "            fig.add_annotation(annotation, row=1, col=l+1)\n",
    "        \n",
    "        # Set axis titles only for the left-most column and bottom-most row\n",
    "        fig.update_yaxes(title_text='pRF size (dva)', row=1, col=1)\n",
    "        fig.update_xaxes(title_text='pRF eccentricity (dva)', range=[0,15], row=1, col=l+1)\n",
    "        fig.update_yaxes(range=[0,15])\n",
    "        fig.update_layout(height=fig_height, width=fig_width, showlegend=False, template='simple_white')\n",
    "    \n",
    "    fig.show()\n",
    "    fig.write_image(\"{}/{}_prf_size_ecc.pdf\".format(fig_dir, subject)) \n",
    "    "
   ]
  }
 ],
 "metadata": {
  "kernelspec": {
   "display_name": "mszinte",
   "language": "python",
   "name": "mszinte"
  },
  "language_info": {
   "codemirror_mode": {
    "name": "ipython",
    "version": 3
   },
   "file_extension": ".py",
   "mimetype": "text/x-python",
   "name": "python",
   "nbconvert_exporter": "python",
   "pygments_lexer": "ipython3",
   "version": "3.9.13"
  }
 },
 "nbformat": 4,
 "nbformat_minor": 5
}
