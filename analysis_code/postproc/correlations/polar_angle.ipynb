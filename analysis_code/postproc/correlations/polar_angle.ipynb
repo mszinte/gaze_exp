{
 "cells": [
  {
   "cell_type": "markdown",
   "id": "221576cb-e4d5-48ce-809c-a2f43f114baf",
   "metadata": {},
   "source": [
    "# Polar angle"
   ]
  },
  {
   "cell_type": "code",
   "execution_count": 1,
   "id": "947c9efd-2954-4f18-9a37-08df8131b0ca",
   "metadata": {
    "tags": []
   },
   "outputs": [],
   "source": [
    "# Imports\n",
    "import warnings\n",
    "warnings.filterwarnings('ignore')\n",
    "\n",
    "import numpy as np\n",
    "import pandas as pd\n",
    "\n",
    "\n",
    "# figure imports\n",
    "import plotly.io as pio\n",
    "import plotly.graph_objects as go\n",
    "from plotly.subplots import make_subplots\n",
    "\n",
    "import plotly.express as px\n",
    "# from plot_utils import plotly_template\n",
    "import plotly.express as px\n",
    "\n",
    "# import data base\n",
    "main_dir = '/home/mchevillard/disks/meso_shared/gaze_exp/'\n",
    "pp_dir = \"{}/derivatives/pp_data\".format(main_dir)\n",
    "tsv_dir = '{}/sub-all/prf/tsv'.format(pp_dir)\n",
    "\n",
    "data = pd.read_table('{}/group_task-prf_prf.tsv'.format(tsv_dir))\n",
    "data = data.drop(columns=['Unnamed: 0'])\n",
    "data_loo = pd.read_table('{}/group_task-loo_prf_prf.tsv'.format(tsv_dir))\n",
    "data_loo = data_loo.drop(columns=['Unnamed: 0'])"
   ]
  },
  {
   "cell_type": "code",
   "execution_count": 2,
   "id": "1085954b-ca1c-4942-a34a-f80e2b15ac81",
   "metadata": {
    "tags": []
   },
   "outputs": [],
   "source": [
    "# define parameters\n",
    "ecc_th = [0,15]\n",
    "size_th= [0.1,20]\n",
    "r2_th = 0.1\n",
    "\n",
    "# Replace all data outer threshold with NaN data\n",
    "data.loc[(data.ecc < ecc_th[0]) | (data.ecc > ecc_th[1]) | (data.sd < size_th[0]) | (data.sd > size_th[1]) | (data.r2 <=r2_th)] = np.nan\n",
    "data = data.dropna()\n",
    "data_loo.loc[(data_loo.ecc<ecc_th[0]) | (data_loo.ecc > ecc_th[1]) | (data_loo.sd < size_th[0]) | (data_loo.sd > size_th[1]) | (data_loo.r2 <=r2_th)] = np.nan\n",
    "data_loo = data_loo.dropna()"
   ]
  },
  {
   "cell_type": "code",
   "execution_count": 3,
   "id": "f0b7bfad-d5a4-4228-a646-6e917aaad34b",
   "metadata": {
    "tags": []
   },
   "outputs": [],
   "source": [
    "rois = pd.unique(data.roi)\n",
    "mask = pd.notnull(data.subject)\n",
    "subjects = pd.unique(data.subject[mask])\n",
    "rois_loo = pd.unique(data_loo.roi)\n",
    "mask_loo = pd.notnull(data_loo.subject)\n",
    "subjects_loo = pd.unique(data_loo.subject[mask_loo])"
   ]
  },
  {
   "cell_type": "code",
   "execution_count": 4,
   "id": "410f3922-8042-4b08-abf0-7ff967c73ca2",
   "metadata": {
    "tags": []
   },
   "outputs": [],
   "source": [
    "# roi_colors = px.colors.sequential.Sunset[:4] + px.colors.sequential.Rainbow[:]\n",
    "roi_colors_loo = px.colors.sequential.Sunset[:4] + px.colors.sequential.Rainbow[:]"
   ]
  },
  {
   "cell_type": "code",
   "execution_count": 5,
   "id": "8d62630d-2d02-4d5f-9c90-998aa429cd66",
   "metadata": {
    "tags": []
   },
   "outputs": [],
   "source": [
    "#figures\n",
    "fig_polar_angle_1 = go.Figure()\n",
    "fig_polar_angle_2 = go.Figure()\n",
    "fig_contra_1 = go.Figure()\n",
    "fig_contra_2 = go.Figure()"
   ]
  },
  {
   "cell_type": "markdown",
   "id": "b0585a8a-3d92-434b-b3e4-cdf54b290cce",
   "metadata": {
    "tags": []
   },
   "source": [
    "# Barpolar for 1 subject and 1 ROI"
   ]
  },
  {
   "cell_type": "code",
   "execution_count": 92,
   "id": "951f84d8-d779-49eb-b6ae-8059a151ad09",
   "metadata": {
    "tags": []
   },
   "outputs": [
    {
     "name": "stdout",
     "output_type": "stream",
     "text": [
      "[152  70  35  46  82 135 255 168 117 125 128 213]\n"
     ]
    }
   ],
   "source": [
    "# Filtrer les données pour V1 et l'hémisphère droit du sujet 1\n",
    "df = data_loo.loc[(data_loo['subject'] =='sub-001') & (data_loo['roi'] =='V1')]\n",
    "\n",
    "#Conversion\n",
    "df.angle = np.degrees(df.angle)\n",
    "df.angle = np.mod(df.angle, 360)\n",
    "\n",
    "\n",
    "# Créer les tranches d'angle polaire\n",
    "num_slices = 12\n",
    "theta_slices = np.linspace(0, 360, num_slices+1, endpoint=True)\n",
    "\n",
    "# Compter le nombre de voxels dans chaque tranche\n",
    "voxels_counts, _ = np.histogram(df.angle, bins=theta_slices)\n",
    "\n",
    "# Créer le graphique barpolar\n",
    "fig = go.Figure(go.Barpolar(r=voxels_counts,\n",
    "                            theta=theta_slices,\n",
    "                            width=30,\n",
    "                            marker_color=roi_colors_loo[0],\n",
    "                            marker_line_color='black',  # Couleur de la ligne des barres\n",
    "                            marker_line_width=1,  # Épaisseur de la ligne des barres\n",
    "                            opacity=0.8  # Opacité des barres\n",
    "))\n",
    "\n",
    "# Define parameters\n",
    "fig.update_polars(radialaxis=dict(visible=False), angularaxis=dict(visible=False), barmode='overlay')\n",
    "\n",
    "fig.update_layout(title='Barpolar - Sub-001 - V1 ', title_font_size=20, template='simple_white')\n",
    "\n",
    "fig.write_image('/home/mchevillard/disks/meso_S/figures/sub-001_polar_V1.pdf')"
   ]
  },
  {
   "cell_type": "markdown",
   "id": "6beeef4b-fedc-4a62-b634-1c3bf778510b",
   "metadata": {
    "tags": []
   },
   "source": [
    "# Subplot all ROIs by subject"
   ]
  },
  {
   "cell_type": "code",
   "execution_count": 49,
   "id": "49510168-ad22-4966-a548-8910b8b9e572",
   "metadata": {},
   "outputs": [],
   "source": [
    "rows, cols = 1, 12\n",
    "fig_height, fig_width = 300, 1920\n",
    "specs = [[{'type': 'polar'}] * cols]\n",
    "\n",
    "fig_polar_angle_1 = make_subplots(rows=rows, cols=cols, print_grid=False, specs=specs)\n",
    "fig_polar_angle_2 = make_subplots(rows=rows, cols=cols, print_grid=False, specs=specs)\n",
    "roi_colors_loo = px.colors.sequential.Sunset[:4] + px.colors.sequential.Rainbow[:]\n",
    "\n",
    "for i, subject in enumerate(subjects):\n",
    "    for j, roi in enumerate(rois):\n",
    "        fig=fig_polar_angle_1 if i==0 else fig_polar_angle_2\n",
    "\n",
    "        df = data_loo.loc[(data_loo.subject == subject) & (data_loo.roi==roi)]\n",
    "        df = df.sort_values('r2', ascending=False)\n",
    "        df = df.head(500)\n",
    "        #Conversion\n",
    "        df.angle = np.degrees(df.angle)\n",
    "        df.angle = np.mod(df.angle, 360)\n",
    "\n",
    "        # Parts of polar angles and number of voxels in each part\n",
    "        num_slices = 12\n",
    "        theta_slices = np.linspace(0, 360, num_slices+1, endpoint=True)\n",
    "        voxels_counts, _ = np.histogram(df.angle, bins=theta_slices)\n",
    "\n",
    "        # barpolar\n",
    "        fig.add_trace(go.Barpolar(r=voxels_counts, theta=theta_slices, width=30, marker_color=roi_colors_loo[j], marker_line_color='black', marker_line_width=1, opacity=0.8), row=1, col=j+1)\n",
    "\n",
    "    # Define parameters\n",
    "    \n",
    "    fig.update_polars(angularaxis=dict(visible=False), radialaxis=dict(visible=False))\n",
    "    fig.update_layout(height=fig_height, width=fig_width, showlegend=False, template='simple_white')\n",
    "\n",
    "    fig.write_image('/home/mchevillard/disks/meso_S/figures/{}_subplot_polar.pdf'.format(subject))"
   ]
  },
  {
   "cell_type": "markdown",
   "id": "4b0f9cd4-26d4-4135-b838-af75828303f4",
   "metadata": {},
   "source": [
    "## Only RIGHT"
   ]
  },
  {
   "cell_type": "code",
   "execution_count": 50,
   "id": "b924fa67-b734-408a-a8bf-50d50c6f86ed",
   "metadata": {},
   "outputs": [],
   "source": [
    "rows, cols = 1, 12\n",
    "fig_height, fig_width = 300, 1920\n",
    "specs = [[{'type': 'polar'}] * cols]\n",
    "\n",
    "fig_polar_angle_1 = make_subplots(rows=rows, cols=cols, print_grid=False, specs=specs)\n",
    "fig_polar_angle_2 = make_subplots(rows=rows, cols=cols, print_grid=False, specs=specs)\n",
    "roi_colors_loo = px.colors.sequential.Sunset[:4] + px.colors.sequential.Rainbow[:]\n",
    "\n",
    "for i, subject in enumerate(subjects):\n",
    "    for j, roi in enumerate(rois):\n",
    "        fig=fig_polar_angle_1 if i==0 else fig_polar_angle_2\n",
    "\n",
    "        df = data_loo.loc[(data_loo.subject == subject) & (data_loo.roi==roi) & (data_loo.hemi == 'R')]\n",
    "        df = df.sort_values('r2', ascending=False)\n",
    "        df = df.head(500)\n",
    "        #Conversion\n",
    "        df.angle = np.degrees(df.angle)\n",
    "        df.angle = np.mod(df.angle, 360)\n",
    "\n",
    "        # Parts of polar angles and number of voxels in each part\n",
    "        num_slices = 12\n",
    "        theta_slices = np.linspace(0, 360, num_slices+1, endpoint=True)\n",
    "        voxels_counts, _ = np.histogram(df.angle, bins=theta_slices)\n",
    "\n",
    "        # barpolar\n",
    "        fig.add_trace(go.Barpolar(r=voxels_counts, theta=theta_slices, width=30, marker_color=roi_colors_loo[j], marker_line_color='black', marker_line_width=1, opacity=0.8), row=1, col=j+1)\n",
    "\n",
    "    # Define parameters\n",
    "    \n",
    "    fig.update_polars(angularaxis=dict(visible=False), radialaxis=dict(visible=False))\n",
    "    fig.update_layout(height=fig_height, width=fig_width, showlegend=False, template='simple_white')\n",
    "\n",
    "    fig.write_image('/home/mchevillard/disks/meso_S/figures/{}_subplot_polar_R.pdf'.format(subject))\n"
   ]
  },
  {
   "cell_type": "markdown",
   "id": "7741f890-2faf-4dad-bdf9-01f20c479014",
   "metadata": {
    "tags": []
   },
   "source": [
    "## Only LEFT"
   ]
  },
  {
   "cell_type": "code",
   "execution_count": 47,
   "id": "b9e23169-4e93-41d5-ae9e-8ea2d31355a2",
   "metadata": {
    "tags": []
   },
   "outputs": [],
   "source": [
    "rows, cols = 1, 12\n",
    "fig_height, fig_width = 300, 1920\n",
    "specs = [[{'type': 'polar'}] * cols]\n",
    "\n",
    "fig_polar_angle_1 = make_subplots(rows=rows, cols=cols, print_grid=False, specs=specs)\n",
    "fig_polar_angle_2 = make_subplots(rows=rows, cols=cols, print_grid=False, specs=specs)\n",
    "roi_colors_loo = px.colors.sequential.Sunset[:4] + px.colors.sequential.Rainbow[:]\n",
    "\n",
    "for i, subject in enumerate(subjects):\n",
    "    for j, roi in enumerate(rois):\n",
    "        fig=fig_polar_angle_1 if i==0 else fig_polar_angle_2\n",
    "\n",
    "        df = data_loo.loc[(data_loo.subject == subject) & (data_loo.roi==roi) & (data_loo.hemi == 'L')]\n",
    "        df = df.sort_values('r2', ascending=False)\n",
    "        df = df.head(500)\n",
    "        #Conversion\n",
    "        df.angle = np.degrees(df.angle)\n",
    "        df.angle = np.mod(df.angle, 360)\n",
    "\n",
    "        # Parts of polar angles and number of voxels in each part\n",
    "        num_slices = 12\n",
    "        theta_slices = np.linspace(0, 360, num_slices+1, endpoint=True)\n",
    "        voxels_counts, _ = np.histogram(df.angle, bins=theta_slices)\n",
    "\n",
    "        # barpolar\n",
    "        fig.add_trace(go.Barpolar(r=voxels_counts, theta=theta_slices, width=30, marker_color=roi_colors_loo[j], marker_line_color='black', marker_line_width=1, opacity=0.8), row=1, col=j+1)\n",
    "\n",
    "    # Define parameters\n",
    "    \n",
    "    fig.update_polars(angularaxis=dict(visible=False), radialaxis=dict(visible=False))\n",
    "    fig.update_layout(height=fig_height, width=fig_width, showlegend=False, template='simple_white')\n",
    "\n",
    "    fig.write_image('/home/mchevillard/disks/meso_S/figures/{}_subplot_polar_L.pdf'.format(subject))"
   ]
  },
  {
   "cell_type": "code",
   "execution_count": null,
   "id": "6ed6474a-f635-4be5-badc-98868b3d6c35",
   "metadata": {
    "jupyter": {
     "source_hidden": true
    },
    "tags": []
   },
   "outputs": [],
   "source": []
  },
  {
   "cell_type": "markdown",
   "id": "78231c2c-d243-4e21-ab1b-c1f6d9da0623",
   "metadata": {},
   "source": [
    "# Contralaterality \n",
    "## One subject one area"
   ]
  },
  {
   "cell_type": "code",
   "execution_count": 20,
   "id": "2e475b8c-27dd-4b03-b6ba-8f0d30964d90",
   "metadata": {
    "tags": []
   },
   "outputs": [
    {
     "name": "stdout",
     "output_type": "stream",
     "text": [
      "Pourcentage de contralatéralité de l'hémisphère droit : 31.31%\n",
      "Pourcentage de contralatéralité de l'hémisphère gauche : 66.21%\n",
      "Pourcentage de contralatéralité total : 48.8%\n"
     ]
    }
   ],
   "source": [
    "# Filtrer les données pour V1 et l'hémisphère droit du sujet 1\n",
    "df_right = data_loo.loc[(data_loo['subject'] =='sub-001') & (data_loo['roi'] =='iPCS') & (data_loo['hemi'] == 'R')]\n",
    "\n",
    "# Filtrer les données pour V1 et l'hémisphère gauche du sujet 1\n",
    "df_left = data_loo.loc[(data_loo['subject'] =='sub-001') & (data_loo['roi'] =='iPCS') & (data_loo['hemi'] == 'L')]\n",
    "\n",
    "# Conversion\n",
    "df_right.angle = np.degrees(df_right.angle)\n",
    "df_right.angle = np.mod(df_right.angle, 360)\n",
    "\n",
    "df_left.angle = np.degrees(df_left.angle)\n",
    "df_left.angle = np.mod(df_left.angle, 360)\n",
    "\n",
    "# Créer les tranches d'angle polaire\n",
    "num_slices = 12\n",
    "theta_slices = np.linspace(0, 360, num_slices+1, endpoint=True)\n",
    "\n",
    "# Compter le nombre de voxels dans chaque tranche pour l'hémisphère droit\n",
    "voxels_counts_right, _ = np.histogram(df_right.angle, bins=theta_slices)\n",
    "\n",
    "# Compter le nombre de voxels dans chaque tranche pour l'hémisphère gauche\n",
    "voxels_counts_left, _ = np.histogram(df_left.angle, bins=theta_slices)\n",
    "\n",
    "# Calculer le pourcentage de contralatéralité pour chaque hémisphère\n",
    "percentage_right = sum(voxels_counts_right[3:9]) / sum(voxels_counts_right) * 100\n",
    "percentage_left = sum(voxels_counts_left[9:] + voxels_counts_left[:3]) / sum(voxels_counts_left) * 100\n",
    "\n",
    "# Calculer le pourcentage d'excentricité total\n",
    "percentage_total = (percentage_right + percentage_left) / 2\n",
    "\n",
    "print(\"Pourcentage de contralatéralité de l'hémisphère droit : {:.2f}%\".format(percentage_right))\n",
    "print(\"Pourcentage de contralatéralité de l'hémisphère gauche : {:.2f}%\".format(percentage_left))\n",
    "print(\"Pourcentage de contralatéralité total : {:.1f}%\".format(percentage_total))"
   ]
  },
  {
   "cell_type": "code",
   "execution_count": 23,
   "id": "e25e7998-77f1-449b-8c3c-32fe153156e8",
   "metadata": {
    "tags": []
   },
   "outputs": [],
   "source": [
    "# Valeurs correspondant au pourcentage total et au complément à 100%\n",
    "values = [percentage_total, 100-percentage_total]\n",
    "fig = go.Figure()\n",
    "\n",
    "\n",
    "fig.add_trace(go.Pie(values=values,\n",
    "                     hole=0.5,\n",
    "                     marker=dict(colors=[roi_colors_loo[9], 'rgb(255,255,255)'], line=dict(color=['black', 'white'], width=[1,0])),\n",
    "                     showlegend=False,\n",
    "                     textfont=dict(color=['black', 'white']),\n",
    "                     textfont_size=12, \n",
    "                     pull=[0, 0.05]\n",
    "                     ))\n",
    "\n",
    "# Mise en forme du layout\n",
    "fig.update_layout(showlegend=False, template='simple_white')\n",
    "\n",
    "\n",
    "fig.write_image('/home/mchevillard/disks/meso_S/figures/sub-001_contra_iPCS.pdf')\n"
   ]
  },
  {
   "cell_type": "markdown",
   "id": "1ad65fda-25b5-4aa4-93ff-26c178fe88d5",
   "metadata": {},
   "source": [
    "## Subplot all areas"
   ]
  },
  {
   "cell_type": "code",
   "execution_count": 43,
   "id": "b545f76e-5cda-4941-b922-b2af9ea4b39c",
   "metadata": {
    "tags": []
   },
   "outputs": [
    {
     "name": "stdout",
     "output_type": "stream",
     "text": [
      "sub-001 - Contralateralité in V1: 76.9%\n",
      "sub-001 - Contralateralité in V2: 70.6%\n",
      "sub-001 - Contralateralité in V3: 63.3%\n",
      "sub-001 - Contralateralité in V3AB: 75.2%\n",
      "sub-001 - Contralateralité in LO: 75.0%\n",
      "sub-001 - Contralateralité in VO: 77.1%\n",
      "sub-001 - Contralateralité in hMT+: 67.8%\n",
      "sub-001 - Contralateralité in iIPS: 60.4%\n",
      "sub-001 - Contralateralité in sIPS: 70.1%\n",
      "sub-001 - Contralateralité in iPCS: 49.2%\n",
      "sub-001 - Contralateralité in sPCS: 59.0%\n",
      "sub-001 - Contralateralité in mPCS: 49.6%\n",
      "sub-002 - Contralateralité in V1: 78.5%\n",
      "sub-002 - Contralateralité in V2: 61.9%\n",
      "sub-002 - Contralateralité in V3: 70.8%\n",
      "sub-002 - Contralateralité in V3AB: 68.1%\n",
      "sub-002 - Contralateralité in LO: 72.7%\n",
      "sub-002 - Contralateralité in VO: 78.9%\n",
      "sub-002 - Contralateralité in hMT+: 75.3%\n",
      "sub-002 - Contralateralité in iIPS: 59.4%\n",
      "sub-002 - Contralateralité in sIPS: 55.9%\n",
      "sub-002 - Contralateralité in iPCS: 56.8%\n",
      "sub-002 - Contralateralité in sPCS: 48.1%\n",
      "sub-002 - Contralateralité in mPCS: 57.6%\n"
     ]
    }
   ],
   "source": [
    "rows, cols = 1, 12\n",
    "fig_height, fig_width = 300, 1920\n",
    "specs = [[{'type': 'pie'}] * cols]\n",
    "\n",
    "fig_contra_1 = make_subplots(rows=rows, cols=cols, print_grid=False, specs=specs)\n",
    "fig_contra_2 = make_subplots(rows=rows, cols=cols, print_grid=False, specs=specs)\n",
    "roi_colors_loo = px.colors.sequential.Sunset[:4] + px.colors.sequential.Rainbow[:]\n",
    "\n",
    "for i, subject in enumerate(subjects):\n",
    "    for j, roi in enumerate(rois):\n",
    "        fig=fig_contra_1 if i==0 else fig_contra_2\n",
    "\n",
    "        \n",
    "        df_right = data_loo.loc[(data_loo.subject == subject) & (data_loo.roi == roi) & (data_loo.hemi == 'R')]\n",
    "        df_left = data_loo.loc[(data_loo.subject == subject) & (data_loo.roi == roi) & (data_loo.hemi == 'L')]\n",
    "        df_right = df_right.sort_values('r2', ascending=False)\n",
    "        df_right = df_right.head(500)\n",
    "        df_left = df_left.sort_values('r2', ascending=False)\n",
    "        df_left = df_left.head(500)\n",
    "        \n",
    "        # Conversion\n",
    "        df_right.angle = np.degrees(df_right.angle)\n",
    "        df_right.angle = np.mod(df_right.angle, 360)\n",
    "\n",
    "        df_left.angle = np.degrees(df_left.angle)\n",
    "        df_left.angle = np.mod(df_left.angle, 360)\n",
    "\n",
    "        # Créer les tranches d'angle polaire\n",
    "        num_slices = 12\n",
    "        theta_slices = np.linspace(0, 360, num_slices+1, endpoint=True)\n",
    "\n",
    "        # Compter le nombre de voxels dans chaque tranche pour l'hémisphère droit\n",
    "        voxels_counts_right, _ = np.histogram(df_right.angle, bins=theta_slices)\n",
    "\n",
    "        # Compter le nombre de voxels dans chaque tranche pour l'hémisphère gauche\n",
    "        voxels_counts_left, _ = np.histogram(df_left.angle, bins=theta_slices)\n",
    "\n",
    "        # Calculer le pourcentage de contralatéralité pour chaque hémisphère\n",
    "        percentage_right = sum(voxels_counts_right[3:9]) / sum(voxels_counts_right) * 100\n",
    "        percentage_left = sum(voxels_counts_left[9:] + voxels_counts_left[:3]) / sum(voxels_counts_left) * 100\n",
    "\n",
    "        # Calculer le pourcentage d'excentricité total\n",
    "        percentage_total = (percentage_right + percentage_left) / 2\n",
    "\n",
    "        print(\"{} - Contralateralité in {}: {:.1f}%\".format(subject, roi, percentage_total))\n",
    "        percentage_rest = 100 - percentage_total        \n",
    "        \n",
    "        values = [percentage_total, percentage_rest]\n",
    "        \n",
    "        fig.add_trace(go.Pie(values=values,\n",
    "                             hole=0.5,\n",
    "                             marker=dict(colors=[roi_colors_loo[j], 'white'], line=dict(color=['black', 'white'], width=[1,0])),\n",
    "                             showlegend=False,\n",
    "                             textfont=dict(color=['black', 'white']),\n",
    "                             textfont_size=14, \n",
    "                             pull=[0, 0.01],\n",
    "                             rotation=180 if percentage_total < percentage_rest else 0,\n",
    "                             direction='clockwise' if percentage_total < percentage_rest else 'counterclockwise'\n",
    "                             ), row=1, col=j+1)\n",
    "\n",
    "    # Define parameters\n",
    "    fig.update_layout(height=fig_height, width=fig_width, showlegend=False, template='simple_white')\n",
    "\n",
    "    fig.write_image('/home/mchevillard/disks/meso_S/figures/{}_contralaterality.pdf'.format(subject))\n",
    "    "
   ]
  },
  {
   "cell_type": "code",
   "execution_count": null,
   "id": "dc0e7534-cdf0-4402-aa6b-5aae75c021e3",
   "metadata": {},
   "outputs": [],
   "source": []
  }
 ],
 "metadata": {
  "kernelspec": {
   "display_name": "mchevillard",
   "language": "python",
   "name": "mchevillard"
  },
  "language_info": {
   "codemirror_mode": {
    "name": "ipython",
    "version": 3
   },
   "file_extension": ".py",
   "mimetype": "text/x-python",
   "name": "python",
   "nbconvert_exporter": "python",
   "pygments_lexer": "ipython3",
   "version": "3.9.16"
  }
 },
 "nbformat": 4,
 "nbformat_minor": 5
}
