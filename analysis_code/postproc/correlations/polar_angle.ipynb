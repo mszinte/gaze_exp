{
 "cells": [
  {
   "cell_type": "markdown",
   "id": "221576cb-e4d5-48ce-809c-a2f43f114baf",
   "metadata": {},
   "source": [
    "# Polar angle"
   ]
  },
  {
   "cell_type": "code",
   "execution_count": null,
   "id": "947c9efd-2954-4f18-9a37-08df8131b0ca",
   "metadata": {
    "tags": []
   },
   "outputs": [],
   "source": [
    "# Imports\n",
    "import warnings\n",
    "warnings.filterwarnings('ignore')\n",
    "import numpy as np\n",
    "import pandas as pd\n",
    "import os\n",
    "\n",
    "# figure imports\n",
    "import plotly.graph_objects as go\n",
    "from plotly.subplots import make_subplots\n",
    "import plotly.express as px\n",
    "\n",
    "# Define filenames\n",
    "# main_dir = '/home/mchevillard/disks/meso_shared'\n",
    "main_dir = '/home/mszinte/disks/meso_S/data'\n",
    "project_dir = 'gaze_exp'\n",
    "pp_dir = \"{}/{}/derivatives/pp_data\".format(main_dir, project_dir)\n",
    "tsv_dir ='{}/sub-all/tsv'.format(pp_dir)\n",
    "fig_dir = '{}/sub-all/figures'.format(pp_dir)\n",
    "os.makedirs(fig_dir, exist_ok=True)\n",
    "hemis = ['rh', 'lh']"
   ]
  },
  {
   "cell_type": "code",
   "execution_count": null,
   "id": "a7772bdf-5886-441d-a179-7bae438d3a86",
   "metadata": {
    "tags": []
   },
   "outputs": [],
   "source": [
    "# Load data\n",
    "data = pd.read_table('{}/sub-all_prf_cf.tsv'.format(tsv_dir))\n",
    "data.drop(columns=['Unnamed: 0'])\n",
    "\n",
    "# Add prf/cf angle\n",
    "data['prf_angle'] = np.angle(data.prf_polar_real + 1j * data.prf_polar_imag)\n",
    "data['cf_center_angle'] = np.angle(data.cf_center_polar_real + 1j * data.cf_center_polar_imag)\n",
    "data['cf_left_angle'] = np.angle(data.cf_left_polar_real + 1j * data.cf_left_polar_imag)\n",
    "data['cf_right_angle'] = np.angle(data.cf_right_polar_real + 1j * data.cf_right_polar_imag)\n",
    "data['cf_up_angle'] = np.angle(data.cf_up_polar_real + 1j * data.cf_up_polar_imag)\n",
    "data['cf_down_angle'] = np.angle(data.cf_down_polar_real + 1j * data.cf_down_polar_imag)"
   ]
  },
  {
   "cell_type": "code",
   "execution_count": null,
   "id": "e13a9e63-5bf3-432d-b605-6b8c9fec31a3",
   "metadata": {
    "tags": []
   },
   "outputs": [],
   "source": [
    "# Filter data\n",
    "ecc_th = [0, 15]\n",
    "size_th= [0.1, 20]\n",
    "rsq_th = [0.05, 1]\n",
    "\n",
    "# Replace all data outer threshold with NaN data\n",
    "data.loc[(data.prf_ecc < ecc_th[0]) | (data.prf_ecc > ecc_th[1]) | \n",
    "         (data.prf_size < size_th[0]) | (data.prf_size > size_th[1]) | \n",
    "         (data.cf_center_ecc < ecc_th[0]) | (data.cf_center_ecc > ecc_th[1]) | \n",
    "         (data.cf_center_size < size_th[0]) | (data.cf_center_size > size_th[1]) | \n",
    "         (data.prf_rsq_loo <=rsq_th[0]) | (data.cf_center_cf_rsq <=rsq_th[0]) | \n",
    "         (data.cf_center_cf_rsq >=rsq_th[1])\n",
    "        ] = np.nan\n",
    "\n",
    "data = data.dropna()\n",
    "rois = pd.unique(data.roi)\n",
    "mask = pd.notnull(data.subject)\n",
    "subjects = pd.unique(data.subject[mask])"
   ]
  },
  {
   "cell_type": "code",
   "execution_count": null,
   "id": "410f3922-8042-4b08-abf0-7ff967c73ca2",
   "metadata": {
    "tags": []
   },
   "outputs": [],
   "source": [
    "# Define colors\n",
    "roi_colors = px.colors.sequential.Sunset[:4] + px.colors.sequential.Rainbow[:]"
   ]
  },
  {
   "cell_type": "markdown",
   "id": "b0585a8a-3d92-434b-b3e4-cdf54b290cce",
   "metadata": {
    "tags": []
   },
   "source": [
    "# Barpolar for 1 subject and 1 ROI"
   ]
  },
  {
   "cell_type": "code",
   "execution_count": null,
   "id": "951f84d8-d779-49eb-b6ae-8059a151ad09",
   "metadata": {
    "tags": []
   },
   "outputs": [],
   "source": [
    "# Filtrer les données pour V1 et l'hémisphère droit du sujet 1\n",
    "df = data.loc[(data['subject']=='sub-001') & (data['roi']=='V1')]\n",
    "df.prf_angle = np.degrees(df.prf_angle)\n",
    "df.prf_angle = np.mod(df.prf_angle, 360)\n",
    "\n",
    "# Créer les tranches d'angle polaire\n",
    "num_slices = 12\n",
    "theta_slices = np.linspace(0, 360, num_slices+1, endpoint=True)\n",
    "\n",
    "# Compter le nombre de voxels dans chaque tranche\n",
    "voxels_counts, _ = np.histogram(df.prf_angle, bins=theta_slices)\n",
    "\n",
    "# Créer le graphique barpolar\n",
    "fig = go.Figure(go.Barpolar(r=voxels_counts,\n",
    "                            theta=theta_slices,\n",
    "                            width=30,\n",
    "                            marker_color=roi_colors[0],\n",
    "                            marker_line_color='black',  # Couleur de la ligne des barres\n",
    "                            marker_line_width=1,  # Épaisseur de la ligne des barres\n",
    "                            opacity=0.8  # Opacité des barres\n",
    "                           ))\n",
    "\n",
    "# Define parameters\n",
    "fig.update_polars(radialaxis=dict(visible=False), angularaxis=dict(visible=False), barmode='overlay')\n",
    "fig.update_layout(title='Barpolar - Sub-001 - V1 ', title_font_size=20, template='simple_white')\n",
    "# fig.write_image('/home/mchevillard/disks/meso_S/figures/sub-001_polar_V1.pdf')"
   ]
  },
  {
   "cell_type": "markdown",
   "id": "6beeef4b-fedc-4a62-b634-1c3bf778510b",
   "metadata": {
    "tags": []
   },
   "source": [
    "# Subplot all ROIs by subject"
   ]
  },
  {
   "cell_type": "code",
   "execution_count": null,
   "id": "49510168-ad22-4966-a548-8910b8b9e572",
   "metadata": {
    "tags": []
   },
   "outputs": [],
   "source": [
    "rows, cols = 1, 12\n",
    "fig_height, fig_width = 300, 1920\n",
    "specs = [[{'type': 'polar'}] * cols]\n",
    "\n",
    "num_slices = 12\n",
    "\n",
    "for i, subject in enumerate(subjects):\n",
    "    fig = make_subplots(rows=rows, cols=cols, print_grid=False, specs=specs)\n",
    "\n",
    "    for j, roi in enumerate(rois):\n",
    "\n",
    "        df = data.loc[(data.subject == subject) & (data.roi==roi)]\n",
    "        # df = df.sort_values('prf_rsq_loo', ascending=False)\n",
    "        # df = df.head(250)\n",
    "        \n",
    "        df.prf_angle = np.degrees(df.prf_angle)\n",
    "        df.prf_angle = np.mod(df.prf_angle, 360)\n",
    "\n",
    "        # Parts of polar angles and number of voxels in each part\n",
    "        theta_slices = np.linspace(0, 360, num_slices+1, endpoint=True)\n",
    "        voxels_counts, _ = np.histogram(df.prf_angle, bins=theta_slices)\n",
    "\n",
    "        # barpolar\n",
    "        fig.add_trace(go.Barpolar(r=voxels_counts, theta=theta_slices, width=30, \n",
    "                                  marker_color=roi_colors[j], marker_line_color='black', \n",
    "                                  marker_line_width=1, opacity=0.8), row=1, col=j+1)\n",
    "\n",
    "    # Define parameters    \n",
    "    fig.update_polars(angularaxis=dict(visible=False), radialaxis=dict(visible=False))\n",
    "    fig.update_layout(height=fig_height, width=fig_width, showlegend=False, template='simple_white')\n",
    "\n",
    "    fig.show()\n",
    "    # fig.write_image('/home/mchevillard/disks/meso_S/figures/{}_subplot_polar.pdf'.format(subject))"
   ]
  },
  {
   "cell_type": "markdown",
   "id": "4b0f9cd4-26d4-4135-b838-af75828303f4",
   "metadata": {},
   "source": [
    "## Only RIGHT / LEFT HEMISPHERE"
   ]
  },
  {
   "cell_type": "code",
   "execution_count": null,
   "id": "b924fa67-b734-408a-a8bf-50d50c6f86ed",
   "metadata": {
    "tags": []
   },
   "outputs": [],
   "source": [
    "rows, cols = 1, 12\n",
    "fig_height, fig_width = 300, 1920\n",
    "specs = [[{'type': 'polar'}] * cols]\n",
    "num_slices = 12\n",
    "\n",
    "for hemi in hemis:\n",
    "    for i, subject in enumerate(subjects):\n",
    "        fig = make_subplots(rows=rows, cols=cols, print_grid=False, specs=specs)\n",
    "\n",
    "        for j, roi in enumerate(rois):\n",
    "\n",
    "            df = data.loc[(data.subject == subject) & (data.roi==roi) & (data.hemi == hemi)]\n",
    "            df = df.sort_values('prf_rsq_loo', ascending=False)\n",
    "            df = df.head(250)\n",
    "\n",
    "            #Conversion\n",
    "            df.prf_angle = np.degrees(df.prf_angle)\n",
    "            df.prf_angle = np.mod(df.prf_angle, 360)\n",
    "\n",
    "            # Parts of polar angles and number of voxels in each part\n",
    "            theta_slices = np.linspace(0, 360, num_slices+1, endpoint=True)\n",
    "            voxels_counts, _ = np.histogram(df.prf_angle, bins=theta_slices)\n",
    "\n",
    "            # barpolar\n",
    "            fig.add_trace(go.Barpolar(r=voxels_counts, theta=theta_slices, width=30, \n",
    "                                      marker_color=roi_colors[j], marker_line_color='black', \n",
    "                                      marker_line_width=1, opacity=0.8), row=1, col=j+1)\n",
    "\n",
    "        # Define parameters\n",
    "        fig.update_polars(angularaxis=dict(visible=False), radialaxis=dict(visible=False))\n",
    "        fig.update_layout(height=fig_height, width=fig_width, showlegend=False, template='simple_white')\n",
    "        fig.show()\n",
    "        # fig.write_image('/home/mchevillard/disks/meso_S/figures/{}_subplot_polar_{}.pdf'.format(subject,hemi))\n"
   ]
  },
  {
   "cell_type": "markdown",
   "id": "78231c2c-d243-4e21-ab1b-c1f6d9da0623",
   "metadata": {},
   "source": [
    "# Contralaterality \n",
    "## One subject one area"
   ]
  },
  {
   "cell_type": "code",
   "execution_count": null,
   "id": "61d0efcc-8578-49f5-8a53-8aac7492e82f",
   "metadata": {
    "tags": []
   },
   "outputs": [],
   "source": [
    "# Filtrer les données pour V1 et l'hémisphère droit du sujet 1\n",
    "df_rh = data.loc[(data['subject'] =='sub-001') & (data['roi'] =='V1') & (data['hemi'] == 'rh')]\n",
    "\n",
    "# Filtrer les données pour V1 et l'hémisphère gauche du sujet 1\n",
    "df_lh = data.loc[(data['subject'] =='sub-001') & (data['roi'] =='V1') & (data['hemi'] == 'lh')]"
   ]
  },
  {
   "cell_type": "code",
   "execution_count": null,
   "id": "2e475b8c-27dd-4b03-b6ba-8f0d30964d90",
   "metadata": {
    "tags": []
   },
   "outputs": [],
   "source": [
    "# Calculer le pourcentage de contralatéralité pour chaque hémisphère pondéré par RSQ\n",
    "percentage_right = sum(df_rh.loc[df_rh.prf_x < 0].prf_rsq_loo) / sum(df_rh.prf_rsq_loo) * 100\n",
    "percentage_left = sum(df_lh.loc[df_lh.prf_x > 0].prf_rsq_loo) / sum(df_lh.prf_rsq_loo) * 100\n",
    "\n",
    "# Calculer le pourcentage d'excentricité total\n",
    "percentage_total = (sum(df_rh.loc[df_rh.prf_x < 0].prf_rsq_loo) + sum(df_lh.loc[df_lh.prf_x > 0].prf_rsq_loo))/ (sum(df_rh.prf_rsq_loo)+sum(df_lh.prf_rsq_loo)) *100\n",
    "\n",
    "print(\"Pourcentage de contralatéralité de l'hémisphère droit : {:.2f}%\".format(percentage_right))\n",
    "print(\"Pourcentage de contralatéralité de l'hémisphère gauche : {:.2f}%\".format(percentage_left))\n",
    "print(\"Pourcentage de contralatéralité total : {:.1f}%\".format(percentage_total))"
   ]
  },
  {
   "cell_type": "code",
   "execution_count": null,
   "id": "e25e7998-77f1-449b-8c3c-32fe153156e8",
   "metadata": {
    "tags": []
   },
   "outputs": [],
   "source": [
    "# Valeurs correspondant au pourcentage total et au complément à 100%\n",
    "values = [percentage_total, 100-percentage_total]\n",
    "fig = go.Figure()\n",
    "fig.add_trace(go.Pie(values=values,\n",
    "                     hole=0.5,\n",
    "                     marker=dict(colors=[roi_colors[0], 'rgb(255,255,255)'], \n",
    "                     line=dict(color=['black', 'white'], width=[1,0])),\n",
    "                     showlegend=False,\n",
    "                     textfont=dict(color=['black', 'white']),\n",
    "                     textfont_size=12, \n",
    "                     pull=[0, 0.05]\n",
    "                     ))\n",
    "\n",
    "# Mise en forme du layout\n",
    "fig.update_layout(showlegend=False, template='simple_white')\n",
    "# fig.write_image('/home/mchevillard/disks/meso_S/figures/sub-001_contra_iPCS.pdf')\n"
   ]
  },
  {
   "cell_type": "markdown",
   "id": "1ad65fda-25b5-4aa4-93ff-26c178fe88d5",
   "metadata": {},
   "source": [
    "## Subplot all areas"
   ]
  },
  {
   "cell_type": "code",
   "execution_count": null,
   "id": "b545f76e-5cda-4941-b922-b2af9ea4b39c",
   "metadata": {
    "tags": []
   },
   "outputs": [],
   "source": [
    "rows, cols = 1, 12\n",
    "fig_height, fig_width = 300, 1920\n",
    "specs = [[{'type': 'pie'}] * cols]\n",
    "\n",
    "roi_colors = px.colors.sequential.Sunset[:4] + px.colors.sequential.Rainbow[:]\n",
    "\n",
    "for i, subject in enumerate(subjects):\n",
    "    fig = make_subplots(rows=rows, cols=cols, print_grid=False, specs=specs)\n",
    "    for j, roi in enumerate(rois):\n",
    "        \n",
    "        df_rh = data.loc[(data.subject == subject) & (data.roi == roi) & (data.hemi == 'rh')]\n",
    "        df_lh = data.loc[(data.subject == subject) & (data.roi == roi) & (data.hemi == 'lh')]\n",
    "        \n",
    "        # Calculer le pourcentage de contralatéralité pour chaque hémisphère pondéré par RSQ\n",
    "        percentage_right = sum(df_rh.loc[df_rh.prf_x < 0].prf_rsq_loo) / sum(df_rh.prf_rsq_loo) * 100\n",
    "        percentage_left = sum(df_lh.loc[df_lh.prf_x > 0].prf_rsq_loo) / sum(df_lh.prf_rsq_loo) * 100\n",
    "\n",
    "        # Calculer le pourcentage d'excentricité total\n",
    "        percentage_total = (sum(df_rh.loc[df_rh.prf_x < 0].prf_rsq_loo) + sum(df_lh.loc[df_lh.prf_x > 0].prf_rsq_loo))/ (sum(df_rh.prf_rsq_loo)+sum(df_lh.prf_rsq_loo)) *100\n",
    "    \n",
    "        # print(\"{} - Contralateralité in {}: {:.1f}%\".format(subject, roi, percentage_total))\n",
    "        percentage_rest = 100 - percentage_total        \n",
    "        \n",
    "        values = [percentage_total, percentage_rest]\n",
    "        \n",
    "        fig.add_trace(go.Pie(values=values,\n",
    "                             hole=0.5,\n",
    "                             marker=dict(colors=[roi_colors[j], 'white'], line=dict(color=['black', 'white'], width=[1,0])),\n",
    "                             showlegend=False,\n",
    "                             pull=[0, 0.01],\n",
    "                             rotation=percentage_total*3.6 if percentage_total<percentage_rest else 0,\n",
    "                             ), row=1, col=j+1)\n",
    "\n",
    "    # Define parameters\n",
    "    fig.update_layout(height=fig_height, width=fig_width, showlegend=False, template='simple_white')\n",
    "    fig.show()\n",
    "\n",
    "    # fig.write_image('/home/mchevillard/disks/meso_S/figures/{}_contralaterality.pdf'.format(subject))\n",
    "    "
   ]
  },
  {
   "cell_type": "code",
   "execution_count": null,
   "id": "dc0e7534-cdf0-4402-aa6b-5aae75c021e3",
   "metadata": {},
   "outputs": [],
   "source": []
  }
 ],
 "metadata": {
  "kernelspec": {
   "display_name": "mszinte",
   "language": "python",
   "name": "mszinte"
  },
  "language_info": {
   "codemirror_mode": {
    "name": "ipython",
    "version": 3
   },
   "file_extension": ".py",
   "mimetype": "text/x-python",
   "name": "python",
   "nbconvert_exporter": "python",
   "pygments_lexer": "ipython3",
   "version": "3.9.13"
  }
 },
 "nbformat": 4,
 "nbformat_minor": 5
}
