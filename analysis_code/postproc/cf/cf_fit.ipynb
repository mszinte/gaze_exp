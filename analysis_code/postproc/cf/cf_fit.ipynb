{
 "cells": [
  {
   "cell_type": "code",
   "execution_count": 1,
   "id": "44649956-6354-4f8d-b370-78aa66c81fda",
   "metadata": {},
   "outputs": [],
   "source": [
    "# Stop warnings\n",
    "import warnings\n",
    "warnings.filterwarnings(\"ignore\")\n",
    "\n",
    "# General imports\n",
    "import sys, os\n",
    "import numpy as np\n",
    "import glob\n",
    "import datetime\n",
    "import json\n",
    "import ipdb\n",
    "deb = ipdb.set_trace"
   ]
  },
  {
   "cell_type": "code",
   "execution_count": 4,
   "id": "ca5fe213-2dc8-461a-90e5-ba8342a9a20f",
   "metadata": {},
   "outputs": [],
   "source": [
    "sys.path.append(\"{}/../../utils\".format(os.getcwd()))\n",
    "from cf_utils import *"
   ]
  },
  {
   "cell_type": "code",
   "execution_count": null,
   "id": "18160ab9-2023-4fb4-a75f-2a65de1d4d77",
   "metadata": {},
   "outputs": [],
   "source": [
    "# Get inputs\n",
    "start_time = datetime.datetime.now()\n",
    "# subject = sys.argv[1]\n",
    "# input_fn = sys.argv[2]\n",
    "# input_vd = sys.argv[3]\n",
    "# fit_fn = sys.argv[4]\n",
    "# pred_fn = sys.argv[5]\n",
    "# nb_procs = int(sys.argv[6])\n",
    "\n",
    "subject = 'sub-001'\n",
    "input_fn = "
   ]
  },
  {
   "cell_type": "code",
   "execution_count": 2,
   "id": "3f7c3536-b4b3-42fd-be6e-83a727c2b48e",
   "metadata": {
    "tags": []
   },
   "outputs": [],
   "source": [
    "\n",
    "\n",
    "\n",
    "\n",
    "\n",
    "cw_tr = \n",
    "ccw_tr = [[275, 342], [71, 138], [139, 206], [207, 274], [275, 342]]\n",
    "\n",
    "    \"center\", \"left\", \"up\", \"right\", \"down\"]\n"
   ]
  },
  {
   "cell_type": "code",
   "execution_count": null,
   "id": "ed0e8dcd-abb6-41db-92ad-3e29546477dc",
   "metadata": {},
   "outputs": [],
   "source": [
    "for gaze_direction in gaze_directions:\n",
    "    cw_tr = \n",
    "    ccw_tr = "
   ]
  }
 ],
 "metadata": {
  "kernelspec": {
   "display_name": "mszinte",
   "language": "python",
   "name": "mszinte"
  },
  "language_info": {
   "codemirror_mode": {
    "name": "ipython",
    "version": 3
   },
   "file_extension": ".py",
   "mimetype": "text/x-python",
   "name": "python",
   "nbconvert_exporter": "python",
   "pygments_lexer": "ipython3",
   "version": "3.9.13"
  }
 },
 "nbformat": 4,
 "nbformat_minor": 5
}
