{
 "cells": [
  {
   "cell_type": "code",
   "execution_count": 9,
   "id": "cb103302-7146-4678-a73c-0494a495a2c0",
   "metadata": {
    "tags": []
   },
   "outputs": [],
   "source": [
    "# general import \n",
    "import nibabel as nb\n",
    "import numpy as np\n",
    "import matplotlib.pyplot as plt\n",
    "import pandas as pd\n",
    "import os\n",
    "plt.rcParams['image.cmap'] = 'gray'"
   ]
  },
  {
   "cell_type": "code",
   "execution_count": 2,
   "id": "0fd0ad84-eff1-4b49-836c-75b3e9b08a10",
   "metadata": {
    "tags": []
   },
   "outputs": [],
   "source": [
    "# parameters \n",
    "roi = 'V1'\n",
    "subject = 'sub-001'\n",
    "cortical_mask = 'cortical'"
   ]
  },
  {
   "cell_type": "code",
   "execution_count": 14,
   "id": "ea962245-b54b-4306-a002-321c6c389e8e",
   "metadata": {
    "tags": []
   },
   "outputs": [],
   "source": [
    "# defind data directory \n",
    "project_dir = '/home/ulascombes/disks/meso_shared/gaze_exp'\n",
    "pp_dir = '{}/derivatives/pp_data'.format(project_dir)\n",
    "data_directory = '{}/{}/func/desu/fmriprep_dct/'.format(pp_dir,subject)\n",
    "\n",
    "\n",
    "\n",
    "# defind roi mask directory \n",
    "mask_dir = '{}/{}/masks'.format(pp_dir, subject)\n",
    "\n",
    "#defind output directory\n",
    "df_fn = \"{}/{}/desu\".format(pp_dir,subject)\n",
    "os.makedirs(df_fn,exist_ok=True)"
   ]
  },
  {
   "cell_type": "code",
   "execution_count": 39,
   "id": "f5ff5d68-b751-4926-989c-f8da8a35699d",
   "metadata": {
    "tags": []
   },
   "outputs": [],
   "source": [
    "#load bold data\n",
    "data = nb.load(\"{}/sub-001_ses-05_task-GazeColumns_run-1_space-T1w_desc-preproc_bold_dct.nii.gz\".format(data_directory)).get_fdata()"
   ]
  },
  {
   "cell_type": "code",
   "execution_count": 40,
   "id": "0164e355-19f2-49e8-8c0b-92f0b9db2b52",
   "metadata": {
    "tags": []
   },
   "outputs": [],
   "source": [
    "# load roi masks \n",
    "lh_mat = nb.load(\"{}/{}_{}_L.nii.gz\".format(mask_dir, roi, cortical_mask)).get_fdata()\n",
    "rh_mat = nb.load(\"{}/{}_{}_R.nii.gz\".format(mask_dir, roi, cortical_mask)).get_fdata()\n",
    "roi_mat = lh_mat + rh_mat"
   ]
  },
  {
   "cell_type": "code",
   "execution_count": 41,
   "id": "6ad376f7-2457-4c64-84fd-493781310a53",
   "metadata": {
    "tags": []
   },
   "outputs": [],
   "source": [
    "# select data by roi mask\n",
    "roi_mat[roi_mat==0] = np.nan\n",
    "derives_roi_mat = data[roi_mat==True]"
   ]
  },
  {
   "cell_type": "code",
   "execution_count": 42,
   "id": "a35cd388-da66-43fc-ad69-9f2232d83f88",
   "metadata": {
    "tags": []
   },
   "outputs": [
    {
     "name": "stdout",
     "output_type": "stream",
     "text": [
      "ok\n"
     ]
    }
   ],
   "source": [
    "# check if the dimension are good \n",
    "roi_n_voxels = np.count_nonzero(roi_mat == True)\n",
    "shape_roi_mat = derives_roi_mat.shape\n",
    "\n",
    "if roi_n_voxels == shape_roi_mat[0]:\n",
    "    print('ok')\n",
    "else:\n",
    "    print('error')"
   ]
  },
  {
   "cell_type": "code",
   "execution_count": 43,
   "id": "bc7d15df-f363-4b7a-b15f-e76f92b8cfef",
   "metadata": {
    "tags": []
   },
   "outputs": [],
   "source": [
    "a = pd.DataFrame(derives_roi_mat)"
   ]
  },
  {
   "cell_type": "code",
   "execution_count": 47,
   "id": "2464860d-8b80-40fa-bc69-4f62c99088e8",
   "metadata": {
    "tags": []
   },
   "outputs": [],
   "source": [
    "c = a.T"
   ]
  },
  {
   "cell_type": "code",
   "execution_count": 30,
   "id": "94081db9-d4f6-474f-bfe6-1f4495ecc998",
   "metadata": {
    "tags": []
   },
   "outputs": [
    {
     "data": {
      "text/plain": [
       "(197, 2365)"
      ]
     },
     "execution_count": 30,
     "metadata": {},
     "output_type": "execute_result"
    }
   ],
   "source": [
    "c.shape"
   ]
  },
  {
   "cell_type": "code",
   "execution_count": 27,
   "id": "482091e1-0c27-49e4-8551-2fb8fcecc4a9",
   "metadata": {
    "tags": []
   },
   "outputs": [
    {
     "data": {
      "text/plain": [
       "(2365, 197)"
      ]
     },
     "execution_count": 27,
     "metadata": {},
     "output_type": "execute_result"
    }
   ],
   "source": [
    "derives_roi_mat.shape"
   ]
  },
  {
   "cell_type": "markdown",
   "id": "dbb1a843-70a5-4cb2-a555-04a9e3e0d11a",
   "metadata": {},
   "source": [
    "### concatenate runs\n"
   ]
  },
  {
   "cell_type": "code",
   "execution_count": 4,
   "id": "e50846e2-8a10-4bb3-9442-aad1a0a20841",
   "metadata": {
    "tags": []
   },
   "outputs": [],
   "source": [
    "# Define parameters\n",
    "n_runs= 4\n",
    "tasks = ['GazeColumns','GazeLines']\n",
    "\n",
    "n = np.arange(1,n_runs+1)\n",
    "runs = ['run-{n}'.format(n=n) for n in n]"
   ]
  },
  {
   "cell_type": "markdown",
   "id": "5db0aa29-e624-4c7a-b568-6fd13471bf13",
   "metadata": {},
   "source": [
    "### GazeColumns"
   ]
  },
  {
   "cell_type": "code",
   "execution_count": 6,
   "id": "1478e4f5-c6ef-42e3-9bd7-4bac09abcba9",
   "metadata": {
    "tags": []
   },
   "outputs": [
    {
     "name": "stdout",
     "output_type": "stream",
     "text": [
      "GazeColumns (1/2) is processing...\n",
      "run-1 / 4 is processing...\n",
      "GazeColumns (1/2) is processing...\n",
      "run-2 / 4 is processing...\n",
      "GazeColumns (1/2) is processing...\n",
      "run-3 / 4 is processing...\n",
      "GazeColumns (1/2) is processing...\n",
      "run-4 / 4 is processing...\n"
     ]
    }
   ],
   "source": [
    "task = tasks[0]\n",
    "df_task_GazeColumns_runs = pd.DataFrame()\n",
    "\n",
    "#tsv name\n",
    "df_name_GazeColumns ='df_task_GazeColumns_runs.tsv'\n",
    "\n",
    "for j,run in enumerate(runs) : \n",
    "    print('{} (1/{}) is processing...'.format(task,len(tasks)))\n",
    "    print('{} / {} is processing...'.format(run,n_runs))\n",
    "    #load bold data\n",
    "    data = nb.load(\"{}/sub-001_ses-05_task-{}_{}_space-T1w_desc-preproc_bold_dct.nii.gz\".format(data_directory,task,run)).get_fdata()\n",
    "\n",
    "    # load roi masks \n",
    "    lh_mat = nb.load(\"{}/{}_{}_L.nii.gz\".format(mask_dir, roi, cortical_mask)).get_fdata()\n",
    "    rh_mat = nb.load(\"{}/{}_{}_R.nii.gz\".format(mask_dir, roi, cortical_mask)).get_fdata()\n",
    "    roi_mat = lh_mat + rh_mat\n",
    "\n",
    "    # select data by roi mask\n",
    "    roi_mat[roi_mat==0] = np.nan\n",
    "    derives_roi_mat = data[roi_mat==True]\n",
    "\n",
    "    df_task_run = pd.DataFrame(derives_roi_mat)\n",
    "    df_task_GazeColumns_runs = pd.concat([df_task_GazeColumns_runs, df_task_run], ignore_index=True)\n",
    "\n",
    "df_task_GazeColumns_runs = df_task_GazeColumns_runs.T\n",
    "\n",
    "# save dataframe\n",
    "df_name_GazeColumns ='df_task_GazeColumns_runs.tsv'\n",
    "print('saving {}'.format(df_fn))\n",
    "df_task_GazeColumns_runs.to_csv('{}/{}'.format(df_fn,df_name_GazeColumns), sep=\"\\t\", na_rep='NaN',index=False)\n",
    "\n"
   ]
  },
  {
   "cell_type": "markdown",
   "id": "f143400c-5c57-4b5a-aaea-51c4b1065135",
   "metadata": {},
   "source": [
    "### GazeLines"
   ]
  },
  {
   "cell_type": "code",
   "execution_count": 15,
   "id": "725a1e00-7e4b-41e1-9e5f-56fe70a5bde8",
   "metadata": {
    "tags": []
   },
   "outputs": [
    {
     "name": "stdout",
     "output_type": "stream",
     "text": [
      "GazeLines (2/2)is processing...\n",
      "run-1 / 4 is processing...\n",
      "GazeLines (2/2)is processing...\n",
      "run-2 / 4 is processing...\n",
      "GazeLines (2/2)is processing...\n",
      "run-3 / 4 is processing...\n",
      "GazeLines (2/2)is processing...\n",
      "run-4 / 4 is processing...\n",
      "saving /home/ulascombes/disks/meso_shared/gaze_exp/derivatives/pp_data/sub-001/desu\n"
     ]
    }
   ],
   "source": [
    "task = tasks[1]\n",
    "df_task_GazeLines_runs = pd.DataFrame()\n",
    "\n",
    "#tsv name\n",
    "df_name_GazeColumns ='df_task_GazeLines_runs.tsv'\n",
    "\n",
    "for j,run in enumerate(runs) : \n",
    "    print('{} (2/{})is processing...'.format(task,len(tasks)))\n",
    "    print('{} / {} is processing...'.format(run,n_runs))\n",
    "    #load bold data\n",
    "    data = nb.load(\"{}/sub-001_ses-05_task-{}_{}_space-T1w_desc-preproc_bold_dct.nii.gz\".format(data_directory,task,run)).get_fdata()\n",
    "\n",
    "    # load roi masks \n",
    "    lh_mat = nb.load(\"{}/{}_{}_L.nii.gz\".format(mask_dir, roi, cortical_mask)).get_fdata()\n",
    "    rh_mat = nb.load(\"{}/{}_{}_R.nii.gz\".format(mask_dir, roi, cortical_mask)).get_fdata()\n",
    "    roi_mat = lh_mat + rh_mat\n",
    "\n",
    "    # select data by roi mask\n",
    "    roi_mat[roi_mat==0] = np.nan\n",
    "    derives_roi_mat = data[roi_mat==True]\n",
    "\n",
    "    df_task_run = pd.DataFrame(derives_roi_mat)\n",
    "    df_task_GazeLines_runs = pd.concat([df_task_GazeLines_runs, df_task_run], ignore_index=True)\n",
    "\n",
    "df_task_GazeLines_runs = df_task_GazeLines_runs.T\n",
    "\n",
    "# save dataframe\n",
    "df_name_GazeLines ='df_task_GazeLines_runs.tsv'\n",
    "print('saving {}'.format(df_fn))\n",
    "df_task_GazeLines_runs.to_csv('{}/{}'.format(df_fn,df_name_GazeLines), sep=\"\\t\", na_rep='NaN',index=False)\n",
    "\n"
   ]
  },
  {
   "cell_type": "markdown",
   "id": "e6037d68-0c5b-444f-827d-249acdd1f932",
   "metadata": {},
   "source": [
    "### Brouillon"
   ]
  },
  {
   "cell_type": "code",
   "execution_count": 24,
   "id": "74d2d991-1285-43d0-b60f-7005d896e35d",
   "metadata": {
    "tags": []
   },
   "outputs": [
    {
     "data": {
      "text/plain": [
       "[<matplotlib.lines.Line2D at 0x7f22668f17f0>]"
      ]
     },
     "execution_count": 24,
     "metadata": {},
     "output_type": "execute_result"
    },
    {
     "data": {
      "image/png": "[encoded data removed]",
      "text/plain": [
       "<Figure size 432x288 with 1 Axes>"
      ]
     },
     "metadata": {
      "needs_background": "light"
     },
     "output_type": "display_data"
    }
   ],
   "source": [
    "plt.plot(derives_roi_mat[300,:])"
   ]
  },
  {
   "cell_type": "code",
   "execution_count": 31,
   "id": "4ec02359-f771-404d-a9eb-ee35e2121b2f",
   "metadata": {
    "tags": []
   },
   "outputs": [
    {
     "data": {
      "text/plain": [
       "<matplotlib.image.AxesImage at 0x7fe6b67298e0>"
      ]
     },
     "execution_count": 31,
     "metadata": {},
     "output_type": "execute_result"
    },
    {
     "data": {
      "image/png": "[encoded data removed]",
      "text/plain": [
       "<Figure size 432x288 with 1 Axes>"
      ]
     },
     "metadata": {
      "needs_background": "light"
     },
     "output_type": "display_data"
    }
   ],
   "source": [
    "middle_slice = b[:,:,3,40]\n",
    "plt.imshow(middle_slice)"
   ]
  }
 ],
 "metadata": {
  "kernelspec": {
   "display_name": "ulascombes",
   "language": "python",
   "name": "ulascombes"
  },
  "language_info": {
   "codemirror_mode": {
    "name": "ipython",
    "version": 3
   },
   "file_extension": ".py",
   "mimetype": "text/x-python",
   "name": "python",
   "nbconvert_exporter": "python",
   "pygments_lexer": "ipython3",
   "version": "3.9.13"
  }
 },
 "nbformat": 4,
 "nbformat_minor": 5
}
