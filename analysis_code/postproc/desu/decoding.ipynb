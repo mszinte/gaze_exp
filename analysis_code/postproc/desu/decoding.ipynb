{
 "cells": [
  {
   "cell_type": "code",
   "execution_count": 7,
   "id": "4f429a43-8dfd-4807-8ee9-f5c43b74258c",
   "metadata": {
    "tags": []
   },
   "outputs": [],
   "source": [
    "# General import \n",
    "import numpy as np\n",
    "import matplotlib.pyplot as plt\n",
    "import pandas as pd\n",
    "import os\n",
    "import random \n",
    "\n",
    "# Stop warnings\n",
    "import warnings\n",
    "warnings.filterwarnings(\"ignore\")\n",
    "\n",
    "#sklearn import\n",
    "from sklearn.model_selection import train_test_split\n",
    "from sklearn.neighbors import KNeighborsClassifier\n",
    "from sklearn.metrics import confusion_matrix, ConfusionMatrixDisplay\n",
    "from sklearn.utils import shuffle\n",
    "from sklearn.naive_bayes import GaussianNB\n",
    "\n",
    "# figure imports\n",
    "import plotly.graph_objects as go\n",
    "from plotly.subplots import make_subplots\n",
    "import plotly.express as px\n",
    "import seaborn as sns\n"
   ]
  },
  {
   "cell_type": "markdown",
   "id": "16dfd51e-ac47-4a9f-b1b4-ebd732e55958",
   "metadata": {},
   "source": [
    "# Parameters and import data"
   ]
  },
  {
   "cell_type": "code",
   "execution_count": 2,
   "id": "1cbc2d2e-6102-495a-bd8b-634e88f343bb",
   "metadata": {
    "tags": []
   },
   "outputs": [],
   "source": [
    "# parameters\n",
    "n_eye_positions = 25\n",
    "subject = 'sub-001'\n",
    "\n",
    "# defind data directory \n",
    "project_dir = '/home/ulascombes/disks/meso_shared/gaze_exp'\n",
    "pp_dir = '{}/derivatives/pp_data'.format(project_dir)\n",
    "df_fn = \"{}/{}/desu\".format(pp_dir,subject)\n",
    "\n",
    "# tsv names\n",
    "df_name_GazeLines ='df_task_GazeLines_runs.tsv'\n",
    "df_name_GazeColumns ='df_task_GazeColumns_runs.tsv'\n",
    "\n",
    "# import datas \n",
    "df_gazelines =pd.read_table('{}/{}'.format(df_fn,df_name_GazeLines))\n",
    "df_gazecolumns =pd.read_table('{}/{}'.format(df_fn,df_name_GazeColumns))\n",
    "\n",
    "### drop 3 first TRs\n",
    "df_gazelines = df_gazelines.drop(df_gazelines.index[:3]).reset_index(drop=True)\n",
    "df_gazecolumns = df_gazecolumns.drop(df_gazecolumns.index[:3]).reset_index(drop=True)"
   ]
  },
  {
   "cell_type": "markdown",
   "id": "91bc27a1-3329-4196-84c2-b1944b029d93",
   "metadata": {},
   "source": [
    "# Make an object with eye poisitions on gazelines runs"
   ]
  },
  {
   "cell_type": "code",
   "execution_count": 3,
   "id": "3e387590-dbec-443f-8c64-f434c3a0a942",
   "metadata": {
    "tags": []
   },
   "outputs": [],
   "source": [
    "positions = []\n",
    "for i in range(n_eye_positions):\n",
    "    a = i +1\n",
    "    b = i +1\n",
    "    positions.append(a)\n",
    "    positions.append(b)\n",
    "positions_reverse = sorted(positions, reverse=True)\n",
    "\n",
    "positions_0 = np.concatenate((positions,positions_reverse[2:]))\n",
    "gazelines_position = np.concatenate((positions_0,positions_0[2:]))"
   ]
  },
  {
   "cell_type": "markdown",
   "id": "7b007807-9c65-4f01-8f48-90209362d761",
   "metadata": {},
   "source": [
    "# Brouillon"
   ]
  },
  {
   "cell_type": "markdown",
   "id": "c75fc064-e191-4e53-a0d4-015111ad9ee3",
   "metadata": {},
   "source": [
    "# KNN"
   ]
  },
  {
   "cell_type": "code",
   "execution_count": 4,
   "id": "739b16aa-44e6-423c-b9a5-ee1636a1f26b",
   "metadata": {
    "tags": []
   },
   "outputs": [],
   "source": [
    "features = np.array(df_gazelines)\n",
    "labels = np.array(gazelines_position)"
   ]
  },
  {
   "cell_type": "code",
   "execution_count": 76,
   "id": "b8271956-6330-4db7-b821-69a8b8dc7de0",
   "metadata": {
    "tags": []
   },
   "outputs": [
    {
     "data": {
      "image/png": "[encoded data removed]",
      "text/plain": [
       "<Figure size 432x288 with 1 Axes>"
      ]
     },
     "metadata": {
      "needs_background": "light"
     },
     "output_type": "display_data"
    }
   ],
   "source": [
    "\n",
    "\n",
    "\n",
    "features_train0, features_test0, labels_train0, labels_test0 = train_test_split( \n",
    "              features, labels, test_size = 0.2, random_state=42) \n",
    "\n",
    "neighbors = np.arange(1, 5) \n",
    "  \n",
    "train_accuracy = np.empty(len(neighbors)) \n",
    "test_accuracy = np.empty(len(neighbors)) \n",
    "  \n",
    "for i, k in enumerate(neighbors): \n",
    "    knn = KNeighborsClassifier(n_neighbors=k) \n",
    "    knn.fit(features_train0, labels_train0) \n",
    "      \n",
    "    \n",
    "    train_accuracy[i] = knn.score(features_train0, labels_train0) \n",
    "    test_accuracy[i] = knn.score(features_test0, labels_test0) \n",
    "  \n",
    "plt.plot(neighbors, test_accuracy, label = 'Testing dataset Accuracy') \n",
    "plt.plot(neighbors, train_accuracy, label = 'Training dataset Accuracy') \n",
    "  \n",
    "plt.legend() \n",
    "plt.xlabel('n_neighbors') \n",
    "plt.ylabel('Accuracy') \n",
    "plt.show()"
   ]
  },
  {
   "cell_type": "code",
   "execution_count": 87,
   "id": "dd5af888-a96e-48d9-85d8-f5baf7dae8c5",
   "metadata": {
    "tags": []
   },
   "outputs": [
    {
     "data": {
      "image/png": "[encoded data removed]",
      "text/plain": [
       "<Figure size 432x288 with 1 Axes>"
      ]
     },
     "metadata": {
      "needs_background": "light"
     },
     "output_type": "display_data"
    }
   ],
   "source": [
    "prediction_allrun=[]\n",
    "labels_allrun=[]\n",
    "for run in range(1000):\n",
    "    \n",
    "    features_train, features_test, labels_train, labels_test = train_test_split(features,labels, test_size=0.20, random_state=run)\n",
    "    #features_train, features_test, labels_train, labels_test = train_test_split( random_features,random_labels, test_size=0.20, random_state=run)\n",
    "\n",
    "    \n",
    "    \n",
    "    knn = KNeighborsClassifier(n_neighbors = 2).fit(features_train, labels_train)\n",
    "    #accuracy = knn.score(features_train, labels_train)\n",
    "    #print(\"Précision entrainement:\", accuracy)\n",
    "    \n",
    "    pred_pop=knn.predict(features_test)\n",
    "    \n",
    "    # print(knn.predict(features_test))\n",
    "    \n",
    "    prediction_allrun.extend(pred_pop.tolist())    \n",
    "    labels_allrun.extend(labels_test)    \n",
    "\n",
    "cm = confusion_matrix(y_true=labels_allrun, y_pred=prediction_allrun, normalize='true')\n",
    "\n",
    "# Afficher la heatmap de la matrice de confusion\n",
    "sns.heatmap(cm, annot=False, cmap='OrRd', cbar=False)\n",
    "plt.title('Heatmap de la matrice de confusion')\n",
    "plt.xlabel('Classe prédite')\n",
    "plt.ylabel('Classe réelle')\n",
    "plt.show()\n",
    "\n",
    "\n"
   ]
  },
  {
   "cell_type": "markdown",
   "id": "6789b00f-1eeb-420f-a2b6-3ffbae68f791",
   "metadata": {},
   "source": [
    "# Bayesian"
   ]
  },
  {
   "cell_type": "code",
   "execution_count": 5,
   "id": "a133f926-71a8-4fa1-8e19-da2ba718dc25",
   "metadata": {
    "tags": []
   },
   "outputs": [],
   "source": [
    "features = np.array(df_gazelines)\n",
    "labels = np.array(gazelines_position)"
   ]
  },
  {
   "cell_type": "code",
   "execution_count": 8,
   "id": "4cd29aef-f94f-4a28-a39b-7598cb210e04",
   "metadata": {},
   "outputs": [
    {
     "data": {
      "image/png": "[encoded data removed]",
      "text/plain": [
       "<Figure size 432x288 with 1 Axes>"
      ]
     },
     "metadata": {
      "needs_background": "light"
     },
     "output_type": "display_data"
    }
   ],
   "source": [
    "\n",
    "prediction_allrun=[]\n",
    "labels_allrun=[]\n",
    "\n",
    "for run in range(1000):\n",
    "    \n",
    "    features_train, features_test, labels_train, labels_test = train_test_split( features,labels, test_size=0.20, random_state=run)\n",
    "\n",
    "    gnb = GaussianNB()\n",
    "\n",
    "    pred_pop = gnb.fit(features_train, labels_train).predict(features_test)\n",
    "\n",
    "    \n",
    "    \n",
    "    prediction_allrun.extend(pred_pop.tolist())    \n",
    "    labels_allrun.extend(labels_test)    \n",
    "\n",
    "cm = confusion_matrix(y_true=labels_allrun, y_pred=prediction_allrun, normalize='true')\n",
    "\n",
    "# Afficher la heatmap de la matrice de confusion\n",
    "sns.heatmap(cm, annot=False, cmap='OrRd', cbar=False)\n",
    "plt.title('Heatmap de la matrice de confusion')\n",
    "plt.xlabel('Classe prédite')\n",
    "plt.ylabel('Classe réelle')\n",
    "plt.show()\n",
    "\n"
   ]
  },
  {
   "cell_type": "code",
   "execution_count": 10,
   "id": "2f6a959b-26f4-43ec-9a83-9850f815f386",
   "metadata": {
    "tags": []
   },
   "outputs": [
    {
     "data": {
      "text/plain": [
       "0.0"
      ]
     },
     "execution_count": 10,
     "metadata": {},
     "output_type": "execute_result"
    }
   ],
   "source": [
    "features_train, features_test, labels_train, labels_test = train_test_split( features,labels, test_size=0.20, random_state=run)\n",
    "\n",
    "model = GaussianNB()\n",
    "\n",
    "model.fit(features_train, labels_train)\n",
    "\n",
    "model.score(features_test,labels_test)"
   ]
  },
  {
   "cell_type": "code",
   "execution_count": 14,
   "id": "a16509e4-5fcf-4d7b-b108-55a8e5cabf27",
   "metadata": {
    "tags": []
   },
   "outputs": [],
   "source": [
    "n_neighbors = np.arange(1, 100) \n",
    "\n",
    "score =[]\n",
    "for i, n_neighbor in enumerate(n_neighbors):\n",
    "    features_train, features_test, labels_train, labels_test = train_test_split( features,labels, test_size=0.20, random_state=run)\n",
    "\n",
    "    model2 = KNeighborsClassifier(n_neighbors = n_neighbor).fit(features_train, labels_train)\n",
    "\n",
    "    model2.fit(features_train, labels_train)\n",
    "\n",
    "    a = model2.score(features_test,labels_test)\n",
    "    score.append(a)"
   ]
  },
  {
   "cell_type": "code",
   "execution_count": 15,
   "id": "65865f33-156a-4e7a-b3db-b5f14f7edc3a",
   "metadata": {
    "tags": []
   },
   "outputs": [
    {
     "data": {
      "text/plain": [
       "[<matplotlib.lines.Line2D at 0x7fcc7a0fa520>]"
      ]
     },
     "execution_count": 15,
     "metadata": {},
     "output_type": "execute_result"
    },
    {
     "data": {
      "image/png": "[encoded data removed]",
      "text/plain": [
       "<Figure size 432x288 with 1 Axes>"
      ]
     },
     "metadata": {
      "needs_background": "light"
     },
     "output_type": "display_data"
    }
   ],
   "source": [
    "plt.plot(n_neighbors,score)"
   ]
  },
  {
   "cell_type": "code",
   "execution_count": 17,
   "id": "5398475c-de8f-4190-9a95-fff3c01c2f69",
   "metadata": {
    "tags": []
   },
   "outputs": [
    {
     "name": "stdout",
     "output_type": "stream",
     "text": [
      "Précision du modèle : 0.05\n"
     ]
    }
   ],
   "source": [
    "from sklearn.svm import LinearSVC\n",
    "\n",
    "features_train, features_test, labels_train, labels_test = train_test_split(features, labels, test_size=0.20, random_state=run)\n",
    "\n",
    "# Initialisation du modèle LinearSVC\n",
    "model = LinearSVC()\n",
    "\n",
    "# Entraînement du modèle sur le train set\n",
    "model.fit(features_train, labels_train)\n",
    "\n",
    "# Évaluation de la performance du modèle sur le test set\n",
    "accuracy = model.score(features_test, labels_test)\n",
    "print(\"Précision du modèle : {:.2f}\".format(accuracy))"
   ]
  },
  {
   "cell_type": "code",
   "execution_count": null,
   "id": "9998c7da-d6dd-4005-948e-b336e86cf14a",
   "metadata": {
    "tags": []
   },
   "outputs": [],
   "source": [
    "from sklearn.model_selection import GridSearchCV\n",
    "from sklearn.svm import LinearSVC\n",
    "from sklearn.model_selection import train_test_split\n",
    "\n",
    "# Supposons que vous ayez déjà les données features et labels\n",
    "\n",
    "# Split des données en train et test sets\n",
    "features_train, features_test, labels_train, labels_test = train_test_split(features, labels, test_size=0.20, random_state=run)\n",
    "\n",
    "# Initialisation du modèle LinearSVC\n",
    "model = LinearSVC()\n",
    "\n",
    "# Définition de la grille des hyperparamètres à explorer\n",
    "param_grid = {\n",
    "    'C': [0.01, 0.1, 1.0, 10.0],  # Valeurs de l'hyperparamètre C à explorer\n",
    "    'penalty': ['l1', 'l2'],       # Méthode de régularisation (l1 ou l2)\n",
    "    'dual': [False],               # Paramètre spécifique de LinearSVC (défini sur False pour des problèmes non duaux)\n",
    "}\n",
    "\n",
    "# Recherche des meilleures combinaisons d'hyperparamètres avec GridSearchCV\n",
    "grid_search = GridSearchCV(model, param_grid, cv=5)  # cv = nombre de folds pour la validation croisée\n",
    "\n",
    "# Entraînement du modèle avec la recherche des hyperparamètres\n",
    "grid_search.fit(features_train, labels_train)\n",
    "\n",
    "# Affichage des meilleurs hyperparamètres trouvés\n",
    "print(\"Meilleurs hyperparamètres : \", grid_search.best_params_)\n",
    "\n",
    "# Évaluation de la performance du modèle avec les meilleurs hyperparamètres sur le test set\n",
    "best_model = grid_search.best_estimator_\n",
    "accuracy = best_model.score(features_test, labels_test)\n",
    "print(\"Précision du modèle avec les meilleurs hyperparamètres : {:.2f}\".format(accuracy))\n"
   ]
  },
  {
   "cell_type": "code",
   "execution_count": null,
   "id": "2a30c70d-a9bf-428d-9674-76d22d8e3d8d",
   "metadata": {},
   "outputs": [],
   "source": [
    "model = NomDuModele(parametres,hypermarametres)\n",
    "model.fit(X_train,y_train) # apprentissage supervisé\n",
    "model.fit(X_train)"
   ]
  }
 ],
 "metadata": {
  "kernelspec": {
   "display_name": "ulascombes",
   "language": "python",
   "name": "ulascombes"
  },
  "language_info": {
   "codemirror_mode": {
    "name": "ipython",
    "version": 3
   },
   "file_extension": ".py",
   "mimetype": "text/x-python",
   "name": "python",
   "nbconvert_exporter": "python",
   "pygments_lexer": "ipython3",
   "version": "3.9.13"
  }
 },
 "nbformat": 4,
 "nbformat_minor": 5
}
