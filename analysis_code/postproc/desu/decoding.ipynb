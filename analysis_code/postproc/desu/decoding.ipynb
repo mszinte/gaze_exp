{
 "cells": [
  {
   "cell_type": "markdown",
   "id": "d0206e3b",
   "metadata": {},
   "source": [
    "# Parameters and import data"
   ]
  },
  {
   "cell_type": "code",
   "execution_count": 1,
   "id": "4f429a43-8dfd-4807-8ee9-f5c43b74258c",
   "metadata": {
    "tags": []
   },
   "outputs": [],
   "source": [
    "# General import \n",
    "import numpy as np\n",
    "import matplotlib.pyplot as plt\n",
    "import pandas as pd\n",
    "import os\n",
    "import random \n",
    "\n",
    "# Stop warnings\n",
    "import warnings\n",
    "warnings.filterwarnings(\"ignore\")\n",
    "\n",
    "#sklearn import\n",
    "from sklearn.model_selection import train_test_split\n",
    "from sklearn.neighbors import KNeighborsClassifier\n",
    "from sklearn.metrics import confusion_matrix, ConfusionMatrixDisplay\n",
    "from sklearn.utils import shuffle\n",
    "from sklearn.naive_bayes import GaussianNB\n",
    "from sklearn.tree import DecisionTreeClassifier\n",
    "from sklearn.ensemble import RandomForestClassifier\n",
    "from sklearn.neural_network import MLPClassifier\n",
    "from sklearn.model_selection import GridSearchCV\n",
    "\n",
    "\n",
    "\n",
    "# figure imports\n",
    "import plotly.graph_objects as go\n",
    "from plotly.subplots import make_subplots\n",
    "import plotly.express as px\n",
    "import seaborn as sns\n"
   ]
  },
  {
   "cell_type": "code",
   "execution_count": 2,
   "id": "06b15127",
   "metadata": {
    "tags": []
   },
   "outputs": [
    {
     "ename": "FileNotFoundError",
     "evalue": "[Errno 2] No such file or directory: '/home/ulascombes/disks/meso_shared/gaze_exp/derivatives/pp_data/sub-001/desu/df_task_GazeLines_runs.tsv'",
     "output_type": "error",
     "traceback": [
      "\u001b[0;31m---------------------------------------------------------------------------\u001b[0m",
      "\u001b[0;31mFileNotFoundError\u001b[0m                         Traceback (most recent call last)",
      "\u001b[0;32m/var/folders/23/5sgzmvyd5z19_rg8xcncjs1c0000gn/T/ipykernel_712/3028677441.py\u001b[0m in \u001b[0;36m<module>\u001b[0;34m\u001b[0m\n\u001b[1;32m     13\u001b[0m \u001b[0;34m\u001b[0m\u001b[0m\n\u001b[1;32m     14\u001b[0m \u001b[0;31m# import datas\u001b[0m\u001b[0;34m\u001b[0m\u001b[0;34m\u001b[0m\u001b[0m\n\u001b[0;32m---> 15\u001b[0;31m \u001b[0mdf_gazelines\u001b[0m \u001b[0;34m=\u001b[0m\u001b[0mpd\u001b[0m\u001b[0;34m.\u001b[0m\u001b[0mread_table\u001b[0m\u001b[0;34m(\u001b[0m\u001b[0;34m'{}/{}'\u001b[0m\u001b[0;34m.\u001b[0m\u001b[0mformat\u001b[0m\u001b[0;34m(\u001b[0m\u001b[0mdf_fn\u001b[0m\u001b[0;34m,\u001b[0m\u001b[0mdf_name_GazeLines\u001b[0m\u001b[0;34m)\u001b[0m\u001b[0;34m)\u001b[0m\u001b[0;34m\u001b[0m\u001b[0;34m\u001b[0m\u001b[0m\n\u001b[0m\u001b[1;32m     16\u001b[0m \u001b[0mdf_gazecolumns\u001b[0m \u001b[0;34m=\u001b[0m\u001b[0mpd\u001b[0m\u001b[0;34m.\u001b[0m\u001b[0mread_table\u001b[0m\u001b[0;34m(\u001b[0m\u001b[0;34m'{}/{}'\u001b[0m\u001b[0;34m.\u001b[0m\u001b[0mformat\u001b[0m\u001b[0;34m(\u001b[0m\u001b[0mdf_fn\u001b[0m\u001b[0;34m,\u001b[0m\u001b[0mdf_name_GazeColumns\u001b[0m\u001b[0;34m)\u001b[0m\u001b[0;34m)\u001b[0m\u001b[0;34m\u001b[0m\u001b[0;34m\u001b[0m\u001b[0m\n\u001b[1;32m     17\u001b[0m \u001b[0;34m\u001b[0m\u001b[0m\n",
      "\u001b[0;32m~/softwares/anaconda3/envs/desu/lib/python3.9/site-packages/pandas/util/_decorators.py\u001b[0m in \u001b[0;36mwrapper\u001b[0;34m(*args, **kwargs)\u001b[0m\n\u001b[1;32m    209\u001b[0m                 \u001b[0;32melse\u001b[0m\u001b[0;34m:\u001b[0m\u001b[0;34m\u001b[0m\u001b[0;34m\u001b[0m\u001b[0m\n\u001b[1;32m    210\u001b[0m                     \u001b[0mkwargs\u001b[0m\u001b[0;34m[\u001b[0m\u001b[0mnew_arg_name\u001b[0m\u001b[0;34m]\u001b[0m \u001b[0;34m=\u001b[0m \u001b[0mnew_arg_value\u001b[0m\u001b[0;34m\u001b[0m\u001b[0;34m\u001b[0m\u001b[0m\n\u001b[0;32m--> 211\u001b[0;31m             \u001b[0;32mreturn\u001b[0m \u001b[0mfunc\u001b[0m\u001b[0;34m(\u001b[0m\u001b[0;34m*\u001b[0m\u001b[0margs\u001b[0m\u001b[0;34m,\u001b[0m \u001b[0;34m**\u001b[0m\u001b[0mkwargs\u001b[0m\u001b[0;34m)\u001b[0m\u001b[0;34m\u001b[0m\u001b[0;34m\u001b[0m\u001b[0m\n\u001b[0m\u001b[1;32m    212\u001b[0m \u001b[0;34m\u001b[0m\u001b[0m\n\u001b[1;32m    213\u001b[0m         \u001b[0;32mreturn\u001b[0m \u001b[0mcast\u001b[0m\u001b[0;34m(\u001b[0m\u001b[0mF\u001b[0m\u001b[0;34m,\u001b[0m \u001b[0mwrapper\u001b[0m\u001b[0;34m)\u001b[0m\u001b[0;34m\u001b[0m\u001b[0;34m\u001b[0m\u001b[0m\n",
      "\u001b[0;32m~/softwares/anaconda3/envs/desu/lib/python3.9/site-packages/pandas/util/_decorators.py\u001b[0m in \u001b[0;36mwrapper\u001b[0;34m(*args, **kwargs)\u001b[0m\n\u001b[1;32m    329\u001b[0m                     \u001b[0mstacklevel\u001b[0m\u001b[0;34m=\u001b[0m\u001b[0mfind_stack_level\u001b[0m\u001b[0;34m(\u001b[0m\u001b[0;34m)\u001b[0m\u001b[0;34m,\u001b[0m\u001b[0;34m\u001b[0m\u001b[0;34m\u001b[0m\u001b[0m\n\u001b[1;32m    330\u001b[0m                 )\n\u001b[0;32m--> 331\u001b[0;31m             \u001b[0;32mreturn\u001b[0m \u001b[0mfunc\u001b[0m\u001b[0;34m(\u001b[0m\u001b[0;34m*\u001b[0m\u001b[0margs\u001b[0m\u001b[0;34m,\u001b[0m \u001b[0;34m**\u001b[0m\u001b[0mkwargs\u001b[0m\u001b[0;34m)\u001b[0m\u001b[0;34m\u001b[0m\u001b[0;34m\u001b[0m\u001b[0m\n\u001b[0m\u001b[1;32m    332\u001b[0m \u001b[0;34m\u001b[0m\u001b[0m\n\u001b[1;32m    333\u001b[0m         \u001b[0;31m# error: \"Callable[[VarArg(Any), KwArg(Any)], Any]\" has no\u001b[0m\u001b[0;34m\u001b[0m\u001b[0;34m\u001b[0m\u001b[0m\n",
      "\u001b[0;32m~/softwares/anaconda3/envs/desu/lib/python3.9/site-packages/pandas/io/parsers/readers.py\u001b[0m in \u001b[0;36mread_table\u001b[0;34m(filepath_or_buffer, sep, delimiter, header, names, index_col, usecols, squeeze, prefix, mangle_dupe_cols, dtype, engine, converters, true_values, false_values, skipinitialspace, skiprows, skipfooter, nrows, na_values, keep_default_na, na_filter, verbose, skip_blank_lines, parse_dates, infer_datetime_format, keep_date_col, date_parser, dayfirst, cache_dates, iterator, chunksize, compression, thousands, decimal, lineterminator, quotechar, quoting, doublequote, escapechar, comment, encoding, encoding_errors, dialect, error_bad_lines, warn_bad_lines, on_bad_lines, delim_whitespace, low_memory, memory_map, float_precision, storage_options)\u001b[0m\n\u001b[1;32m   1287\u001b[0m     \u001b[0mkwds\u001b[0m\u001b[0;34m.\u001b[0m\u001b[0mupdate\u001b[0m\u001b[0;34m(\u001b[0m\u001b[0mkwds_defaults\u001b[0m\u001b[0;34m)\u001b[0m\u001b[0;34m\u001b[0m\u001b[0;34m\u001b[0m\u001b[0m\n\u001b[1;32m   1288\u001b[0m \u001b[0;34m\u001b[0m\u001b[0m\n\u001b[0;32m-> 1289\u001b[0;31m     \u001b[0;32mreturn\u001b[0m \u001b[0m_read\u001b[0m\u001b[0;34m(\u001b[0m\u001b[0mfilepath_or_buffer\u001b[0m\u001b[0;34m,\u001b[0m \u001b[0mkwds\u001b[0m\u001b[0;34m)\u001b[0m\u001b[0;34m\u001b[0m\u001b[0;34m\u001b[0m\u001b[0m\n\u001b[0m\u001b[1;32m   1290\u001b[0m \u001b[0;34m\u001b[0m\u001b[0m\n\u001b[1;32m   1291\u001b[0m \u001b[0;34m\u001b[0m\u001b[0m\n",
      "\u001b[0;32m~/softwares/anaconda3/envs/desu/lib/python3.9/site-packages/pandas/io/parsers/readers.py\u001b[0m in \u001b[0;36m_read\u001b[0;34m(filepath_or_buffer, kwds)\u001b[0m\n\u001b[1;32m    603\u001b[0m \u001b[0;34m\u001b[0m\u001b[0m\n\u001b[1;32m    604\u001b[0m     \u001b[0;31m# Create the parser.\u001b[0m\u001b[0;34m\u001b[0m\u001b[0;34m\u001b[0m\u001b[0m\n\u001b[0;32m--> 605\u001b[0;31m     \u001b[0mparser\u001b[0m \u001b[0;34m=\u001b[0m \u001b[0mTextFileReader\u001b[0m\u001b[0;34m(\u001b[0m\u001b[0mfilepath_or_buffer\u001b[0m\u001b[0;34m,\u001b[0m \u001b[0;34m**\u001b[0m\u001b[0mkwds\u001b[0m\u001b[0;34m)\u001b[0m\u001b[0;34m\u001b[0m\u001b[0;34m\u001b[0m\u001b[0m\n\u001b[0m\u001b[1;32m    606\u001b[0m \u001b[0;34m\u001b[0m\u001b[0m\n\u001b[1;32m    607\u001b[0m     \u001b[0;32mif\u001b[0m \u001b[0mchunksize\u001b[0m \u001b[0;32mor\u001b[0m \u001b[0miterator\u001b[0m\u001b[0;34m:\u001b[0m\u001b[0;34m\u001b[0m\u001b[0;34m\u001b[0m\u001b[0m\n",
      "\u001b[0;32m~/softwares/anaconda3/envs/desu/lib/python3.9/site-packages/pandas/io/parsers/readers.py\u001b[0m in \u001b[0;36m__init__\u001b[0;34m(self, f, engine, **kwds)\u001b[0m\n\u001b[1;32m   1440\u001b[0m \u001b[0;34m\u001b[0m\u001b[0m\n\u001b[1;32m   1441\u001b[0m         \u001b[0mself\u001b[0m\u001b[0;34m.\u001b[0m\u001b[0mhandles\u001b[0m\u001b[0;34m:\u001b[0m \u001b[0mIOHandles\u001b[0m \u001b[0;34m|\u001b[0m \u001b[0;32mNone\u001b[0m \u001b[0;34m=\u001b[0m \u001b[0;32mNone\u001b[0m\u001b[0;34m\u001b[0m\u001b[0;34m\u001b[0m\u001b[0m\n\u001b[0;32m-> 1442\u001b[0;31m         \u001b[0mself\u001b[0m\u001b[0;34m.\u001b[0m\u001b[0m_engine\u001b[0m \u001b[0;34m=\u001b[0m \u001b[0mself\u001b[0m\u001b[0;34m.\u001b[0m\u001b[0m_make_engine\u001b[0m\u001b[0;34m(\u001b[0m\u001b[0mf\u001b[0m\u001b[0;34m,\u001b[0m \u001b[0mself\u001b[0m\u001b[0;34m.\u001b[0m\u001b[0mengine\u001b[0m\u001b[0;34m)\u001b[0m\u001b[0;34m\u001b[0m\u001b[0;34m\u001b[0m\u001b[0m\n\u001b[0m\u001b[1;32m   1443\u001b[0m \u001b[0;34m\u001b[0m\u001b[0m\n\u001b[1;32m   1444\u001b[0m     \u001b[0;32mdef\u001b[0m \u001b[0mclose\u001b[0m\u001b[0;34m(\u001b[0m\u001b[0mself\u001b[0m\u001b[0;34m)\u001b[0m \u001b[0;34m->\u001b[0m \u001b[0;32mNone\u001b[0m\u001b[0;34m:\u001b[0m\u001b[0;34m\u001b[0m\u001b[0;34m\u001b[0m\u001b[0m\n",
      "\u001b[0;32m~/softwares/anaconda3/envs/desu/lib/python3.9/site-packages/pandas/io/parsers/readers.py\u001b[0m in \u001b[0;36m_make_engine\u001b[0;34m(self, f, engine)\u001b[0m\n\u001b[1;32m   1733\u001b[0m                 \u001b[0;32mif\u001b[0m \u001b[0;34m\"b\"\u001b[0m \u001b[0;32mnot\u001b[0m \u001b[0;32min\u001b[0m \u001b[0mmode\u001b[0m\u001b[0;34m:\u001b[0m\u001b[0;34m\u001b[0m\u001b[0;34m\u001b[0m\u001b[0m\n\u001b[1;32m   1734\u001b[0m                     \u001b[0mmode\u001b[0m \u001b[0;34m+=\u001b[0m \u001b[0;34m\"b\"\u001b[0m\u001b[0;34m\u001b[0m\u001b[0;34m\u001b[0m\u001b[0m\n\u001b[0;32m-> 1735\u001b[0;31m             self.handles = get_handle(\n\u001b[0m\u001b[1;32m   1736\u001b[0m                 \u001b[0mf\u001b[0m\u001b[0;34m,\u001b[0m\u001b[0;34m\u001b[0m\u001b[0;34m\u001b[0m\u001b[0m\n\u001b[1;32m   1737\u001b[0m                 \u001b[0mmode\u001b[0m\u001b[0;34m,\u001b[0m\u001b[0;34m\u001b[0m\u001b[0;34m\u001b[0m\u001b[0m\n",
      "\u001b[0;32m~/softwares/anaconda3/envs/desu/lib/python3.9/site-packages/pandas/io/common.py\u001b[0m in \u001b[0;36mget_handle\u001b[0;34m(path_or_buf, mode, encoding, compression, memory_map, is_text, errors, storage_options)\u001b[0m\n\u001b[1;32m    854\u001b[0m         \u001b[0;32mif\u001b[0m \u001b[0mioargs\u001b[0m\u001b[0;34m.\u001b[0m\u001b[0mencoding\u001b[0m \u001b[0;32mand\u001b[0m \u001b[0;34m\"b\"\u001b[0m \u001b[0;32mnot\u001b[0m \u001b[0;32min\u001b[0m \u001b[0mioargs\u001b[0m\u001b[0;34m.\u001b[0m\u001b[0mmode\u001b[0m\u001b[0;34m:\u001b[0m\u001b[0;34m\u001b[0m\u001b[0;34m\u001b[0m\u001b[0m\n\u001b[1;32m    855\u001b[0m             \u001b[0;31m# Encoding\u001b[0m\u001b[0;34m\u001b[0m\u001b[0;34m\u001b[0m\u001b[0m\n\u001b[0;32m--> 856\u001b[0;31m             handle = open(\n\u001b[0m\u001b[1;32m    857\u001b[0m                 \u001b[0mhandle\u001b[0m\u001b[0;34m,\u001b[0m\u001b[0;34m\u001b[0m\u001b[0;34m\u001b[0m\u001b[0m\n\u001b[1;32m    858\u001b[0m                 \u001b[0mioargs\u001b[0m\u001b[0;34m.\u001b[0m\u001b[0mmode\u001b[0m\u001b[0;34m,\u001b[0m\u001b[0;34m\u001b[0m\u001b[0;34m\u001b[0m\u001b[0m\n",
      "\u001b[0;31mFileNotFoundError\u001b[0m: [Errno 2] No such file or directory: '/home/ulascombes/disks/meso_shared/gaze_exp/derivatives/pp_data/sub-001/desu/df_task_GazeLines_runs.tsv'"
     ]
    }
   ],
   "source": [
    "# parameters\n",
    "n_eye_positions = 25\n",
    "subject = 'sub-001'\n",
    "\n",
    "# defind data directory \n",
    "project_dir = '/home/ulascombes/disks/meso_shared/gaze_exp'\n",
    "pp_dir = '{}/derivatives/pp_data'.format(project_dir)\n",
    "df_fn = \"{}/{}/desu\".format(pp_dir,subject)\n",
    "\n",
    "# tsv names\n",
    "df_name_GazeLines ='df_task_GazeLines_runs.tsv'\n",
    "df_name_GazeColumns ='df_task_GazeColumns_runs.tsv'\n",
    "\n",
    "# import datas \n",
    "df_gazelines =pd.read_table('{}/{}'.format(df_fn,df_name_GazeLines))\n",
    "df_gazecolumns =pd.read_table('{}/{}'.format(df_fn,df_name_GazeColumns))\n",
    "\n",
    "### drop 3 first TRs\n",
    "df_gazelines = df_gazelines.drop(df_gazelines.index[:3]).reset_index(drop=True)\n",
    "df_gazecolumns = df_gazecolumns.drop(df_gazecolumns.index[:3]).reset_index(drop=True)"
   ]
  },
  {
   "cell_type": "code",
   "execution_count": 3,
   "id": "bdc83677",
   "metadata": {
    "tags": []
   },
   "outputs": [
    {
     "data": {
      "text/plain": [
       "(194, 9460)"
      ]
     },
     "execution_count": 3,
     "metadata": {},
     "output_type": "execute_result"
    }
   ],
   "source": [
    "df_gazelines.shape"
   ]
  },
  {
   "cell_type": "code",
   "execution_count": 4,
   "id": "2d149e1a",
   "metadata": {
    "tags": []
   },
   "outputs": [
    {
     "data": {
      "text/plain": [
       "[<matplotlib.lines.Line2D at 0x7fc9a4ce3670>]"
      ]
     },
     "execution_count": 4,
     "metadata": {},
     "output_type": "execute_result"
    },
    {
     "data": {
      "image/png": "[encoded data removed]",
      "text/plain": [
       "<Figure size 432x288 with 1 Axes>"
      ]
     },
     "metadata": {
      "needs_background": "light"
     },
     "output_type": "display_data"
    }
   ],
   "source": [
    "plt.plot(df_gazelines.index, df_gazelines['9000'])"
   ]
  },
  {
   "cell_type": "code",
   "execution_count": 5,
   "id": "228b9b20-0692-46bb-8f40-844f06a36631",
   "metadata": {
    "tags": []
   },
   "outputs": [
    {
     "data": {
      "text/plain": [
       "array([ 1,  1,  2,  2,  3,  3,  4,  4,  5,  5,  6,  6,  7,  7,  8,  8,  9,\n",
       "        9, 10, 10, 11, 11, 12, 12, 13, 13, 14, 14, 15, 15, 16, 16, 17, 17,\n",
       "       18, 18, 19, 19, 20, 20, 21, 21, 22, 22, 23, 23, 24, 24, 25, 25, 24,\n",
       "       24, 23, 23, 22, 22, 21, 21, 20, 20, 19, 19, 18, 18, 17, 17, 16, 16,\n",
       "       15, 15, 14, 14, 13, 13, 12, 12, 11, 11, 10, 10,  9,  9,  8,  8,  7,\n",
       "        7,  6,  6,  5,  5,  4,  4,  3,  3,  2,  2,  1,  1,  2,  2,  3,  3,\n",
       "        4,  4,  5,  5,  6,  6,  7,  7,  8,  8,  9,  9, 10, 10, 11, 11, 12,\n",
       "       12, 13, 13, 14, 14, 15, 15, 16, 16, 17, 17, 18, 18, 19, 19, 20, 20,\n",
       "       21, 21, 22, 22, 23, 23, 24, 24, 25, 25, 24, 24, 23, 23, 22, 22, 21,\n",
       "       21, 20, 20, 19, 19, 18, 18, 17, 17, 16, 16, 15, 15, 14, 14, 13, 13,\n",
       "       12, 12, 11, 11, 10, 10,  9,  9,  8,  8,  7,  7,  6,  6,  5,  5,  4,\n",
       "        4,  3,  3,  2,  2,  1,  1])"
      ]
     },
     "execution_count": 5,
     "metadata": {},
     "output_type": "execute_result"
    }
   ],
   "source": [
    "gazelines_position"
   ]
  },
  {
   "cell_type": "markdown",
   "id": "827e83f8",
   "metadata": {
    "tags": []
   },
   "source": [
    "# Make an object with eye poisitions on gazelines runs"
   ]
  },
  {
   "cell_type": "code",
   "execution_count": 3,
   "id": "2179d9c0",
   "metadata": {
    "tags": []
   },
   "outputs": [],
   "source": [
    "positions = []\n",
    "for i in range(n_eye_positions):\n",
    "    a = i +1\n",
    "    b = i +1\n",
    "    positions.append(a)\n",
    "    positions.append(b)\n",
    "positions_reverse = sorted(positions, reverse=True)\n",
    "\n",
    "positions_0 = np.concatenate((positions,positions_reverse[2:]))\n",
    "gazelines_position = np.concatenate((positions_0,positions_0[2:]))"
   ]
  },
  {
   "cell_type": "code",
   "execution_count": 6,
   "id": "250f3498",
   "metadata": {
    "tags": []
   },
   "outputs": [
    {
     "data": {
      "text/plain": [
       "array([ 1,  1,  2,  2,  3,  3,  4,  4,  5,  5,  6,  6,  7,  7,  8,  8,  9,\n",
       "        9, 10, 10, 11, 11, 12, 12, 13, 13, 14, 14, 15, 15, 16, 16, 17, 17,\n",
       "       18, 18, 19, 19, 20, 20, 21, 21, 22, 22, 23, 23, 24, 24, 25, 25, 24,\n",
       "       24, 23, 23, 22, 22, 21, 21, 20, 20, 19, 19, 18, 18, 17, 17, 16, 16,\n",
       "       15, 15, 14, 14, 13, 13, 12, 12, 11, 11, 10, 10,  9,  9,  8,  8,  7,\n",
       "        7,  6,  6,  5,  5,  4,  4,  3,  3,  2,  2,  1,  1,  2,  2,  3,  3,\n",
       "        4,  4,  5,  5,  6,  6,  7,  7,  8,  8,  9,  9, 10, 10, 11, 11, 12,\n",
       "       12, 13, 13, 14, 14, 15, 15, 16, 16, 17, 17, 18, 18, 19, 19, 20, 20,\n",
       "       21, 21, 22, 22, 23, 23, 24, 24, 25, 25, 24, 24, 23, 23, 22, 22, 21,\n",
       "       21, 20, 20, 19, 19, 18, 18, 17, 17, 16, 16, 15, 15, 14, 14, 13, 13,\n",
       "       12, 12, 11, 11, 10, 10,  9,  9,  8,  8,  7,  7,  6,  6,  5,  5,  4,\n",
       "        4,  3,  3,  2,  2,  1,  1])"
      ]
     },
     "execution_count": 6,
     "metadata": {},
     "output_type": "execute_result"
    }
   ],
   "source": [
    "gazelines_position"
   ]
  },
  {
   "cell_type": "markdown",
   "id": "02cd3933-777e-4c82-b740-586f79839a07",
   "metadata": {},
   "source": [
    "# Make an object with eye poisitions on gazecolumns runs"
   ]
  },
  {
   "cell_type": "code",
   "execution_count": 6,
   "id": "5a7131a6-7f80-4037-b778-6ca66074ca4e",
   "metadata": {},
   "outputs": [],
   "source": [
    "columns_positions = [1,1,10,10,11,11,20,20,21,21,\n",
    "                     22,22,19,19,12,12,9,9,2,2,\n",
    "                     3,3,8,8,13,13,18,18,23,23,\n",
    "                     24,24,17,17,14,14,7,7,4,4,\n",
    "                     5,5,6,6,15,15,16,16,25,25]\n",
    "                         \n",
    "                        \n",
    "                         \n",
    "                         \n",
    "\n",
    "columns_positions_reverse = sorted(columns_positions, reverse=True)\n",
    "\n",
    "columns_positions_0 = np.concatenate((columns_positions,columns_positions_reverse[2:]))\n",
    "gazecolumns_position = np.concatenate((columns_positions_0,columns_positions_0[2:]))\n",
    "                        "
   ]
  },
  {
   "cell_type": "markdown",
   "id": "2b1b40a7-6896-4197-8b48-38a56f7d5d19",
   "metadata": {},
   "source": [
    "# Concate gazelines and gaze columns in axis =0 "
   ]
  },
  {
   "cell_type": "code",
   "execution_count": 20,
   "id": "3c253769-1c10-4631-8e40-a65a33b10521",
   "metadata": {},
   "outputs": [],
   "source": [
    "df_gaze_tot = pd.concat([df_gazelines,df_gazecolumns],axis=0).reset_index()"
   ]
  },
  {
   "cell_type": "code",
   "execution_count": 14,
   "id": "f95a67ae-f0d1-4c78-b604-374e769088bf",
   "metadata": {},
   "outputs": [
    {
     "data": {
      "text/plain": [
       "(388, 9461)"
      ]
     },
     "execution_count": 14,
     "metadata": {},
     "output_type": "execute_result"
    }
   ],
   "source": [
    "df_gaze_tot.shape"
   ]
  },
  {
   "cell_type": "code",
   "execution_count": 19,
   "id": "b619d8cd-e251-4978-8003-655ebdb5d1a5",
   "metadata": {},
   "outputs": [],
   "source": [
    "total_position = np.concatenate([gazelines_position,gazecolumns_position],axis=0)"
   ]
  },
  {
   "cell_type": "code",
   "execution_count": 21,
   "id": "31784354-3ef6-43ac-8bbd-fc4420023cb2",
   "metadata": {},
   "outputs": [
    {
     "data": {
      "text/plain": [
       "[<matplotlib.lines.Line2D at 0x7fc51cf32070>]"
      ]
     },
     "execution_count": 21,
     "metadata": {},
     "output_type": "execute_result"
    },
    {
     "data": {
      "image/png": "[encoded data removed]",
      "text/plain": [
       "<Figure size 432x288 with 1 Axes>"
      ]
     },
     "metadata": {
      "needs_background": "light"
     },
     "output_type": "display_data"
    }
   ],
   "source": [
    "plt.plot(df_gaze_tot.index, df_gaze_tot['900'])"
   ]
  },
  {
   "cell_type": "markdown",
   "id": "247bb35e-0bc2-49d6-b8db-1be9a2397684",
   "metadata": {},
   "source": [
    "# Decode position"
   ]
  },
  {
   "cell_type": "code",
   "execution_count": 25,
   "id": "4bb60f22-569b-40b8-a32d-8348a88b89d5",
   "metadata": {},
   "outputs": [],
   "source": [
    "X_train, X_test, y_train, y_test = train_test_split(df_gaze_tot, total_position,stratify=total_position, test_size=0.1, random_state=42)"
   ]
  },
  {
   "cell_type": "markdown",
   "id": "be4ef211-9098-4bce-b558-3e543c1fd47c",
   "metadata": {
    "jp-MarkdownHeadingCollapsed": true,
    "tags": []
   },
   "source": [
    "# Brouillon"
   ]
  },
  {
   "cell_type": "markdown",
   "id": "cb4ea3a8-1990-4073-bdbe-31b28b4f8c03",
   "metadata": {},
   "source": [
    "## check how many time each position is fixe"
   ]
  },
  {
   "cell_type": "code",
   "execution_count": 7,
   "id": "f9865d85-b6d1-4c88-b073-0a2866b1692d",
   "metadata": {
    "tags": []
   },
   "outputs": [],
   "source": [
    "valeurs_uniques, comptages = np.unique(gazelines_position, return_counts=True)"
   ]
  },
  {
   "cell_type": "code",
   "execution_count": 8,
   "id": "2abf7215-7d7c-402f-934c-046dd5e86cb3",
   "metadata": {
    "tags": []
   },
   "outputs": [
    {
     "name": "stdout",
     "output_type": "stream",
     "text": [
      "[ 1  2  3  4  5  6  7  8  9 10 11 12 13 14 15 16 17 18 19 20 21 22 23 24\n",
      " 25]\n",
      "[6 8 8 8 8 8 8 8 8 8 8 8 8 8 8 8 8 8 8 8 8 8 8 8 4]\n"
     ]
    }
   ],
   "source": [
    "print(valeurs_uniques)\n",
    "print(comptages)"
   ]
  },
  {
   "cell_type": "markdown",
   "id": "2ad032ad-9e06-476b-b0a6-2591fbe73ef0",
   "metadata": {},
   "source": [
    "position 1 and 25 are note fixed with the same number of the others, we will exluded them "
   ]
  },
  {
   "cell_type": "markdown",
   "id": "0a63eb3c-5590-44aa-860e-cf68abde3d52",
   "metadata": {
    "tags": []
   },
   "source": [
    "## make a final array \n"
   ]
  },
  {
   "cell_type": "code",
   "execution_count": 9,
   "id": "58009b59-9d68-4e71-ae27-984bb1a1be08",
   "metadata": {
    "tags": []
   },
   "outputs": [],
   "source": [
    "# make a data frame excluding position 1 and 25 \n",
    "a = df_gazelines\n",
    "a.index = gazelines_position\n",
    "df_sorted = a.sort_index()\n",
    "df = df_sorted.drop(index=[1,25])"
   ]
  },
  {
   "cell_type": "code",
   "execution_count": 10,
   "id": "e75a123e-6b35-4da3-a753-65bf196bdf16",
   "metadata": {},
   "outputs": [],
   "source": [
    "positions = np.arange(2,25)\n",
    "positions_to_keep = [2,5,20,24]"
   ]
  },
  {
   "cell_type": "code",
   "execution_count": 11,
   "id": "d5d01abf-3d41-4d7a-9369-e9f23978fca3",
   "metadata": {
    "tags": []
   },
   "outputs": [],
   "source": [
    "# make an empty final array with de good dimentions \n",
    "n_positions = 23 - len(positions_to_keep)\n",
    "n_repetition = 8 \n",
    "n_voxel = df.shape[1]\n",
    "final_array = np.empty((n_voxel,n_repetition, n_positions))"
   ]
  },
  {
   "cell_type": "code",
   "execution_count": 12,
   "id": "1fb664c1-cdb8-4647-9e94-c544ec669915",
   "metadata": {
    "tags": []
   },
   "outputs": [
    {
     "data": {
      "text/plain": [
       "(9460, 8, 19)"
      ]
     },
     "execution_count": 12,
     "metadata": {},
     "output_type": "execute_result"
    }
   ],
   "source": [
    "final_array.shape"
   ]
  },
  {
   "cell_type": "code",
   "execution_count": 13,
   "id": "afde07b2-4f7e-4e61-a478-c48151f05fa0",
   "metadata": {
    "tags": []
   },
   "outputs": [],
   "source": [
    "# feel the final array \n",
    "a = 0 \n",
    "for t,position in enumerate(positions) :\n",
    "    if position not in positions_to_keep :\n",
    "        a = a + 1  \n",
    "        row  = df.loc[df.index == int(position)].T\n",
    "        final_array[:, :,a-1 ] = row.values"
   ]
  },
  {
   "cell_type": "code",
   "execution_count": 14,
   "id": "7d8d8778-3d6e-4f2b-9afa-cdfea18838dc",
   "metadata": {
    "tags": []
   },
   "outputs": [
    {
     "data": {
      "text/plain": [
       "(9460, 8, 19)"
      ]
     },
     "execution_count": 14,
     "metadata": {},
     "output_type": "execute_result"
    }
   ],
   "source": [
    "final_array.shape"
   ]
  },
  {
   "cell_type": "markdown",
   "id": "4a6b3ef7-434a-41ea-ac11-8a9cbbabe281",
   "metadata": {
    "jp-MarkdownHeadingCollapsed": true
   },
   "source": [
    "### Vérifier le passage en 3D"
   ]
  },
  {
   "cell_type": "code",
   "execution_count": 15,
   "id": "00208947-a1f1-414f-965c-2a060de0084c",
   "metadata": {
    "tags": []
   },
   "outputs": [],
   "source": [
    "a = df.loc[df.index == 3].T"
   ]
  },
  {
   "cell_type": "code",
   "execution_count": 16,
   "id": "853fa046-0a5f-48e0-9eaf-65580375d941",
   "metadata": {
    "tags": []
   },
   "outputs": [
    {
     "data": {
      "image/png": "[encoded data removed]",
      "text/plain": [
       "<Figure size 432x288 with 1 Axes>"
      ]
     },
     "metadata": {
      "needs_background": "light"
     },
     "output_type": "display_data"
    }
   ],
   "source": [
    "plt.plot(a.iloc[0, :].values)  # Tracer la première ligne de \"a\"\n",
    "plt.show()"
   ]
  },
  {
   "cell_type": "code",
   "execution_count": 17,
   "id": "db8ee08e-aed7-4459-b377-b8324149ca67",
   "metadata": {
    "tags": []
   },
   "outputs": [
    {
     "data": {
      "text/plain": [
       "[<matplotlib.lines.Line2D at 0x7ff45d453c40>]"
      ]
     },
     "execution_count": 17,
     "metadata": {},
     "output_type": "execute_result"
    },
    {
     "data": {
      "image/png": "[encoded data removed]",
      "text/plain": [
       "<Figure size 432x288 with 1 Axes>"
      ]
     },
     "metadata": {
      "needs_background": "light"
     },
     "output_type": "display_data"
    }
   ],
   "source": [
    "plt.plot(final_array[0,:,0])"
   ]
  },
  {
   "cell_type": "markdown",
   "id": "6d1dbb76-2860-4e49-b7c6-7e8802b5f5fc",
   "metadata": {
    "jp-MarkdownHeadingCollapsed": true,
    "tags": []
   },
   "source": [
    "## Machine Learning"
   ]
  },
  {
   "cell_type": "markdown",
   "id": "59e518d5-bf0f-4368-a52e-696282f3f686",
   "metadata": {},
   "source": [
    "étapes : <br>\n",
    "garder 4 positions <br>\n",
    "refaire matrice <br>\n",
    "boucler sur les arbre qui ne voient quune position [:,:,t] <br>\n",
    "mettre le gread search avec refit = True (défaut) <br>\n",
    "stocker le meilleur model dans dictionaire (Hs.best_estimator_) <br>\n",
    "fair une fonction qui récupère ça <br>\n"
   ]
  },
  {
   "cell_type": "markdown",
   "id": "292aa04a-84c4-457b-8769-89dacda78ef9",
   "metadata": {},
   "source": [
    "premier : insgancier le modèle avant la boucle \n",
    "ou optimiser pour chacun "
   ]
  },
  {
   "cell_type": "code",
   "execution_count": 103,
   "id": "a7112262-9667-4cfb-9045-b5cf122c9678",
   "metadata": {},
   "outputs": [],
   "source": [
    "n_voxels = final_array.shape[0]\n",
    "\n",
    "# make train labels\n",
    "labels_train = np.zeros(n_positions)\n",
    "a = 0\n",
    "for t,position in enumerate(positions) :\n",
    "    if position not in positions_to_keep :\n",
    "        a = a + 1\n",
    "        labels_train[a-1]= position\n",
    "        \n",
    "labels_train = labels_train.reshape(1,19)\n",
    "labels_train = np.tile(labels_train, (n_voxels,1))"
   ]
  },
  {
   "cell_type": "code",
   "execution_count": 104,
   "id": "f65c6589-7c61-41fd-b61a-46e6c02b3c36",
   "metadata": {},
   "outputs": [],
   "source": [
    "# make test labels\n",
    "n_positions_to_keep = len(positions_to_keep)\n",
    "labels_test = np.zeros(n_positions_to_keep)\n",
    "a = 0\n",
    "for t,position in enumerate(positions_to_keep) :\n",
    "    a = a + 1\n",
    "    labels_test[a-1]= position\n",
    "        \n",
    "labels_test = labels_test.reshape(1,n_positions_to_keep)\n",
    "labels_test = np.tile(labels_test, (n_voxels,1))"
   ]
  },
  {
   "cell_type": "code",
   "execution_count": 105,
   "id": "9c291b24-72b7-4e46-936d-c50dee7a1fca",
   "metadata": {},
   "outputs": [],
   "source": [
    "# make test features\n",
    "n_repetition = 8 \n",
    "n_voxel = df.shape[1]\n",
    "features_test = np.empty((n_voxel,n_repetition, n_positions_to_keep))\n",
    "\n",
    "a = 0 \n",
    "for t,position in enumerate(positions_to_keep) :\n",
    "        a = a + 1  \n",
    "        row  = df.loc[df.index == int(position)].T\n",
    "        features_test[:, :,a-1 ] = row.values"
   ]
  },
  {
   "cell_type": "code",
   "execution_count": 74,
   "id": "01fee846-3ec4-44aa-a26e-95e53f206487",
   "metadata": {},
   "outputs": [
    {
     "data": {
      "text/plain": [
       "(9460, 8, 4)"
      ]
     },
     "execution_count": 74,
     "metadata": {},
     "output_type": "execute_result"
    }
   ],
   "source": [
    "features_test.shape"
   ]
  },
  {
   "cell_type": "code",
   "execution_count": 106,
   "id": "6fe383ee-a1f3-47bf-b030-f21c05b6b20a",
   "metadata": {},
   "outputs": [],
   "source": [
    "# make train features\n",
    "features_train = final_array.copy()"
   ]
  },
  {
   "cell_type": "code",
   "execution_count": 107,
   "id": "714a7003-6809-4473-82a1-963afd89a11d",
   "metadata": {},
   "outputs": [],
   "source": [
    "# defind param for GridSearchCV\n",
    "param_grid = {\n",
    "\"max_depth\": (2,3,4),\n",
    "\"min_samples_split\": [1,2,3]\n",
    " }"
   ]
  },
  {
   "cell_type": "code",
   "execution_count": 108,
   "id": "e06fd725-5c1b-459e-bc4b-65bfdce1c471",
   "metadata": {},
   "outputs": [],
   "source": [
    "model_num = []\n",
    "for t in range(n_positions) : \n",
    "    model_num.append(t)\n",
    "    "
   ]
  },
  {
   "cell_type": "code",
   "execution_count": 109,
   "id": "f38f7f7d-1485-43e8-9703-202bbf9ec432",
   "metadata": {},
   "outputs": [
    {
     "data": {
      "text/plain": [
       "[0, 1, 2, 3, 4, 5, 6, 7, 8, 9, 10, 11, 12, 13, 14, 15, 16, 17, 18]"
      ]
     },
     "execution_count": 109,
     "metadata": {},
     "output_type": "execute_result"
    }
   ],
   "source": [
    "model_num"
   ]
  },
  {
   "cell_type": "code",
   "execution_count": 123,
   "id": "1b2e1cf2-b845-4499-85fb-548e5a744c2b",
   "metadata": {},
   "outputs": [],
   "source": [
    "### in worging \n",
    "model_num = []\n",
    "model_perf = []\n",
    "\n",
    "for t in range(n_positions):\n",
    "    model = DecisionTreeClassifier(random_state=42)\n",
    "    search = GridSearchCV(model, param_grid, refit=True, cv=5)\n",
    "    search.fit(features_train[:,:,t], labels_train[:,t])    \n",
    "    model_num.append(t)\n",
    "    model_perf.append(search)\n"
   ]
  },
  {
   "cell_type": "code",
   "execution_count": 128,
   "id": "42fc57f3-b16f-43bc-a538-a22b96c6444f",
   "metadata": {},
   "outputs": [],
   "source": [
    "n_models = len(model_perf)\n",
    "predictions = []\n",
    "for p in range(n_positions_to_keep):\n",
    "    for t in range(n_models):\n",
    "        prediction = model_perf[t].best_estimator_.predict(features_test[:,:,p])\n",
    "        predictions.append(prediction)"
   ]
  },
  {
   "cell_type": "code",
   "execution_count": 132,
   "id": "f66f688d-a341-45e1-b3e5-cfa9d62fb8f4",
   "metadata": {},
   "outputs": [
    {
     "data": {
      "text/plain": [
       "(76, 9460)"
      ]
     },
     "execution_count": 132,
     "metadata": {},
     "output_type": "execute_result"
    }
   ],
   "source": [
    "np.shape(predictions)"
   ]
  },
  {
   "cell_type": "code",
   "execution_count": 133,
   "id": "6b0c7dab-79a1-4a41-ac77-318dbbe8180c",
   "metadata": {},
   "outputs": [
    {
     "data": {
      "text/plain": [
       "[array([3., 3., 3., ..., 3., 3., 3.]),\n",
       " array([4., 4., 4., ..., 4., 4., 4.]),\n",
       " array([6., 6., 6., ..., 6., 6., 6.]),\n",
       " array([7., 7., 7., ..., 7., 7., 7.]),\n",
       " array([8., 8., 8., ..., 8., 8., 8.]),\n",
       " array([9., 9., 9., ..., 9., 9., 9.]),\n",
       " array([10., 10., 10., ..., 10., 10., 10.]),\n",
       " array([11., 11., 11., ..., 11., 11., 11.]),\n",
       " array([12., 12., 12., ..., 12., 12., 12.]),\n",
       " array([13., 13., 13., ..., 13., 13., 13.]),\n",
       " array([14., 14., 14., ..., 14., 14., 14.]),\n",
       " array([15., 15., 15., ..., 15., 15., 15.]),\n",
       " array([16., 16., 16., ..., 16., 16., 16.]),\n",
       " array([17., 17., 17., ..., 17., 17., 17.]),\n",
       " array([18., 18., 18., ..., 18., 18., 18.]),\n",
       " array([19., 19., 19., ..., 19., 19., 19.]),\n",
       " array([21., 21., 21., ..., 21., 21., 21.]),\n",
       " array([22., 22., 22., ..., 22., 22., 22.]),\n",
       " array([23., 23., 23., ..., 23., 23., 23.]),\n",
       " array([3., 3., 3., ..., 3., 3., 3.]),\n",
       " array([4., 4., 4., ..., 4., 4., 4.]),\n",
       " array([6., 6., 6., ..., 6., 6., 6.]),\n",
       " array([7., 7., 7., ..., 7., 7., 7.]),\n",
       " array([8., 8., 8., ..., 8., 8., 8.]),\n",
       " array([9., 9., 9., ..., 9., 9., 9.]),\n",
       " array([10., 10., 10., ..., 10., 10., 10.]),\n",
       " array([11., 11., 11., ..., 11., 11., 11.]),\n",
       " array([12., 12., 12., ..., 12., 12., 12.]),\n",
       " array([13., 13., 13., ..., 13., 13., 13.]),\n",
       " array([14., 14., 14., ..., 14., 14., 14.]),\n",
       " array([15., 15., 15., ..., 15., 15., 15.]),\n",
       " array([16., 16., 16., ..., 16., 16., 16.]),\n",
       " array([17., 17., 17., ..., 17., 17., 17.]),\n",
       " array([18., 18., 18., ..., 18., 18., 18.]),\n",
       " array([19., 19., 19., ..., 19., 19., 19.]),\n",
       " array([21., 21., 21., ..., 21., 21., 21.]),\n",
       " array([22., 22., 22., ..., 22., 22., 22.]),\n",
       " array([23., 23., 23., ..., 23., 23., 23.]),\n",
       " array([3., 3., 3., ..., 3., 3., 3.]),\n",
       " array([4., 4., 4., ..., 4., 4., 4.]),\n",
       " array([6., 6., 6., ..., 6., 6., 6.]),\n",
       " array([7., 7., 7., ..., 7., 7., 7.]),\n",
       " array([8., 8., 8., ..., 8., 8., 8.]),\n",
       " array([9., 9., 9., ..., 9., 9., 9.]),\n",
       " array([10., 10., 10., ..., 10., 10., 10.]),\n",
       " array([11., 11., 11., ..., 11., 11., 11.]),\n",
       " array([12., 12., 12., ..., 12., 12., 12.]),\n",
       " array([13., 13., 13., ..., 13., 13., 13.]),\n",
       " array([14., 14., 14., ..., 14., 14., 14.]),\n",
       " array([15., 15., 15., ..., 15., 15., 15.]),\n",
       " array([16., 16., 16., ..., 16., 16., 16.]),\n",
       " array([17., 17., 17., ..., 17., 17., 17.]),\n",
       " array([18., 18., 18., ..., 18., 18., 18.]),\n",
       " array([19., 19., 19., ..., 19., 19., 19.]),\n",
       " array([21., 21., 21., ..., 21., 21., 21.]),\n",
       " array([22., 22., 22., ..., 22., 22., 22.]),\n",
       " array([23., 23., 23., ..., 23., 23., 23.]),\n",
       " array([3., 3., 3., ..., 3., 3., 3.]),\n",
       " array([4., 4., 4., ..., 4., 4., 4.]),\n",
       " array([6., 6., 6., ..., 6., 6., 6.]),\n",
       " array([7., 7., 7., ..., 7., 7., 7.]),\n",
       " array([8., 8., 8., ..., 8., 8., 8.]),\n",
       " array([9., 9., 9., ..., 9., 9., 9.]),\n",
       " array([10., 10., 10., ..., 10., 10., 10.]),\n",
       " array([11., 11., 11., ..., 11., 11., 11.]),\n",
       " array([12., 12., 12., ..., 12., 12., 12.]),\n",
       " array([13., 13., 13., ..., 13., 13., 13.]),\n",
       " array([14., 14., 14., ..., 14., 14., 14.]),\n",
       " array([15., 15., 15., ..., 15., 15., 15.]),\n",
       " array([16., 16., 16., ..., 16., 16., 16.]),\n",
       " array([17., 17., 17., ..., 17., 17., 17.]),\n",
       " array([18., 18., 18., ..., 18., 18., 18.]),\n",
       " array([19., 19., 19., ..., 19., 19., 19.]),\n",
       " array([21., 21., 21., ..., 21., 21., 21.]),\n",
       " array([22., 22., 22., ..., 22., 22., 22.]),\n",
       " array([23., 23., 23., ..., 23., 23., 23.])]"
      ]
     },
     "execution_count": 133,
     "metadata": {},
     "output_type": "execute_result"
    }
   ],
   "source": [
    "predictions"
   ]
  },
  {
   "cell_type": "code",
   "execution_count": 101,
   "id": "5a5143a6-a080-450d-bc6b-3af97dd3bb84",
   "metadata": {},
   "outputs": [
    {
     "ename": "TypeError",
     "evalue": "list indices must be integers or slices, not tuple",
     "output_type": "error",
     "traceback": [
      "\u001b[0;31m---------------------------------------------------------------------------\u001b[0m",
      "\u001b[0;31mTypeError\u001b[0m                                 Traceback (most recent call last)",
      "Input \u001b[0;32mIn [101]\u001b[0m, in \u001b[0;36m<cell line: 1>\u001b[0;34m()\u001b[0m\n\u001b[0;32m----> 1\u001b[0m \u001b[43mlabels_test\u001b[49m\u001b[43m[\u001b[49m\u001b[43m:\u001b[49m\u001b[43m,\u001b[49m\u001b[38;5;241;43m0\u001b[39;49m\u001b[43m]\u001b[49m\n",
      "\u001b[0;31mTypeError\u001b[0m: list indices must be integers or slices, not tuple"
     ]
    }
   ],
   "source": [
    "labels_test[:,0]"
   ]
  }
 ],
 "metadata": {
  "kernelspec": {
   "display_name": "desu",
   "language": "python",
   "name": "desu"
  },
  "language_info": {
   "codemirror_mode": {
    "name": "ipython",
    "version": 3
   },
   "file_extension": ".py",
   "mimetype": "text/x-python",
   "name": "python",
   "nbconvert_exporter": "python",
   "pygments_lexer": "ipython3",
   "version": "3.9.13"
  }
 },
 "nbformat": 4,
 "nbformat_minor": 5
}
